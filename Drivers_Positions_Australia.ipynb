{
 "cells": [
  {
   "cell_type": "code",
   "execution_count": 1,
   "id": "1ecd110d",
   "metadata": {},
   "outputs": [],
   "source": [
    "import fastf1 as ff1\n",
    "from fastf1 import plotting\n",
    "import matplotlib.pyplot as plt\n",
    "import matplotlib as mpl\n",
    "import numpy as np\n",
    "import pandas as pd\n",
    "import plotly.express as px"
   ]
  },
  {
   "cell_type": "code",
   "execution_count": 2,
   "id": "2820ebcb",
   "metadata": {},
   "outputs": [],
   "source": [
    "# Configurar gráficos\n",
    "ff1.plotting.setup_mpl()\n",
    "\n",
    "# Habilitamos el cache en nuestro equipo\n",
    "ff1.Cache.enable_cache('cache') \n",
    "\n",
    "# Ignoramos los Warning\n",
    "pd.options.mode.chained_assignment = None "
   ]
  },
  {
   "cell_type": "code",
   "execution_count": 3,
   "id": "5990e66f",
   "metadata": {},
   "outputs": [],
   "source": [
    "# Cargar la carrera y clasificación\n",
    "\n",
    "Grand_prix = 'Australian Grand Prix'\n",
    "year = 2023\n",
    "Race = 'R'\n",
    "\n",
    "race = ff1.get_session(year, Grand_prix, Race)"
   ]
  },
  {
   "cell_type": "code",
   "execution_count": 4,
   "id": "424309ff",
   "metadata": {},
   "outputs": [
    {
     "name": "stderr",
     "output_type": "stream",
     "text": [
      "C:\\Users\\Dr. Alejandro Paz\\anaconda3\\lib\\site-packages\\fastf1\\core.py:1095: FutureWarning: `Session.load_laps` is deprecated and will beremoved in a future version.\n",
      "Use `Session.load` instead.\n",
      "  warnings.warn(\"`Session.load_laps` is deprecated and will be\"\n",
      "core           INFO \tLoading data for Australian Grand Prix - Race [v2.2.3]\n",
      "api            INFO \tUsing cached data for driver_info\n",
      "api            INFO \tUsing cached data for timing_data\n",
      "api            INFO \tUsing cached data for timing_app_data\n",
      "core           INFO \tProcessing timing data...\n",
      "api            INFO \tUsing cached data for session_status_data\n",
      "api            INFO \tUsing cached data for track_status_data\n",
      "api            INFO \tUsing cached data for car_data\n",
      "api            INFO \tUsing cached data for position_data\n",
      "api            INFO \tUsing cached data for weather_data\n",
      "core           INFO \tFinished loading data for 20 drivers: ['1', '44', '14', '18', '11', '4', '27', '81', '24', '22', '77', '55', '10', '31', '21', '2', '20', '63', '23', '16']\n"
     ]
    }
   ],
   "source": [
    "laps = race.load_laps(with_telemetry=True)"
   ]
  },
  {
   "cell_type": "code",
   "execution_count": 5,
   "id": "37ce9b8d",
   "metadata": {},
   "outputs": [],
   "source": [
    "# Get all drivers\n",
    "#drivers = pd.unique(laps['Driver'])\n",
    "\n",
    "#telemetry = pd.DataFrame()\n",
    "\n",
    "# Telemetry can only be retrieved driver-by-driver\n",
    "#for driver in drivers:\n",
    "    #driver_laps = laps.pick_driver(driver)\n",
    "    \n",
    "    # Since we want to compare distances, we need to collect telemetry lap-by-lap to reset the distance\n",
    "    #for lap in driver_laps.iterlaps():\n",
    "       # driver_telemetry = lap[1].get_telemetry().add_distance()\n",
    "        #driver_telemetry['Driver'] = driver\n",
    "        #driver_telemetry['Lap'] = lap[1]['LapNumber']\n",
    "        #driver_telemetry['Compound'] = lap[1]['Compound']\n",
    "    \n",
    "        #telemetry = telemetry.append(driver_telemetry)"
   ]
  },
  {
   "cell_type": "code",
   "execution_count": 6,
   "id": "24fd0777",
   "metadata": {},
   "outputs": [
    {
     "data": {
      "text/html": [
       "<div>\n",
       "<style scoped>\n",
       "    .dataframe tbody tr th:only-of-type {\n",
       "        vertical-align: middle;\n",
       "    }\n",
       "\n",
       "    .dataframe tbody tr th {\n",
       "        vertical-align: top;\n",
       "    }\n",
       "\n",
       "    .dataframe thead th {\n",
       "        text-align: right;\n",
       "    }\n",
       "</style>\n",
       "<table border=\"1\" class=\"dataframe\">\n",
       "  <thead>\n",
       "    <tr style=\"text-align: right;\">\n",
       "      <th></th>\n",
       "      <th>DriverNumber</th>\n",
       "      <th>BroadcastName</th>\n",
       "      <th>Abbreviation</th>\n",
       "      <th>TeamName</th>\n",
       "      <th>TeamColor</th>\n",
       "      <th>FirstName</th>\n",
       "      <th>LastName</th>\n",
       "      <th>FullName</th>\n",
       "      <th>Position</th>\n",
       "      <th>GridPosition</th>\n",
       "      <th>Q1</th>\n",
       "      <th>Q2</th>\n",
       "      <th>Q3</th>\n",
       "      <th>Time</th>\n",
       "      <th>Status</th>\n",
       "      <th>Points</th>\n",
       "    </tr>\n",
       "  </thead>\n",
       "  <tbody>\n",
       "    <tr>\n",
       "      <th>1</th>\n",
       "      <td>1</td>\n",
       "      <td>M VERSTAPPEN</td>\n",
       "      <td>VER</td>\n",
       "      <td>Red Bull Racing</td>\n",
       "      <td>3671C6</td>\n",
       "      <td>Max</td>\n",
       "      <td>Verstappen</td>\n",
       "      <td>Max Verstappen</td>\n",
       "      <td>1.0</td>\n",
       "      <td>1.0</td>\n",
       "      <td>NaT</td>\n",
       "      <td>NaT</td>\n",
       "      <td>NaT</td>\n",
       "      <td>0 days 02:32:38.371000</td>\n",
       "      <td>Finished</td>\n",
       "      <td>25.0</td>\n",
       "    </tr>\n",
       "    <tr>\n",
       "      <th>44</th>\n",
       "      <td>44</td>\n",
       "      <td>L HAMILTON</td>\n",
       "      <td>HAM</td>\n",
       "      <td>Mercedes</td>\n",
       "      <td>6CD3BF</td>\n",
       "      <td>Lewis</td>\n",
       "      <td>Hamilton</td>\n",
       "      <td>Lewis Hamilton</td>\n",
       "      <td>2.0</td>\n",
       "      <td>3.0</td>\n",
       "      <td>NaT</td>\n",
       "      <td>NaT</td>\n",
       "      <td>NaT</td>\n",
       "      <td>0 days 02:32:38.550000</td>\n",
       "      <td>Finished</td>\n",
       "      <td>18.0</td>\n",
       "    </tr>\n",
       "    <tr>\n",
       "      <th>14</th>\n",
       "      <td>14</td>\n",
       "      <td>F ALONSO</td>\n",
       "      <td>ALO</td>\n",
       "      <td>Aston Martin</td>\n",
       "      <td>358C75</td>\n",
       "      <td>Fernando</td>\n",
       "      <td>Alonso</td>\n",
       "      <td>Fernando Alonso</td>\n",
       "      <td>3.0</td>\n",
       "      <td>4.0</td>\n",
       "      <td>NaT</td>\n",
       "      <td>NaT</td>\n",
       "      <td>NaT</td>\n",
       "      <td>0 days 02:32:39.140000</td>\n",
       "      <td>Finished</td>\n",
       "      <td>15.0</td>\n",
       "    </tr>\n",
       "    <tr>\n",
       "      <th>18</th>\n",
       "      <td>18</td>\n",
       "      <td>L STROLL</td>\n",
       "      <td>STR</td>\n",
       "      <td>Aston Martin</td>\n",
       "      <td>358C75</td>\n",
       "      <td>Lance</td>\n",
       "      <td>Stroll</td>\n",
       "      <td>Lance Stroll</td>\n",
       "      <td>4.0</td>\n",
       "      <td>6.0</td>\n",
       "      <td>NaT</td>\n",
       "      <td>NaT</td>\n",
       "      <td>NaT</td>\n",
       "      <td>0 days 02:32:41.453000</td>\n",
       "      <td>Finished</td>\n",
       "      <td>12.0</td>\n",
       "    </tr>\n",
       "    <tr>\n",
       "      <th>11</th>\n",
       "      <td>11</td>\n",
       "      <td>S PEREZ</td>\n",
       "      <td>PER</td>\n",
       "      <td>Red Bull Racing</td>\n",
       "      <td>3671C6</td>\n",
       "      <td>Sergio</td>\n",
       "      <td>Perez</td>\n",
       "      <td>Sergio Perez</td>\n",
       "      <td>5.0</td>\n",
       "      <td>0.0</td>\n",
       "      <td>NaT</td>\n",
       "      <td>NaT</td>\n",
       "      <td>NaT</td>\n",
       "      <td>0 days 02:32:41.691000</td>\n",
       "      <td>Finished</td>\n",
       "      <td>11.0</td>\n",
       "    </tr>\n",
       "    <tr>\n",
       "      <th>4</th>\n",
       "      <td>4</td>\n",
       "      <td>L NORRIS</td>\n",
       "      <td>NOR</td>\n",
       "      <td>McLaren</td>\n",
       "      <td>F58020</td>\n",
       "      <td>Lando</td>\n",
       "      <td>Norris</td>\n",
       "      <td>Lando Norris</td>\n",
       "      <td>6.0</td>\n",
       "      <td>13.0</td>\n",
       "      <td>NaT</td>\n",
       "      <td>NaT</td>\n",
       "      <td>NaT</td>\n",
       "      <td>0 days 02:32:42.072000</td>\n",
       "      <td>Finished</td>\n",
       "      <td>8.0</td>\n",
       "    </tr>\n",
       "    <tr>\n",
       "      <th>27</th>\n",
       "      <td>27</td>\n",
       "      <td>N HULKENBERG</td>\n",
       "      <td>HUL</td>\n",
       "      <td>Haas F1 Team</td>\n",
       "      <td>B6BABD</td>\n",
       "      <td>Nico</td>\n",
       "      <td>Hulkenberg</td>\n",
       "      <td>Nico Hulkenberg</td>\n",
       "      <td>7.0</td>\n",
       "      <td>10.0</td>\n",
       "      <td>NaT</td>\n",
       "      <td>NaT</td>\n",
       "      <td>NaT</td>\n",
       "      <td>0 days 02:32:43.310000</td>\n",
       "      <td>Finished</td>\n",
       "      <td>6.0</td>\n",
       "    </tr>\n",
       "    <tr>\n",
       "      <th>81</th>\n",
       "      <td>81</td>\n",
       "      <td>O PIASTRI</td>\n",
       "      <td>PIA</td>\n",
       "      <td>McLaren</td>\n",
       "      <td>F58020</td>\n",
       "      <td>Oscar</td>\n",
       "      <td>Piastri</td>\n",
       "      <td>Oscar Piastri</td>\n",
       "      <td>8.0</td>\n",
       "      <td>16.0</td>\n",
       "      <td>NaT</td>\n",
       "      <td>NaT</td>\n",
       "      <td>NaT</td>\n",
       "      <td>0 days 02:32:43.753000</td>\n",
       "      <td>Finished</td>\n",
       "      <td>4.0</td>\n",
       "    </tr>\n",
       "    <tr>\n",
       "      <th>24</th>\n",
       "      <td>24</td>\n",
       "      <td>G ZHOU</td>\n",
       "      <td>ZHO</td>\n",
       "      <td>Alfa Romeo</td>\n",
       "      <td>C92D4B</td>\n",
       "      <td>Guanyu</td>\n",
       "      <td>Zhou</td>\n",
       "      <td>Guanyu Zhou</td>\n",
       "      <td>9.0</td>\n",
       "      <td>17.0</td>\n",
       "      <td>NaT</td>\n",
       "      <td>NaT</td>\n",
       "      <td>NaT</td>\n",
       "      <td>0 days 02:32:44.084000</td>\n",
       "      <td>Finished</td>\n",
       "      <td>2.0</td>\n",
       "    </tr>\n",
       "    <tr>\n",
       "      <th>22</th>\n",
       "      <td>22</td>\n",
       "      <td>Y TSUNODA</td>\n",
       "      <td>TSU</td>\n",
       "      <td>AlphaTauri</td>\n",
       "      <td>5E8FAA</td>\n",
       "      <td>Yuki</td>\n",
       "      <td>Tsunoda</td>\n",
       "      <td>Yuki Tsunoda</td>\n",
       "      <td>10.0</td>\n",
       "      <td>12.0</td>\n",
       "      <td>NaT</td>\n",
       "      <td>NaT</td>\n",
       "      <td>NaT</td>\n",
       "      <td>0 days 02:32:44.423000</td>\n",
       "      <td>Finished</td>\n",
       "      <td>1.0</td>\n",
       "    </tr>\n",
       "    <tr>\n",
       "      <th>77</th>\n",
       "      <td>77</td>\n",
       "      <td>V BOTTAS</td>\n",
       "      <td>BOT</td>\n",
       "      <td>Alfa Romeo</td>\n",
       "      <td>C92D4B</td>\n",
       "      <td>Valtteri</td>\n",
       "      <td>Bottas</td>\n",
       "      <td>Valtteri Bottas</td>\n",
       "      <td>11.0</td>\n",
       "      <td>0.0</td>\n",
       "      <td>NaT</td>\n",
       "      <td>NaT</td>\n",
       "      <td>NaT</td>\n",
       "      <td>0 days 02:32:44.884000</td>\n",
       "      <td>Finished</td>\n",
       "      <td>0.0</td>\n",
       "    </tr>\n",
       "    <tr>\n",
       "      <th>55</th>\n",
       "      <td>55</td>\n",
       "      <td>C SAINZ</td>\n",
       "      <td>SAI</td>\n",
       "      <td>Ferrari</td>\n",
       "      <td>F91536</td>\n",
       "      <td>Carlos</td>\n",
       "      <td>Sainz</td>\n",
       "      <td>Carlos Sainz</td>\n",
       "      <td>12.0</td>\n",
       "      <td>5.0</td>\n",
       "      <td>NaT</td>\n",
       "      <td>NaT</td>\n",
       "      <td>NaT</td>\n",
       "      <td>0 days 02:32:44.965000</td>\n",
       "      <td>Finished</td>\n",
       "      <td>0.0</td>\n",
       "    </tr>\n",
       "    <tr>\n",
       "      <th>10</th>\n",
       "      <td>10</td>\n",
       "      <td>P GASLY</td>\n",
       "      <td>GAS</td>\n",
       "      <td>Alpine</td>\n",
       "      <td>2293D1</td>\n",
       "      <td>Pierre</td>\n",
       "      <td>Gasly</td>\n",
       "      <td>Pierre Gasly</td>\n",
       "      <td>13.0</td>\n",
       "      <td>9.0</td>\n",
       "      <td>NaT</td>\n",
       "      <td>NaT</td>\n",
       "      <td>NaT</td>\n",
       "      <td>NaT</td>\n",
       "      <td>Collision</td>\n",
       "      <td>0.0</td>\n",
       "    </tr>\n",
       "    <tr>\n",
       "      <th>31</th>\n",
       "      <td>31</td>\n",
       "      <td>E OCON</td>\n",
       "      <td>OCO</td>\n",
       "      <td>Alpine</td>\n",
       "      <td>2293D1</td>\n",
       "      <td>Esteban</td>\n",
       "      <td>Ocon</td>\n",
       "      <td>Esteban Ocon</td>\n",
       "      <td>14.0</td>\n",
       "      <td>11.0</td>\n",
       "      <td>NaT</td>\n",
       "      <td>NaT</td>\n",
       "      <td>NaT</td>\n",
       "      <td>NaT</td>\n",
       "      <td>Collision</td>\n",
       "      <td>0.0</td>\n",
       "    </tr>\n",
       "    <tr>\n",
       "      <th>21</th>\n",
       "      <td>21</td>\n",
       "      <td>N DE VRIES</td>\n",
       "      <td>DEV</td>\n",
       "      <td>AlphaTauri</td>\n",
       "      <td>5E8FAA</td>\n",
       "      <td>Nyck</td>\n",
       "      <td>De Vries</td>\n",
       "      <td>Nyck De Vries</td>\n",
       "      <td>15.0</td>\n",
       "      <td>15.0</td>\n",
       "      <td>NaT</td>\n",
       "      <td>NaT</td>\n",
       "      <td>NaT</td>\n",
       "      <td>NaT</td>\n",
       "      <td>Collision</td>\n",
       "      <td>0.0</td>\n",
       "    </tr>\n",
       "    <tr>\n",
       "      <th>2</th>\n",
       "      <td>2</td>\n",
       "      <td>L SARGEANT</td>\n",
       "      <td>SAR</td>\n",
       "      <td>Williams</td>\n",
       "      <td>37BEDD</td>\n",
       "      <td>Logan</td>\n",
       "      <td>Sargeant</td>\n",
       "      <td>Logan Sargeant</td>\n",
       "      <td>16.0</td>\n",
       "      <td>18.0</td>\n",
       "      <td>NaT</td>\n",
       "      <td>NaT</td>\n",
       "      <td>NaT</td>\n",
       "      <td>NaT</td>\n",
       "      <td>Collision</td>\n",
       "      <td>0.0</td>\n",
       "    </tr>\n",
       "    <tr>\n",
       "      <th>20</th>\n",
       "      <td>20</td>\n",
       "      <td>K MAGNUSSEN</td>\n",
       "      <td>MAG</td>\n",
       "      <td>Haas F1 Team</td>\n",
       "      <td>B6BABD</td>\n",
       "      <td>Kevin</td>\n",
       "      <td>Magnussen</td>\n",
       "      <td>Kevin Magnussen</td>\n",
       "      <td>17.0</td>\n",
       "      <td>14.0</td>\n",
       "      <td>NaT</td>\n",
       "      <td>NaT</td>\n",
       "      <td>NaT</td>\n",
       "      <td>NaT</td>\n",
       "      <td>Accident</td>\n",
       "      <td>0.0</td>\n",
       "    </tr>\n",
       "    <tr>\n",
       "      <th>63</th>\n",
       "      <td>63</td>\n",
       "      <td>G RUSSELL</td>\n",
       "      <td>RUS</td>\n",
       "      <td>Mercedes</td>\n",
       "      <td>6CD3BF</td>\n",
       "      <td>George</td>\n",
       "      <td>Russell</td>\n",
       "      <td>George Russell</td>\n",
       "      <td>18.0</td>\n",
       "      <td>2.0</td>\n",
       "      <td>NaT</td>\n",
       "      <td>NaT</td>\n",
       "      <td>NaT</td>\n",
       "      <td>NaT</td>\n",
       "      <td>Engine</td>\n",
       "      <td>0.0</td>\n",
       "    </tr>\n",
       "    <tr>\n",
       "      <th>23</th>\n",
       "      <td>23</td>\n",
       "      <td>A ALBON</td>\n",
       "      <td>ALB</td>\n",
       "      <td>Williams</td>\n",
       "      <td>37BEDD</td>\n",
       "      <td>Alexander</td>\n",
       "      <td>Albon</td>\n",
       "      <td>Alexander Albon</td>\n",
       "      <td>19.0</td>\n",
       "      <td>8.0</td>\n",
       "      <td>NaT</td>\n",
       "      <td>NaT</td>\n",
       "      <td>NaT</td>\n",
       "      <td>NaT</td>\n",
       "      <td>Accident</td>\n",
       "      <td>0.0</td>\n",
       "    </tr>\n",
       "    <tr>\n",
       "      <th>16</th>\n",
       "      <td>16</td>\n",
       "      <td>C LECLERC</td>\n",
       "      <td>LEC</td>\n",
       "      <td>Ferrari</td>\n",
       "      <td>F91536</td>\n",
       "      <td>Charles</td>\n",
       "      <td>Leclerc</td>\n",
       "      <td>Charles Leclerc</td>\n",
       "      <td>20.0</td>\n",
       "      <td>7.0</td>\n",
       "      <td>NaT</td>\n",
       "      <td>NaT</td>\n",
       "      <td>NaT</td>\n",
       "      <td>NaT</td>\n",
       "      <td>Collision</td>\n",
       "      <td>0.0</td>\n",
       "    </tr>\n",
       "  </tbody>\n",
       "</table>\n",
       "</div>"
      ],
      "text/plain": [
       "   DriverNumber BroadcastName Abbreviation         TeamName TeamColor  \\\n",
       "1             1  M VERSTAPPEN          VER  Red Bull Racing    3671C6   \n",
       "44           44    L HAMILTON          HAM         Mercedes    6CD3BF   \n",
       "14           14      F ALONSO          ALO     Aston Martin    358C75   \n",
       "18           18      L STROLL          STR     Aston Martin    358C75   \n",
       "11           11       S PEREZ          PER  Red Bull Racing    3671C6   \n",
       "4             4      L NORRIS          NOR          McLaren    F58020   \n",
       "27           27  N HULKENBERG          HUL     Haas F1 Team    B6BABD   \n",
       "81           81     O PIASTRI          PIA          McLaren    F58020   \n",
       "24           24        G ZHOU          ZHO       Alfa Romeo    C92D4B   \n",
       "22           22     Y TSUNODA          TSU       AlphaTauri    5E8FAA   \n",
       "77           77      V BOTTAS          BOT       Alfa Romeo    C92D4B   \n",
       "55           55       C SAINZ          SAI          Ferrari    F91536   \n",
       "10           10       P GASLY          GAS           Alpine    2293D1   \n",
       "31           31        E OCON          OCO           Alpine    2293D1   \n",
       "21           21    N DE VRIES          DEV       AlphaTauri    5E8FAA   \n",
       "2             2    L SARGEANT          SAR         Williams    37BEDD   \n",
       "20           20   K MAGNUSSEN          MAG     Haas F1 Team    B6BABD   \n",
       "63           63     G RUSSELL          RUS         Mercedes    6CD3BF   \n",
       "23           23       A ALBON          ALB         Williams    37BEDD   \n",
       "16           16     C LECLERC          LEC          Ferrari    F91536   \n",
       "\n",
       "    FirstName    LastName         FullName  Position  GridPosition  Q1  Q2  \\\n",
       "1         Max  Verstappen   Max Verstappen       1.0           1.0 NaT NaT   \n",
       "44      Lewis    Hamilton   Lewis Hamilton       2.0           3.0 NaT NaT   \n",
       "14   Fernando      Alonso  Fernando Alonso       3.0           4.0 NaT NaT   \n",
       "18      Lance      Stroll     Lance Stroll       4.0           6.0 NaT NaT   \n",
       "11     Sergio       Perez     Sergio Perez       5.0           0.0 NaT NaT   \n",
       "4       Lando      Norris     Lando Norris       6.0          13.0 NaT NaT   \n",
       "27       Nico  Hulkenberg  Nico Hulkenberg       7.0          10.0 NaT NaT   \n",
       "81      Oscar     Piastri    Oscar Piastri       8.0          16.0 NaT NaT   \n",
       "24     Guanyu        Zhou      Guanyu Zhou       9.0          17.0 NaT NaT   \n",
       "22       Yuki     Tsunoda     Yuki Tsunoda      10.0          12.0 NaT NaT   \n",
       "77   Valtteri      Bottas  Valtteri Bottas      11.0           0.0 NaT NaT   \n",
       "55     Carlos       Sainz     Carlos Sainz      12.0           5.0 NaT NaT   \n",
       "10     Pierre       Gasly     Pierre Gasly      13.0           9.0 NaT NaT   \n",
       "31    Esteban        Ocon     Esteban Ocon      14.0          11.0 NaT NaT   \n",
       "21       Nyck    De Vries    Nyck De Vries      15.0          15.0 NaT NaT   \n",
       "2       Logan    Sargeant   Logan Sargeant      16.0          18.0 NaT NaT   \n",
       "20      Kevin   Magnussen  Kevin Magnussen      17.0          14.0 NaT NaT   \n",
       "63     George     Russell   George Russell      18.0           2.0 NaT NaT   \n",
       "23  Alexander       Albon  Alexander Albon      19.0           8.0 NaT NaT   \n",
       "16    Charles     Leclerc  Charles Leclerc      20.0           7.0 NaT NaT   \n",
       "\n",
       "    Q3                   Time     Status  Points  \n",
       "1  NaT 0 days 02:32:38.371000   Finished    25.0  \n",
       "44 NaT 0 days 02:32:38.550000   Finished    18.0  \n",
       "14 NaT 0 days 02:32:39.140000   Finished    15.0  \n",
       "18 NaT 0 days 02:32:41.453000   Finished    12.0  \n",
       "11 NaT 0 days 02:32:41.691000   Finished    11.0  \n",
       "4  NaT 0 days 02:32:42.072000   Finished     8.0  \n",
       "27 NaT 0 days 02:32:43.310000   Finished     6.0  \n",
       "81 NaT 0 days 02:32:43.753000   Finished     4.0  \n",
       "24 NaT 0 days 02:32:44.084000   Finished     2.0  \n",
       "22 NaT 0 days 02:32:44.423000   Finished     1.0  \n",
       "77 NaT 0 days 02:32:44.884000   Finished     0.0  \n",
       "55 NaT 0 days 02:32:44.965000   Finished     0.0  \n",
       "10 NaT                    NaT  Collision     0.0  \n",
       "31 NaT                    NaT  Collision     0.0  \n",
       "21 NaT                    NaT  Collision     0.0  \n",
       "2  NaT                    NaT  Collision     0.0  \n",
       "20 NaT                    NaT   Accident     0.0  \n",
       "63 NaT                    NaT     Engine     0.0  \n",
       "23 NaT                    NaT   Accident     0.0  \n",
       "16 NaT                    NaT  Collision     0.0  "
      ]
     },
     "execution_count": 6,
     "metadata": {},
     "output_type": "execute_result"
    }
   ],
   "source": [
    "race.results"
   ]
  },
  {
   "cell_type": "code",
   "execution_count": 7,
   "id": "a6b0fe1d",
   "metadata": {},
   "outputs": [],
   "source": [
    "drivers_dict=dict(zip(race.results['Abbreviation'], race.results['GridPosition']))"
   ]
  },
  {
   "cell_type": "code",
   "execution_count": 8,
   "id": "bc9f82cf",
   "metadata": {},
   "outputs": [
    {
     "data": {
      "text/plain": [
       "{'VER': 1.0,\n",
       " 'HAM': 3.0,\n",
       " 'ALO': 4.0,\n",
       " 'STR': 6.0,\n",
       " 'PER': 0.0,\n",
       " 'NOR': 13.0,\n",
       " 'HUL': 10.0,\n",
       " 'PIA': 16.0,\n",
       " 'ZHO': 17.0,\n",
       " 'TSU': 12.0,\n",
       " 'BOT': 0.0,\n",
       " 'SAI': 5.0,\n",
       " 'GAS': 9.0,\n",
       " 'OCO': 11.0,\n",
       " 'DEV': 15.0,\n",
       " 'SAR': 18.0,\n",
       " 'MAG': 14.0,\n",
       " 'RUS': 2.0,\n",
       " 'ALB': 8.0,\n",
       " 'LEC': 7.0}"
      ]
     },
     "execution_count": 8,
     "metadata": {},
     "output_type": "execute_result"
    }
   ],
   "source": [
    "drivers_dict"
   ]
  },
  {
   "cell_type": "code",
   "execution_count": 9,
   "id": "1f9df53d",
   "metadata": {},
   "outputs": [],
   "source": [
    "drivers_dict['BOT']=19\n",
    "drivers_dict['PER']=20"
   ]
  },
  {
   "cell_type": "code",
   "execution_count": 10,
   "id": "74b1b010",
   "metadata": {},
   "outputs": [],
   "source": [
    "laps = laps.sort_values('LapStartTime')"
   ]
  },
  {
   "cell_type": "code",
   "execution_count": 11,
   "id": "1f66cd25",
   "metadata": {},
   "outputs": [],
   "source": [
    "laps['Position']=''"
   ]
  },
  {
   "cell_type": "code",
   "execution_count": 12,
   "id": "9076dd86",
   "metadata": {},
   "outputs": [],
   "source": [
    "laps.loc[laps['LapNumber']==1, 'Position']=laps['Driver'].map(drivers_dict)"
   ]
  },
  {
   "cell_type": "code",
   "execution_count": 13,
   "id": "0fe3c342",
   "metadata": {},
   "outputs": [],
   "source": [
    "for lap in range(2, len(laps['LapNumber'].unique())):\n",
    "    n=len(laps.loc[laps['LapNumber']==lap])\n",
    "    pos = list(range(1, n+1))\n",
    "    laps.loc[laps['LapNumber']==lap, 'Position']=pos"
   ]
  },
  {
   "cell_type": "code",
   "execution_count": 14,
   "id": "df3e2072",
   "metadata": {},
   "outputs": [
    {
     "data": {
      "text/html": [
       "<div>\n",
       "<style scoped>\n",
       "    .dataframe tbody tr th:only-of-type {\n",
       "        vertical-align: middle;\n",
       "    }\n",
       "\n",
       "    .dataframe tbody tr th {\n",
       "        vertical-align: top;\n",
       "    }\n",
       "\n",
       "    .dataframe thead th {\n",
       "        text-align: right;\n",
       "    }\n",
       "</style>\n",
       "<table border=\"1\" class=\"dataframe\">\n",
       "  <thead>\n",
       "    <tr style=\"text-align: right;\">\n",
       "      <th></th>\n",
       "      <th>Time</th>\n",
       "      <th>DriverNumber</th>\n",
       "      <th>LapTime</th>\n",
       "      <th>LapNumber</th>\n",
       "      <th>Stint</th>\n",
       "      <th>PitOutTime</th>\n",
       "      <th>PitInTime</th>\n",
       "      <th>Sector1Time</th>\n",
       "      <th>Sector2Time</th>\n",
       "      <th>Sector3Time</th>\n",
       "      <th>...</th>\n",
       "      <th>Compound</th>\n",
       "      <th>TyreLife</th>\n",
       "      <th>FreshTyre</th>\n",
       "      <th>LapStartTime</th>\n",
       "      <th>Team</th>\n",
       "      <th>Driver</th>\n",
       "      <th>TrackStatus</th>\n",
       "      <th>IsAccurate</th>\n",
       "      <th>LapStartDate</th>\n",
       "      <th>Position</th>\n",
       "    </tr>\n",
       "  </thead>\n",
       "  <tbody>\n",
       "    <tr>\n",
       "      <th>0</th>\n",
       "      <td>0 days 01:03:58.732000</td>\n",
       "      <td>1</td>\n",
       "      <td>NaT</td>\n",
       "      <td>1.0</td>\n",
       "      <td>1.0</td>\n",
       "      <td>0 days 00:23:26.593000</td>\n",
       "      <td>NaT</td>\n",
       "      <td>NaT</td>\n",
       "      <td>0 days 00:00:18.707000</td>\n",
       "      <td>0 days 00:00:46.357000</td>\n",
       "      <td>...</td>\n",
       "      <td>MEDIUM</td>\n",
       "      <td>1.0</td>\n",
       "      <td>True</td>\n",
       "      <td>0 days 01:02:16.863000</td>\n",
       "      <td>Red Bull Racing</td>\n",
       "      <td>VER</td>\n",
       "      <td>24</td>\n",
       "      <td>False</td>\n",
       "      <td>2023-04-02 05:03:18.685</td>\n",
       "      <td>1.0</td>\n",
       "    </tr>\n",
       "    <tr>\n",
       "      <th>174</th>\n",
       "      <td>0 days 01:04:05.200000</td>\n",
       "      <td>18</td>\n",
       "      <td>NaT</td>\n",
       "      <td>1.0</td>\n",
       "      <td>1.0</td>\n",
       "      <td>0 days 00:24:12.765000</td>\n",
       "      <td>NaT</td>\n",
       "      <td>NaT</td>\n",
       "      <td>0 days 00:00:19.292000</td>\n",
       "      <td>0 days 00:00:50.986000</td>\n",
       "      <td>...</td>\n",
       "      <td>MEDIUM</td>\n",
       "      <td>2.0</td>\n",
       "      <td>False</td>\n",
       "      <td>0 days 01:02:16.863000</td>\n",
       "      <td>Aston Martin</td>\n",
       "      <td>STR</td>\n",
       "      <td>24</td>\n",
       "      <td>False</td>\n",
       "      <td>2023-04-02 05:03:18.685</td>\n",
       "      <td>6.0</td>\n",
       "    </tr>\n",
       "    <tr>\n",
       "      <th>232</th>\n",
       "      <td>0 days 01:04:29.196000</td>\n",
       "      <td>11</td>\n",
       "      <td>NaT</td>\n",
       "      <td>1.0</td>\n",
       "      <td>2.0</td>\n",
       "      <td>0 days 01:02:25.722000</td>\n",
       "      <td>0 days 01:04:13.705000</td>\n",
       "      <td>NaT</td>\n",
       "      <td>0 days 00:00:18.735000</td>\n",
       "      <td>0 days 00:01:09.690000</td>\n",
       "      <td>...</td>\n",
       "      <td>HARD</td>\n",
       "      <td>1.0</td>\n",
       "      <td>True</td>\n",
       "      <td>0 days 01:02:16.863000</td>\n",
       "      <td>Red Bull Racing</td>\n",
       "      <td>PER</td>\n",
       "      <td>24</td>\n",
       "      <td>False</td>\n",
       "      <td>2023-04-02 05:03:18.685</td>\n",
       "      <td>20.0</td>\n",
       "    </tr>\n",
       "    <tr>\n",
       "      <th>290</th>\n",
       "      <td>0 days 01:04:13.705000</td>\n",
       "      <td>4</td>\n",
       "      <td>NaT</td>\n",
       "      <td>1.0</td>\n",
       "      <td>1.0</td>\n",
       "      <td>0 days 00:24:59.780000</td>\n",
       "      <td>NaT</td>\n",
       "      <td>NaT</td>\n",
       "      <td>0 days 00:00:19.112000</td>\n",
       "      <td>0 days 00:00:58.183000</td>\n",
       "      <td>...</td>\n",
       "      <td>MEDIUM</td>\n",
       "      <td>1.0</td>\n",
       "      <td>True</td>\n",
       "      <td>0 days 01:02:16.863000</td>\n",
       "      <td>McLaren</td>\n",
       "      <td>NOR</td>\n",
       "      <td>24</td>\n",
       "      <td>False</td>\n",
       "      <td>2023-04-02 05:03:18.685</td>\n",
       "      <td>13.0</td>\n",
       "    </tr>\n",
       "    <tr>\n",
       "      <th>348</th>\n",
       "      <td>0 days 01:04:08.549000</td>\n",
       "      <td>27</td>\n",
       "      <td>NaT</td>\n",
       "      <td>1.0</td>\n",
       "      <td>1.0</td>\n",
       "      <td>0 days 00:25:19.779000</td>\n",
       "      <td>NaT</td>\n",
       "      <td>NaT</td>\n",
       "      <td>0 days 00:00:18.831000</td>\n",
       "      <td>0 days 00:00:53.661000</td>\n",
       "      <td>...</td>\n",
       "      <td>MEDIUM</td>\n",
       "      <td>1.0</td>\n",
       "      <td>True</td>\n",
       "      <td>0 days 01:02:16.863000</td>\n",
       "      <td>Haas F1 Team</td>\n",
       "      <td>HUL</td>\n",
       "      <td>24</td>\n",
       "      <td>False</td>\n",
       "      <td>2023-04-02 05:03:18.685</td>\n",
       "      <td>10.0</td>\n",
       "    </tr>\n",
       "    <tr>\n",
       "      <th>...</th>\n",
       "      <td>...</td>\n",
       "      <td>...</td>\n",
       "      <td>...</td>\n",
       "      <td>...</td>\n",
       "      <td>...</td>\n",
       "      <td>...</td>\n",
       "      <td>...</td>\n",
       "      <td>...</td>\n",
       "      <td>...</td>\n",
       "      <td>...</td>\n",
       "      <td>...</td>\n",
       "      <td>...</td>\n",
       "      <td>...</td>\n",
       "      <td>...</td>\n",
       "      <td>...</td>\n",
       "      <td>...</td>\n",
       "      <td>...</td>\n",
       "      <td>...</td>\n",
       "      <td>...</td>\n",
       "      <td>...</td>\n",
       "      <td>...</td>\n",
       "    </tr>\n",
       "    <tr>\n",
       "      <th>405</th>\n",
       "      <td>0 days 03:35:00.547000</td>\n",
       "      <td>27</td>\n",
       "      <td>NaT</td>\n",
       "      <td>58.0</td>\n",
       "      <td>4.0</td>\n",
       "      <td>0 days 03:32:22.431000</td>\n",
       "      <td>NaT</td>\n",
       "      <td>0 days 00:00:52.096000</td>\n",
       "      <td>0 days 00:00:50.403000</td>\n",
       "      <td>0 days 00:00:57.554000</td>\n",
       "      <td>...</td>\n",
       "      <td>SOFT</td>\n",
       "      <td>5.0</td>\n",
       "      <td>None</td>\n",
       "      <td>0 days 03:32:20.431000</td>\n",
       "      <td>Haas F1 Team</td>\n",
       "      <td>HUL</td>\n",
       "      <td>1</td>\n",
       "      <td>False</td>\n",
       "      <td>2023-04-02 07:33:22.253</td>\n",
       "      <td>8</td>\n",
       "    </tr>\n",
       "    <tr>\n",
       "      <th>463</th>\n",
       "      <td>0 days 03:35:00.914000</td>\n",
       "      <td>81</td>\n",
       "      <td>NaT</td>\n",
       "      <td>58.0</td>\n",
       "      <td>5.0</td>\n",
       "      <td>0 days 03:32:24.838000</td>\n",
       "      <td>NaT</td>\n",
       "      <td>0 days 00:00:50.827000</td>\n",
       "      <td>0 days 00:00:50.176000</td>\n",
       "      <td>0 days 00:00:57.123000</td>\n",
       "      <td>...</td>\n",
       "      <td>SOFT</td>\n",
       "      <td>1.0</td>\n",
       "      <td>True</td>\n",
       "      <td>0 days 03:32:22.744000</td>\n",
       "      <td>McLaren</td>\n",
       "      <td>PIA</td>\n",
       "      <td>1</td>\n",
       "      <td>False</td>\n",
       "      <td>2023-04-02 07:33:24.566</td>\n",
       "      <td>9</td>\n",
       "    </tr>\n",
       "    <tr>\n",
       "      <th>521</th>\n",
       "      <td>0 days 03:35:01.258000</td>\n",
       "      <td>24</td>\n",
       "      <td>NaT</td>\n",
       "      <td>58.0</td>\n",
       "      <td>6.0</td>\n",
       "      <td>0 days 03:32:25.853000</td>\n",
       "      <td>NaT</td>\n",
       "      <td>0 days 00:00:50.262000</td>\n",
       "      <td>0 days 00:00:50.247000</td>\n",
       "      <td>0 days 00:00:56.893000</td>\n",
       "      <td>...</td>\n",
       "      <td>SOFT</td>\n",
       "      <td>3.0</td>\n",
       "      <td>False</td>\n",
       "      <td>0 days 03:32:23.806000</td>\n",
       "      <td>Alfa Romeo</td>\n",
       "      <td>ZHO</td>\n",
       "      <td>1</td>\n",
       "      <td>False</td>\n",
       "      <td>2023-04-02 07:33:25.628</td>\n",
       "      <td>10</td>\n",
       "    </tr>\n",
       "    <tr>\n",
       "      <th>579</th>\n",
       "      <td>0 days 03:35:01.586000</td>\n",
       "      <td>22</td>\n",
       "      <td>NaT</td>\n",
       "      <td>58.0</td>\n",
       "      <td>5.0</td>\n",
       "      <td>0 days 03:32:26.588000</td>\n",
       "      <td>NaT</td>\n",
       "      <td>0 days 00:00:49.925000</td>\n",
       "      <td>0 days 00:00:50.541000</td>\n",
       "      <td>0 days 00:00:56.505000</td>\n",
       "      <td>...</td>\n",
       "      <td>SOFT</td>\n",
       "      <td>9.0</td>\n",
       "      <td>False</td>\n",
       "      <td>0 days 03:32:24.588000</td>\n",
       "      <td>AlphaTauri</td>\n",
       "      <td>TSU</td>\n",
       "      <td>1</td>\n",
       "      <td>False</td>\n",
       "      <td>2023-04-02 07:33:26.410</td>\n",
       "      <td>11</td>\n",
       "    </tr>\n",
       "    <tr>\n",
       "      <th>637</th>\n",
       "      <td>0 days 03:35:02.117000</td>\n",
       "      <td>77</td>\n",
       "      <td>NaT</td>\n",
       "      <td>58.0</td>\n",
       "      <td>8.0</td>\n",
       "      <td>0 days 03:32:29.275000</td>\n",
       "      <td>NaT</td>\n",
       "      <td>0 days 00:00:48.390000</td>\n",
       "      <td>0 days 00:00:50.379000</td>\n",
       "      <td>0 days 00:00:56.046000</td>\n",
       "      <td>...</td>\n",
       "      <td>SOFT</td>\n",
       "      <td>5.0</td>\n",
       "      <td>False</td>\n",
       "      <td>0 days 03:32:27.228000</td>\n",
       "      <td>Alfa Romeo</td>\n",
       "      <td>BOT</td>\n",
       "      <td>1</td>\n",
       "      <td>False</td>\n",
       "      <td>2023-04-02 07:33:29.050</td>\n",
       "      <td>12</td>\n",
       "    </tr>\n",
       "  </tbody>\n",
       "</table>\n",
       "<p>1003 rows × 28 columns</p>\n",
       "</div>"
      ],
      "text/plain": [
       "                      Time DriverNumber LapTime  LapNumber  Stint  \\\n",
       "0   0 days 01:03:58.732000            1     NaT        1.0    1.0   \n",
       "174 0 days 01:04:05.200000           18     NaT        1.0    1.0   \n",
       "232 0 days 01:04:29.196000           11     NaT        1.0    2.0   \n",
       "290 0 days 01:04:13.705000            4     NaT        1.0    1.0   \n",
       "348 0 days 01:04:08.549000           27     NaT        1.0    1.0   \n",
       "..                     ...          ...     ...        ...    ...   \n",
       "405 0 days 03:35:00.547000           27     NaT       58.0    4.0   \n",
       "463 0 days 03:35:00.914000           81     NaT       58.0    5.0   \n",
       "521 0 days 03:35:01.258000           24     NaT       58.0    6.0   \n",
       "579 0 days 03:35:01.586000           22     NaT       58.0    5.0   \n",
       "637 0 days 03:35:02.117000           77     NaT       58.0    8.0   \n",
       "\n",
       "                PitOutTime              PitInTime            Sector1Time  \\\n",
       "0   0 days 00:23:26.593000                    NaT                    NaT   \n",
       "174 0 days 00:24:12.765000                    NaT                    NaT   \n",
       "232 0 days 01:02:25.722000 0 days 01:04:13.705000                    NaT   \n",
       "290 0 days 00:24:59.780000                    NaT                    NaT   \n",
       "348 0 days 00:25:19.779000                    NaT                    NaT   \n",
       "..                     ...                    ...                    ...   \n",
       "405 0 days 03:32:22.431000                    NaT 0 days 00:00:52.096000   \n",
       "463 0 days 03:32:24.838000                    NaT 0 days 00:00:50.827000   \n",
       "521 0 days 03:32:25.853000                    NaT 0 days 00:00:50.262000   \n",
       "579 0 days 03:32:26.588000                    NaT 0 days 00:00:49.925000   \n",
       "637 0 days 03:32:29.275000                    NaT 0 days 00:00:48.390000   \n",
       "\n",
       "               Sector2Time            Sector3Time  ... Compound TyreLife  \\\n",
       "0   0 days 00:00:18.707000 0 days 00:00:46.357000  ...   MEDIUM      1.0   \n",
       "174 0 days 00:00:19.292000 0 days 00:00:50.986000  ...   MEDIUM      2.0   \n",
       "232 0 days 00:00:18.735000 0 days 00:01:09.690000  ...     HARD      1.0   \n",
       "290 0 days 00:00:19.112000 0 days 00:00:58.183000  ...   MEDIUM      1.0   \n",
       "348 0 days 00:00:18.831000 0 days 00:00:53.661000  ...   MEDIUM      1.0   \n",
       "..                     ...                    ...  ...      ...      ...   \n",
       "405 0 days 00:00:50.403000 0 days 00:00:57.554000  ...     SOFT      5.0   \n",
       "463 0 days 00:00:50.176000 0 days 00:00:57.123000  ...     SOFT      1.0   \n",
       "521 0 days 00:00:50.247000 0 days 00:00:56.893000  ...     SOFT      3.0   \n",
       "579 0 days 00:00:50.541000 0 days 00:00:56.505000  ...     SOFT      9.0   \n",
       "637 0 days 00:00:50.379000 0 days 00:00:56.046000  ...     SOFT      5.0   \n",
       "\n",
       "    FreshTyre           LapStartTime             Team  Driver  TrackStatus  \\\n",
       "0        True 0 days 01:02:16.863000  Red Bull Racing     VER           24   \n",
       "174     False 0 days 01:02:16.863000     Aston Martin     STR           24   \n",
       "232      True 0 days 01:02:16.863000  Red Bull Racing     PER           24   \n",
       "290      True 0 days 01:02:16.863000          McLaren     NOR           24   \n",
       "348      True 0 days 01:02:16.863000     Haas F1 Team     HUL           24   \n",
       "..        ...                    ...              ...     ...          ...   \n",
       "405      None 0 days 03:32:20.431000     Haas F1 Team     HUL            1   \n",
       "463      True 0 days 03:32:22.744000          McLaren     PIA            1   \n",
       "521     False 0 days 03:32:23.806000       Alfa Romeo     ZHO            1   \n",
       "579     False 0 days 03:32:24.588000       AlphaTauri     TSU            1   \n",
       "637     False 0 days 03:32:27.228000       Alfa Romeo     BOT            1   \n",
       "\n",
       "    IsAccurate            LapStartDate  Position  \n",
       "0        False 2023-04-02 05:03:18.685       1.0  \n",
       "174      False 2023-04-02 05:03:18.685       6.0  \n",
       "232      False 2023-04-02 05:03:18.685      20.0  \n",
       "290      False 2023-04-02 05:03:18.685      13.0  \n",
       "348      False 2023-04-02 05:03:18.685      10.0  \n",
       "..         ...                     ...       ...  \n",
       "405      False 2023-04-02 07:33:22.253         8  \n",
       "463      False 2023-04-02 07:33:24.566         9  \n",
       "521      False 2023-04-02 07:33:25.628        10  \n",
       "579      False 2023-04-02 07:33:26.410        11  \n",
       "637      False 2023-04-02 07:33:29.050        12  \n",
       "\n",
       "[1003 rows x 28 columns]"
      ]
     },
     "execution_count": 14,
     "metadata": {},
     "output_type": "execute_result"
    }
   ],
   "source": [
    "laps"
   ]
  },
  {
   "cell_type": "code",
   "execution_count": 22,
   "id": "afae913d",
   "metadata": {},
   "outputs": [
    {
     "data": {
      "application/vnd.plotly.v1+json": {
       "config": {
        "plotlyServerURL": "https://plot.ly"
       },
       "data": [
        {
         "customdata": [
          [
           "MEDIUM",
           1
          ],
          [
           "MEDIUM",
           2
          ],
          [
           "MEDIUM",
           3
          ],
          [
           "MEDIUM",
           4
          ],
          [
           "MEDIUM",
           5
          ],
          [
           "MEDIUM",
           6
          ],
          [
           "MEDIUM",
           7
          ],
          [
           "MEDIUM",
           8
          ],
          [
           "HARD",
           1
          ],
          [
           "HARD",
           2
          ],
          [
           "HARD",
           3
          ],
          [
           "HARD",
           4
          ],
          [
           "HARD",
           5
          ],
          [
           "HARD",
           6
          ],
          [
           "HARD",
           7
          ],
          [
           "HARD",
           8
          ],
          [
           "HARD",
           9
          ],
          [
           "HARD",
           10
          ],
          [
           "HARD",
           11
          ],
          [
           "HARD",
           12
          ],
          [
           "HARD",
           13
          ],
          [
           "HARD",
           14
          ],
          [
           "HARD",
           15
          ],
          [
           "HARD",
           16
          ],
          [
           "HARD",
           17
          ],
          [
           "HARD",
           18
          ],
          [
           "HARD",
           19
          ],
          [
           "HARD",
           20
          ],
          [
           "HARD",
           21
          ],
          [
           "HARD",
           22
          ],
          [
           "HARD",
           23
          ],
          [
           "HARD",
           24
          ],
          [
           "HARD",
           25
          ],
          [
           "HARD",
           26
          ],
          [
           "HARD",
           27
          ],
          [
           "HARD",
           28
          ],
          [
           "HARD",
           29
          ],
          [
           "HARD",
           30
          ],
          [
           "HARD",
           31
          ],
          [
           "HARD",
           32
          ],
          [
           "HARD",
           33
          ],
          [
           "HARD",
           34
          ],
          [
           "HARD",
           35
          ],
          [
           "HARD",
           36
          ],
          [
           "HARD",
           37
          ],
          [
           "HARD",
           38
          ],
          [
           "HARD",
           39
          ],
          [
           "HARD",
           40
          ],
          [
           "HARD",
           41
          ],
          [
           "HARD",
           42
          ],
          [
           "HARD",
           43
          ],
          [
           "HARD",
           44
          ],
          [
           "HARD",
           45
          ],
          [
           "HARD",
           46
          ],
          [
           "HARD",
           47
          ],
          [
           "SOFT",
           4
          ],
          [
           "SOFT",
           5
          ],
          [
           "SOFT",
           6
          ]
         ],
         "hovertemplate": "Driver=VER<br>Lap Number=%{x}<br>Driver's Position=%{y}<br>Compound=%{customdata[0]}<br>TyreLife=%{customdata[1]}<extra></extra>",
         "legendgroup": "VER",
         "line": {
          "color": "#636efa",
          "dash": "solid"
         },
         "marker": {
          "symbol": "circle"
         },
         "mode": "lines",
         "name": "VER",
         "showlegend": true,
         "type": "scattergl",
         "x": [
          1,
          2,
          3,
          4,
          5,
          6,
          7,
          8,
          9,
          10,
          11,
          12,
          13,
          14,
          15,
          16,
          17,
          18,
          19,
          20,
          21,
          22,
          23,
          24,
          25,
          26,
          27,
          28,
          29,
          30,
          31,
          32,
          33,
          34,
          35,
          36,
          37,
          38,
          39,
          40,
          41,
          42,
          43,
          44,
          45,
          46,
          47,
          48,
          49,
          50,
          51,
          52,
          53,
          54,
          55,
          56,
          57,
          58
         ],
         "xaxis": "x",
         "y": [
          1,
          3,
          3,
          3,
          3,
          3,
          3,
          2,
          2,
          2,
          2,
          2,
          1,
          1,
          1,
          1,
          1,
          1,
          1,
          1,
          1,
          1,
          1,
          1,
          1,
          1,
          1,
          1,
          1,
          1,
          1,
          1,
          1,
          1,
          1,
          1,
          1,
          1,
          1,
          1,
          1,
          1,
          1,
          1,
          1,
          1,
          1,
          1,
          1,
          1,
          1,
          1,
          1,
          1,
          1,
          1,
          1,
          1
         ],
         "yaxis": "y"
        },
        {
         "customdata": [
          [
           "MEDIUM",
           2
          ],
          [
           "MEDIUM",
           3
          ],
          [
           "MEDIUM",
           4
          ],
          [
           "MEDIUM",
           5
          ],
          [
           "MEDIUM",
           6
          ],
          [
           "MEDIUM",
           7
          ],
          [
           "MEDIUM",
           8
          ],
          [
           "MEDIUM",
           9
          ],
          [
           "HARD",
           1
          ],
          [
           "HARD",
           2
          ],
          [
           "HARD",
           3
          ],
          [
           "HARD",
           4
          ],
          [
           "HARD",
           5
          ],
          [
           "HARD",
           6
          ],
          [
           "HARD",
           7
          ],
          [
           "HARD",
           8
          ],
          [
           "HARD",
           9
          ],
          [
           "HARD",
           10
          ],
          [
           "HARD",
           11
          ],
          [
           "HARD",
           12
          ],
          [
           "HARD",
           13
          ],
          [
           "HARD",
           14
          ],
          [
           "HARD",
           15
          ],
          [
           "HARD",
           16
          ],
          [
           "HARD",
           17
          ],
          [
           "HARD",
           18
          ],
          [
           "HARD",
           19
          ],
          [
           "HARD",
           20
          ],
          [
           "HARD",
           21
          ],
          [
           "HARD",
           22
          ],
          [
           "HARD",
           23
          ],
          [
           "HARD",
           24
          ],
          [
           "HARD",
           25
          ],
          [
           "HARD",
           26
          ],
          [
           "HARD",
           27
          ],
          [
           "HARD",
           28
          ],
          [
           "HARD",
           29
          ],
          [
           "HARD",
           30
          ],
          [
           "HARD",
           31
          ],
          [
           "HARD",
           32
          ],
          [
           "HARD",
           33
          ],
          [
           "HARD",
           34
          ],
          [
           "HARD",
           35
          ],
          [
           "HARD",
           36
          ],
          [
           "HARD",
           37
          ],
          [
           "HARD",
           38
          ],
          [
           "HARD",
           39
          ],
          [
           "HARD",
           40
          ],
          [
           "HARD",
           41
          ],
          [
           "HARD",
           42
          ],
          [
           "HARD",
           43
          ],
          [
           "HARD",
           44
          ],
          [
           "HARD",
           45
          ],
          [
           "HARD",
           46
          ],
          [
           "HARD",
           47
          ],
          [
           "SOFT",
           6
          ],
          [
           "SOFT",
           7
          ],
          [
           "SOFT",
           7
          ]
         ],
         "hovertemplate": "Driver=STR<br>Lap Number=%{x}<br>Driver's Position=%{y}<br>Compound=%{customdata[0]}<br>TyreLife=%{customdata[1]}<extra></extra>",
         "legendgroup": "STR",
         "line": {
          "color": "#EF553B",
          "dash": "solid"
         },
         "marker": {
          "symbol": "circle"
         },
         "mode": "lines",
         "name": "STR",
         "showlegend": true,
         "type": "scattergl",
         "x": [
          1,
          2,
          3,
          4,
          5,
          6,
          7,
          8,
          9,
          10,
          11,
          12,
          13,
          14,
          15,
          16,
          17,
          18,
          19,
          20,
          21,
          22,
          23,
          24,
          25,
          26,
          27,
          28,
          29,
          30,
          31,
          32,
          33,
          34,
          35,
          36,
          37,
          38,
          39,
          40,
          41,
          42,
          43,
          44,
          45,
          46,
          47,
          48,
          49,
          50,
          51,
          52,
          53,
          54,
          55,
          56,
          57,
          58
         ],
         "xaxis": "x",
         "y": [
          6,
          7,
          7,
          7,
          7,
          7,
          7,
          4,
          4,
          4,
          6,
          6,
          6,
          6,
          6,
          7,
          7,
          6,
          6,
          6,
          6,
          6,
          6,
          6,
          6,
          6,
          6,
          6,
          6,
          6,
          6,
          6,
          6,
          6,
          6,
          6,
          6,
          6,
          6,
          6,
          6,
          6,
          6,
          6,
          6,
          6,
          6,
          6,
          6,
          6,
          6,
          6,
          6,
          6,
          6,
          6,
          6,
          5
         ],
         "yaxis": "y"
        },
        {
         "customdata": [
          [
           "HARD",
           1
          ],
          [
           "MEDIUM",
           null
          ],
          [
           "HARD",
           1
          ],
          [
           "HARD",
           2
          ],
          [
           "HARD",
           3
          ],
          [
           "HARD",
           4
          ],
          [
           "HARD",
           5
          ],
          [
           "HARD",
           6
          ],
          [
           "HARD",
           2
          ],
          [
           "HARD",
           3
          ],
          [
           "HARD",
           4
          ],
          [
           "HARD",
           5
          ],
          [
           "HARD",
           6
          ],
          [
           "HARD",
           7
          ],
          [
           "HARD",
           8
          ],
          [
           "HARD",
           9
          ],
          [
           "HARD",
           10
          ],
          [
           "HARD",
           11
          ],
          [
           "HARD",
           12
          ],
          [
           "HARD",
           13
          ],
          [
           "HARD",
           14
          ],
          [
           "HARD",
           15
          ],
          [
           "HARD",
           16
          ],
          [
           "HARD",
           17
          ],
          [
           "HARD",
           18
          ],
          [
           "HARD",
           19
          ],
          [
           "HARD",
           20
          ],
          [
           "HARD",
           21
          ],
          [
           "HARD",
           22
          ],
          [
           "HARD",
           23
          ],
          [
           "HARD",
           24
          ],
          [
           "HARD",
           25
          ],
          [
           "HARD",
           26
          ],
          [
           "HARD",
           27
          ],
          [
           "HARD",
           28
          ],
          [
           "HARD",
           29
          ],
          [
           "HARD",
           30
          ],
          [
           "HARD",
           31
          ],
          [
           "HARD",
           32
          ],
          [
           "HARD",
           33
          ],
          [
           "HARD",
           34
          ],
          [
           "HARD",
           35
          ],
          [
           "HARD",
           36
          ],
          [
           "HARD",
           37
          ],
          [
           "HARD",
           38
          ],
          [
           "HARD",
           39
          ],
          [
           "HARD",
           40
          ],
          [
           "HARD",
           41
          ],
          [
           "HARD",
           42
          ],
          [
           "HARD",
           43
          ],
          [
           "HARD",
           44
          ],
          [
           "HARD",
           45
          ],
          [
           "HARD",
           46
          ],
          [
           "HARD",
           47
          ],
          [
           "HARD",
           48
          ],
          [
           "SOFT",
           1
          ],
          [
           "SOFT",
           2
          ],
          [
           "SOFT",
           1
          ]
         ],
         "hovertemplate": "Driver=PER<br>Lap Number=%{x}<br>Driver's Position=%{y}<br>Compound=%{customdata[0]}<br>TyreLife=%{customdata[1]}<extra></extra>",
         "legendgroup": "PER",
         "line": {
          "color": "#00cc96",
          "dash": "solid"
         },
         "marker": {
          "symbol": "circle"
         },
         "mode": "lines",
         "name": "PER",
         "showlegend": true,
         "type": "scattergl",
         "x": [
          1,
          2,
          3,
          4,
          5,
          6,
          7,
          8,
          9,
          10,
          11,
          12,
          13,
          14,
          15,
          16,
          17,
          18,
          19,
          20,
          21,
          22,
          23,
          24,
          25,
          26,
          27,
          28,
          29,
          30,
          31,
          32,
          33,
          34,
          35,
          36,
          37,
          38,
          39,
          40,
          41,
          42,
          43,
          44,
          45,
          46,
          47,
          48,
          49,
          50,
          51,
          52,
          53,
          54,
          55,
          56,
          57,
          58
         ],
         "xaxis": "x",
         "y": [
          20,
          18,
          18,
          18,
          17,
          17,
          16,
          14,
          14,
          13,
          16,
          16,
          16,
          15,
          15,
          14,
          13,
          12,
          12,
          12,
          12,
          11,
          10,
          9,
          9,
          9,
          9,
          9,
          9,
          9,
          9,
          9,
          9,
          9,
          9,
          9,
          9,
          9,
          9,
          9,
          9,
          9,
          9,
          8,
          7,
          7,
          7,
          7,
          7,
          7,
          7,
          7,
          7,
          7,
          7,
          7,
          7,
          6
         ],
         "yaxis": "y"
        },
        {
         "customdata": [
          [
           "MEDIUM",
           1
          ],
          [
           "MEDIUM",
           2
          ],
          [
           "MEDIUM",
           3
          ],
          [
           "MEDIUM",
           4
          ],
          [
           "MEDIUM",
           5
          ],
          [
           "MEDIUM",
           6
          ],
          [
           "MEDIUM",
           7
          ],
          [
           "MEDIUM",
           8
          ],
          [
           "HARD",
           1
          ],
          [
           "HARD",
           2
          ],
          [
           "HARD",
           3
          ],
          [
           "HARD",
           4
          ],
          [
           "HARD",
           5
          ],
          [
           "HARD",
           6
          ],
          [
           "HARD",
           7
          ],
          [
           "HARD",
           8
          ],
          [
           "HARD",
           9
          ],
          [
           "HARD",
           10
          ],
          [
           "HARD",
           11
          ],
          [
           "HARD",
           12
          ],
          [
           "HARD",
           13
          ],
          [
           "HARD",
           14
          ],
          [
           "HARD",
           15
          ],
          [
           "HARD",
           16
          ],
          [
           "HARD",
           17
          ],
          [
           "HARD",
           18
          ],
          [
           "HARD",
           19
          ],
          [
           "HARD",
           20
          ],
          [
           "HARD",
           21
          ],
          [
           "HARD",
           22
          ],
          [
           "HARD",
           23
          ],
          [
           "HARD",
           24
          ],
          [
           "HARD",
           25
          ],
          [
           "HARD",
           26
          ],
          [
           "HARD",
           27
          ],
          [
           "HARD",
           28
          ],
          [
           "HARD",
           29
          ],
          [
           "HARD",
           30
          ],
          [
           "HARD",
           31
          ],
          [
           "HARD",
           32
          ],
          [
           "HARD",
           33
          ],
          [
           "HARD",
           34
          ],
          [
           "HARD",
           35
          ],
          [
           "HARD",
           36
          ],
          [
           "HARD",
           37
          ],
          [
           "HARD",
           38
          ],
          [
           "HARD",
           39
          ],
          [
           "HARD",
           40
          ],
          [
           "HARD",
           41
          ],
          [
           "HARD",
           42
          ],
          [
           "HARD",
           43
          ],
          [
           "HARD",
           44
          ],
          [
           "HARD",
           45
          ],
          [
           "HARD",
           46
          ],
          [
           "HARD",
           47
          ],
          [
           "SOFT",
           1
          ],
          [
           "SOFT",
           2
          ],
          [
           "SOFT",
           5
          ]
         ],
         "hovertemplate": "Driver=NOR<br>Lap Number=%{x}<br>Driver's Position=%{y}<br>Compound=%{customdata[0]}<br>TyreLife=%{customdata[1]}<extra></extra>",
         "legendgroup": "NOR",
         "line": {
          "color": "#ab63fa",
          "dash": "solid"
         },
         "marker": {
          "symbol": "circle"
         },
         "mode": "lines",
         "name": "NOR",
         "showlegend": true,
         "type": "scattergl",
         "x": [
          1,
          2,
          3,
          4,
          5,
          6,
          7,
          8,
          9,
          10,
          11,
          12,
          13,
          14,
          15,
          16,
          17,
          18,
          19,
          20,
          21,
          22,
          23,
          24,
          25,
          26,
          27,
          28,
          29,
          30,
          31,
          32,
          33,
          34,
          35,
          36,
          37,
          38,
          39,
          40,
          41,
          42,
          43,
          44,
          45,
          46,
          47,
          48,
          49,
          50,
          51,
          52,
          53,
          54,
          55,
          56,
          57,
          58
         ],
         "xaxis": "x",
         "y": [
          13,
          11,
          11,
          11,
          11,
          11,
          11,
          10,
          9,
          9,
          9,
          10,
          10,
          10,
          9,
          9,
          9,
          8,
          8,
          8,
          8,
          8,
          8,
          8,
          8,
          8,
          8,
          8,
          8,
          8,
          8,
          8,
          8,
          8,
          8,
          8,
          8,
          8,
          8,
          8,
          8,
          8,
          8,
          9,
          9,
          9,
          9,
          9,
          9,
          9,
          9,
          8,
          8,
          8,
          8,
          8,
          8,
          7
         ],
         "yaxis": "y"
        },
        {
         "customdata": [
          [
           "MEDIUM",
           1
          ],
          [
           "MEDIUM",
           2
          ],
          [
           "MEDIUM",
           3
          ],
          [
           "MEDIUM",
           4
          ],
          [
           "MEDIUM",
           5
          ],
          [
           "MEDIUM",
           6
          ],
          [
           "MEDIUM",
           7
          ],
          [
           "MEDIUM",
           8
          ],
          [
           "HARD",
           1
          ],
          [
           "HARD",
           2
          ],
          [
           "HARD",
           3
          ],
          [
           "HARD",
           4
          ],
          [
           "HARD",
           5
          ],
          [
           "HARD",
           6
          ],
          [
           "HARD",
           7
          ],
          [
           "HARD",
           8
          ],
          [
           "HARD",
           9
          ],
          [
           "HARD",
           10
          ],
          [
           "HARD",
           11
          ],
          [
           "HARD",
           12
          ],
          [
           "HARD",
           13
          ],
          [
           "HARD",
           14
          ],
          [
           "HARD",
           15
          ],
          [
           "HARD",
           16
          ],
          [
           "HARD",
           17
          ],
          [
           "HARD",
           18
          ],
          [
           "HARD",
           19
          ],
          [
           "HARD",
           20
          ],
          [
           "HARD",
           21
          ],
          [
           "HARD",
           22
          ],
          [
           "HARD",
           23
          ],
          [
           "HARD",
           24
          ],
          [
           "HARD",
           25
          ],
          [
           "HARD",
           26
          ],
          [
           "HARD",
           27
          ],
          [
           "HARD",
           28
          ],
          [
           "HARD",
           29
          ],
          [
           "HARD",
           30
          ],
          [
           "HARD",
           31
          ],
          [
           "HARD",
           32
          ],
          [
           "HARD",
           33
          ],
          [
           "HARD",
           34
          ],
          [
           "HARD",
           35
          ],
          [
           "HARD",
           36
          ],
          [
           "HARD",
           37
          ],
          [
           "HARD",
           38
          ],
          [
           "HARD",
           39
          ],
          [
           "HARD",
           40
          ],
          [
           "HARD",
           41
          ],
          [
           "HARD",
           42
          ],
          [
           "HARD",
           43
          ],
          [
           "HARD",
           44
          ],
          [
           "HARD",
           45
          ],
          [
           "HARD",
           46
          ],
          [
           "HARD",
           47
          ],
          [
           "SOFT",
           5
          ],
          [
           "SOFT",
           6
          ],
          [
           "SOFT",
           5
          ]
         ],
         "hovertemplate": "Driver=HUL<br>Lap Number=%{x}<br>Driver's Position=%{y}<br>Compound=%{customdata[0]}<br>TyreLife=%{customdata[1]}<extra></extra>",
         "legendgroup": "HUL",
         "line": {
          "color": "#FFA15A",
          "dash": "solid"
         },
         "marker": {
          "symbol": "circle"
         },
         "mode": "lines",
         "name": "HUL",
         "showlegend": true,
         "type": "scattergl",
         "x": [
          1,
          2,
          3,
          4,
          5,
          6,
          7,
          8,
          9,
          10,
          11,
          12,
          13,
          14,
          15,
          16,
          17,
          18,
          19,
          20,
          21,
          22,
          23,
          24,
          25,
          26,
          27,
          28,
          29,
          30,
          31,
          32,
          33,
          34,
          35,
          36,
          37,
          38,
          39,
          40,
          41,
          42,
          43,
          44,
          45,
          46,
          47,
          48,
          49,
          50,
          51,
          52,
          53,
          54,
          55,
          56,
          57,
          58
         ],
         "xaxis": "x",
         "y": [
          10,
          9,
          9,
          9,
          9,
          9,
          9,
          6,
          6,
          6,
          7,
          7,
          7,
          7,
          8,
          8,
          8,
          7,
          7,
          7,
          7,
          7,
          7,
          7,
          7,
          7,
          7,
          7,
          7,
          7,
          7,
          7,
          7,
          7,
          7,
          7,
          7,
          7,
          7,
          7,
          7,
          7,
          7,
          7,
          8,
          8,
          8,
          8,
          8,
          8,
          8,
          9,
          9,
          9,
          9,
          9,
          9,
          8
         ],
         "yaxis": "y"
        },
        {
         "customdata": [
          [
           "MEDIUM",
           1
          ],
          [
           "MEDIUM",
           2
          ],
          [
           "MEDIUM",
           3
          ],
          [
           "MEDIUM",
           4
          ],
          [
           "MEDIUM",
           5
          ],
          [
           "MEDIUM",
           6
          ],
          [
           "MEDIUM",
           7
          ],
          [
           "MEDIUM",
           8
          ],
          [
           "HARD",
           1
          ],
          [
           "HARD",
           2
          ],
          [
           "HARD",
           3
          ],
          [
           "HARD",
           4
          ],
          [
           "HARD",
           5
          ],
          [
           "HARD",
           6
          ],
          [
           "HARD",
           7
          ],
          [
           "HARD",
           8
          ],
          [
           "HARD",
           9
          ],
          [
           "HARD",
           10
          ],
          [
           "HARD",
           11
          ],
          [
           "HARD",
           12
          ],
          [
           "HARD",
           13
          ],
          [
           "HARD",
           14
          ],
          [
           "HARD",
           15
          ],
          [
           "HARD",
           16
          ],
          [
           "HARD",
           17
          ],
          [
           "HARD",
           18
          ],
          [
           "HARD",
           19
          ],
          [
           "HARD",
           20
          ],
          [
           "HARD",
           21
          ],
          [
           "HARD",
           22
          ],
          [
           "HARD",
           23
          ],
          [
           "HARD",
           24
          ],
          [
           "HARD",
           25
          ],
          [
           "HARD",
           26
          ],
          [
           "HARD",
           27
          ],
          [
           "HARD",
           28
          ],
          [
           "HARD",
           29
          ],
          [
           "HARD",
           30
          ],
          [
           "HARD",
           31
          ],
          [
           "HARD",
           32
          ],
          [
           "HARD",
           33
          ],
          [
           "HARD",
           34
          ],
          [
           "HARD",
           35
          ],
          [
           "HARD",
           36
          ],
          [
           "HARD",
           37
          ],
          [
           "HARD",
           38
          ],
          [
           "HARD",
           39
          ],
          [
           "HARD",
           40
          ],
          [
           "HARD",
           41
          ],
          [
           "HARD",
           42
          ],
          [
           "HARD",
           43
          ],
          [
           "HARD",
           44
          ],
          [
           "HARD",
           45
          ],
          [
           "HARD",
           46
          ],
          [
           "SOFT",
           1
          ],
          [
           "UNKNOWN",
           1
          ],
          [
           "SOFT",
           3
          ],
          [
           "SOFT",
           1
          ]
         ],
         "hovertemplate": "Driver=PIA<br>Lap Number=%{x}<br>Driver's Position=%{y}<br>Compound=%{customdata[0]}<br>TyreLife=%{customdata[1]}<extra></extra>",
         "legendgroup": "PIA",
         "line": {
          "color": "#19d3f3",
          "dash": "solid"
         },
         "marker": {
          "symbol": "circle"
         },
         "mode": "lines",
         "name": "PIA",
         "showlegend": true,
         "type": "scattergl",
         "x": [
          1,
          2,
          3,
          4,
          5,
          6,
          7,
          8,
          9,
          10,
          11,
          12,
          13,
          14,
          15,
          16,
          17,
          18,
          19,
          20,
          21,
          22,
          23,
          24,
          25,
          26,
          27,
          28,
          29,
          30,
          31,
          32,
          33,
          34,
          35,
          36,
          37,
          38,
          39,
          40,
          41,
          42,
          43,
          44,
          45,
          46,
          47,
          48,
          49,
          50,
          51,
          52,
          53,
          54,
          55,
          56,
          57,
          58
         ],
         "xaxis": "x",
         "y": [
          16,
          13,
          13,
          13,
          13,
          13,
          13,
          11,
          10,
          10,
          11,
          11,
          11,
          11,
          11,
          11,
          11,
          10,
          10,
          10,
          10,
          10,
          11,
          11,
          11,
          11,
          12,
          12,
          12,
          11,
          11,
          11,
          11,
          11,
          11,
          11,
          11,
          11,
          11,
          11,
          11,
          11,
          11,
          11,
          11,
          11,
          11,
          11,
          11,
          11,
          11,
          11,
          11,
          11,
          11,
          11,
          11,
          9
         ],
         "yaxis": "y"
        },
        {
         "customdata": [
          [
           "SOFT",
           1
          ],
          [
           "HARD",
           1
          ],
          [
           "HARD",
           2
          ],
          [
           "HARD",
           3
          ],
          [
           "HARD",
           4
          ],
          [
           "HARD",
           5
          ],
          [
           "HARD",
           6
          ],
          [
           "HARD",
           7
          ],
          [
           "HARD",
           8
          ],
          [
           "HARD",
           9
          ],
          [
           "HARD",
           10
          ],
          [
           "HARD",
           11
          ],
          [
           "HARD",
           12
          ],
          [
           "HARD",
           13
          ],
          [
           "HARD",
           14
          ],
          [
           "HARD",
           15
          ],
          [
           "HARD",
           16
          ],
          [
           "HARD",
           17
          ],
          [
           "HARD",
           18
          ],
          [
           "HARD",
           19
          ],
          [
           "HARD",
           20
          ],
          [
           "HARD",
           21
          ],
          [
           "HARD",
           22
          ],
          [
           "HARD",
           23
          ],
          [
           "HARD",
           24
          ],
          [
           "HARD",
           25
          ],
          [
           "HARD",
           26
          ],
          [
           "HARD",
           27
          ],
          [
           "HARD",
           28
          ],
          [
           "HARD",
           29
          ],
          [
           "HARD",
           30
          ],
          [
           "HARD",
           31
          ],
          [
           "HARD",
           32
          ],
          [
           "HARD",
           33
          ],
          [
           "HARD",
           34
          ],
          [
           "HARD",
           35
          ],
          [
           "HARD",
           36
          ],
          [
           "HARD",
           37
          ],
          [
           "HARD",
           38
          ],
          [
           "HARD",
           39
          ],
          [
           "HARD",
           40
          ],
          [
           "HARD",
           41
          ],
          [
           "HARD",
           42
          ],
          [
           "HARD",
           43
          ],
          [
           "HARD",
           44
          ],
          [
           "HARD",
           45
          ],
          [
           "HARD",
           46
          ],
          [
           "HARD",
           47
          ],
          [
           "HARD",
           48
          ],
          [
           "HARD",
           49
          ],
          [
           "HARD",
           50
          ],
          [
           "HARD",
           51
          ],
          [
           "HARD",
           52
          ],
          [
           "HARD",
           53
          ],
          [
           "SOFT",
           null
          ],
          [
           "SOFT",
           null
          ],
          [
           "SOFT",
           null
          ],
          [
           "SOFT",
           3
          ]
         ],
         "hovertemplate": "Driver=ZHO<br>Lap Number=%{x}<br>Driver's Position=%{y}<br>Compound=%{customdata[0]}<br>TyreLife=%{customdata[1]}<extra></extra>",
         "legendgroup": "ZHO",
         "line": {
          "color": "#FF6692",
          "dash": "solid"
         },
         "marker": {
          "symbol": "circle"
         },
         "mode": "lines",
         "name": "ZHO",
         "showlegend": true,
         "type": "scattergl",
         "x": [
          1,
          2,
          3,
          4,
          5,
          6,
          7,
          8,
          9,
          10,
          11,
          12,
          13,
          14,
          15,
          16,
          17,
          18,
          19,
          20,
          21,
          22,
          23,
          24,
          25,
          26,
          27,
          28,
          29,
          30,
          31,
          32,
          33,
          34,
          35,
          36,
          37,
          38,
          39,
          40,
          41,
          42,
          43,
          44,
          45,
          46,
          47,
          48,
          49,
          50,
          51,
          52,
          53,
          54,
          55,
          56,
          57,
          58
         ],
         "xaxis": "x",
         "y": [
          17,
          16,
          16,
          16,
          16,
          16,
          17,
          15,
          15,
          15,
          12,
          12,
          12,
          12,
          12,
          12,
          14,
          13,
          13,
          13,
          13,
          13,
          13,
          13,
          13,
          13,
          13,
          13,
          13,
          13,
          13,
          13,
          13,
          13,
          13,
          12,
          13,
          13,
          13,
          13,
          13,
          13,
          13,
          13,
          13,
          13,
          13,
          13,
          13,
          13,
          13,
          13,
          13,
          12,
          12,
          12,
          14,
          10
         ],
         "yaxis": "y"
        },
        {
         "customdata": [
          [
           "MEDIUM",
           1
          ],
          [
           "MEDIUM",
           2
          ],
          [
           "MEDIUM",
           3
          ],
          [
           "MEDIUM",
           4
          ],
          [
           "MEDIUM",
           5
          ],
          [
           "MEDIUM",
           6
          ],
          [
           "MEDIUM",
           7
          ],
          [
           "MEDIUM",
           8
          ],
          [
           "HARD",
           1
          ],
          [
           "HARD",
           2
          ],
          [
           "HARD",
           3
          ],
          [
           "HARD",
           4
          ],
          [
           "HARD",
           5
          ],
          [
           "HARD",
           6
          ],
          [
           "HARD",
           7
          ],
          [
           "HARD",
           8
          ],
          [
           "HARD",
           9
          ],
          [
           "HARD",
           10
          ],
          [
           "HARD",
           11
          ],
          [
           "HARD",
           12
          ],
          [
           "HARD",
           13
          ],
          [
           "HARD",
           14
          ],
          [
           "HARD",
           15
          ],
          [
           "HARD",
           16
          ],
          [
           "HARD",
           17
          ],
          [
           "HARD",
           18
          ],
          [
           "HARD",
           19
          ],
          [
           "HARD",
           20
          ],
          [
           "HARD",
           21
          ],
          [
           "HARD",
           22
          ],
          [
           "HARD",
           23
          ],
          [
           "HARD",
           24
          ],
          [
           "HARD",
           25
          ],
          [
           "HARD",
           26
          ],
          [
           "HARD",
           27
          ],
          [
           "HARD",
           28
          ],
          [
           "HARD",
           29
          ],
          [
           "HARD",
           30
          ],
          [
           "HARD",
           31
          ],
          [
           "HARD",
           32
          ],
          [
           "HARD",
           33
          ],
          [
           "HARD",
           34
          ],
          [
           "HARD",
           35
          ],
          [
           "HARD",
           36
          ],
          [
           "HARD",
           37
          ],
          [
           "HARD",
           38
          ],
          [
           "HARD",
           39
          ],
          [
           "HARD",
           40
          ],
          [
           "HARD",
           41
          ],
          [
           "HARD",
           42
          ],
          [
           "HARD",
           43
          ],
          [
           "HARD",
           44
          ],
          [
           "HARD",
           45
          ],
          [
           "HARD",
           46
          ],
          [
           "SOFT",
           1
          ],
          [
           "SOFT",
           5
          ],
          [
           "SOFT",
           6
          ],
          [
           "SOFT",
           9
          ]
         ],
         "hovertemplate": "Driver=TSU<br>Lap Number=%{x}<br>Driver's Position=%{y}<br>Compound=%{customdata[0]}<br>TyreLife=%{customdata[1]}<extra></extra>",
         "legendgroup": "TSU",
         "line": {
          "color": "#B6E880",
          "dash": "solid"
         },
         "marker": {
          "symbol": "circle"
         },
         "mode": "lines",
         "name": "TSU",
         "showlegend": true,
         "type": "scattergl",
         "x": [
          1,
          2,
          3,
          4,
          5,
          6,
          7,
          8,
          9,
          10,
          11,
          12,
          13,
          14,
          15,
          16,
          17,
          18,
          19,
          20,
          21,
          22,
          23,
          24,
          25,
          26,
          27,
          28,
          29,
          30,
          31,
          32,
          33,
          34,
          35,
          36,
          37,
          38,
          39,
          40,
          41,
          42,
          43,
          44,
          45,
          46,
          47,
          48,
          49,
          50,
          51,
          52,
          53,
          54,
          55,
          56,
          57,
          58
         ],
         "xaxis": "x",
         "y": [
          12,
          10,
          10,
          10,
          10,
          10,
          10,
          9,
          8,
          8,
          8,
          8,
          9,
          9,
          10,
          10,
          10,
          9,
          9,
          9,
          9,
          9,
          9,
          10,
          10,
          10,
          10,
          11,
          11,
          12,
          12,
          12,
          12,
          12,
          12,
          14,
          14,
          14,
          14,
          14,
          14,
          14,
          14,
          14,
          14,
          14,
          14,
          14,
          14,
          14,
          14,
          14,
          14,
          13,
          13,
          13,
          12,
          11
         ],
         "yaxis": "y"
        },
        {
         "customdata": [
          [
           "MEDIUM",
           2
          ],
          [
           "MEDIUM",
           3
          ],
          [
           "MEDIUM",
           4
          ],
          [
           "MEDIUM",
           5
          ],
          [
           "MEDIUM",
           6
          ],
          [
           "MEDIUM",
           7
          ],
          [
           "MEDIUM",
           8
          ],
          [
           "MEDIUM",
           9
          ],
          [
           "HARD",
           1
          ],
          [
           "HARD",
           2
          ],
          [
           "HARD",
           3
          ],
          [
           "HARD",
           4
          ],
          [
           "HARD",
           5
          ],
          [
           "HARD",
           6
          ],
          [
           "HARD",
           7
          ],
          [
           "HARD",
           8
          ],
          [
           "HARD",
           9
          ],
          [
           "HARD",
           10
          ],
          [
           "HARD",
           11
          ],
          [
           "HARD",
           12
          ],
          [
           "HARD",
           13
          ],
          [
           "HARD",
           14
          ],
          [
           "HARD",
           15
          ],
          [
           "HARD",
           16
          ],
          [
           "HARD",
           17
          ],
          [
           "HARD",
           18
          ],
          [
           "HARD",
           19
          ],
          [
           "HARD",
           20
          ],
          [
           "HARD",
           21
          ],
          [
           "HARD",
           22
          ],
          [
           "HARD",
           23
          ],
          [
           "HARD",
           24
          ],
          [
           "HARD",
           25
          ],
          [
           "HARD",
           26
          ],
          [
           "HARD",
           27
          ],
          [
           "HARD",
           28
          ],
          [
           "HARD",
           29
          ],
          [
           "HARD",
           30
          ],
          [
           "HARD",
           31
          ],
          [
           "HARD",
           32
          ],
          [
           "HARD",
           33
          ],
          [
           "HARD",
           34
          ],
          [
           "HARD",
           35
          ],
          [
           "HARD",
           36
          ],
          [
           "HARD",
           37
          ],
          [
           "HARD",
           38
          ],
          [
           "HARD",
           39
          ],
          [
           "HARD",
           40
          ],
          [
           "HARD",
           41
          ],
          [
           "HARD",
           42
          ],
          [
           "HARD",
           43
          ],
          [
           "HARD",
           44
          ],
          [
           "HARD",
           45
          ],
          [
           "HARD",
           46
          ],
          [
           "HARD",
           47
          ],
          [
           "SOFT",
           5
          ],
          [
           "SOFT",
           6
          ],
          [
           "SOFT",
           5
          ]
         ],
         "hovertemplate": "Driver=ALO<br>Lap Number=%{x}<br>Driver's Position=%{y}<br>Compound=%{customdata[0]}<br>TyreLife=%{customdata[1]}<extra></extra>",
         "legendgroup": "ALO",
         "line": {
          "color": "#FF97FF",
          "dash": "solid"
         },
         "marker": {
          "symbol": "circle"
         },
         "mode": "lines",
         "name": "ALO",
         "showlegend": true,
         "type": "scattergl",
         "x": [
          1,
          2,
          3,
          4,
          5,
          6,
          7,
          8,
          9,
          10,
          11,
          12,
          13,
          14,
          15,
          16,
          17,
          18,
          19,
          20,
          21,
          22,
          23,
          24,
          25,
          26,
          27,
          28,
          29,
          30,
          31,
          32,
          33,
          34,
          35,
          36,
          37,
          38,
          39,
          40,
          41,
          42,
          43,
          44,
          45,
          46,
          47,
          48,
          49,
          50,
          51,
          52,
          53,
          54,
          55,
          56,
          57,
          58
         ],
         "xaxis": "x",
         "y": [
          4,
          5,
          5,
          5,
          5,
          5,
          5,
          3,
          3,
          3,
          3,
          3,
          3,
          3,
          3,
          3,
          3,
          3,
          3,
          3,
          3,
          3,
          3,
          3,
          3,
          3,
          3,
          3,
          3,
          3,
          3,
          3,
          3,
          3,
          3,
          3,
          3,
          3,
          3,
          3,
          3,
          3,
          3,
          3,
          3,
          3,
          3,
          3,
          3,
          3,
          3,
          3,
          3,
          3,
          3,
          3,
          3,
          3
         ],
         "yaxis": "y"
        },
        {
         "customdata": [
          [
           "SOFT",
           1
          ],
          [
           "HARD",
           null
          ],
          [
           "HARD",
           null
          ],
          [
           "HARD",
           null
          ],
          [
           "HARD",
           null
          ],
          [
           "HARD",
           null
          ],
          [
           "HARD",
           null
          ],
          [
           "HARD",
           null
          ],
          [
           "HARD",
           8
          ],
          [
           "HARD",
           9
          ],
          [
           "HARD",
           10
          ],
          [
           "HARD",
           11
          ],
          [
           "HARD",
           12
          ],
          [
           "HARD",
           13
          ],
          [
           "HARD",
           14
          ],
          [
           "HARD",
           15
          ],
          [
           "HARD",
           16
          ],
          [
           "HARD",
           17
          ],
          [
           "HARD",
           18
          ],
          [
           "HARD",
           19
          ],
          [
           "HARD",
           20
          ],
          [
           "HARD",
           21
          ],
          [
           "HARD",
           22
          ],
          [
           "HARD",
           23
          ],
          [
           "HARD",
           24
          ],
          [
           "HARD",
           25
          ],
          [
           "HARD",
           26
          ],
          [
           "HARD",
           27
          ],
          [
           "HARD",
           28
          ],
          [
           "HARD",
           29
          ],
          [
           "HARD",
           30
          ],
          [
           "HARD",
           31
          ],
          [
           "HARD",
           32
          ],
          [
           "HARD",
           33
          ],
          [
           "HARD",
           34
          ],
          [
           "HARD",
           35
          ],
          [
           "HARD",
           36
          ],
          [
           "HARD",
           37
          ],
          [
           "HARD",
           38
          ],
          [
           "HARD",
           39
          ],
          [
           "HARD",
           40
          ],
          [
           "HARD",
           41
          ],
          [
           "HARD",
           42
          ],
          [
           "HARD",
           43
          ],
          [
           "HARD",
           44
          ],
          [
           "HARD",
           45
          ],
          [
           "HARD",
           46
          ],
          [
           "HARD",
           47
          ],
          [
           "HARD",
           48
          ],
          [
           "HARD",
           49
          ],
          [
           "HARD",
           50
          ],
          [
           "HARD",
           51
          ],
          [
           "HARD",
           52
          ],
          [
           "SOFT",
           null
          ],
          [
           "UNKNOWN",
           1
          ],
          [
           "SOFT",
           3
          ],
          [
           "SOFT",
           4
          ],
          [
           "SOFT",
           5
          ]
         ],
         "hovertemplate": "Driver=BOT<br>Lap Number=%{x}<br>Driver's Position=%{y}<br>Compound=%{customdata[0]}<br>TyreLife=%{customdata[1]}<extra></extra>",
         "legendgroup": "BOT",
         "line": {
          "color": "#FECB52",
          "dash": "solid"
         },
         "marker": {
          "symbol": "circle"
         },
         "mode": "lines",
         "name": "BOT",
         "showlegend": true,
         "type": "scattergl",
         "x": [
          1,
          2,
          3,
          4,
          5,
          6,
          7,
          8,
          9,
          10,
          11,
          12,
          13,
          14,
          15,
          16,
          17,
          18,
          19,
          20,
          21,
          22,
          23,
          24,
          25,
          26,
          27,
          28,
          29,
          30,
          31,
          32,
          33,
          34,
          35,
          36,
          37,
          38,
          39,
          40,
          41,
          42,
          43,
          44,
          45,
          46,
          47,
          48,
          49,
          50,
          51,
          52,
          53,
          54,
          55,
          56,
          57,
          58
         ],
         "xaxis": "x",
         "y": [
          19,
          19,
          17,
          17,
          18,
          18,
          18,
          16,
          16,
          16,
          18,
          18,
          18,
          18,
          18,
          18,
          18,
          18,
          16,
          16,
          17,
          17,
          17,
          17,
          17,
          17,
          17,
          16,
          16,
          16,
          16,
          16,
          16,
          16,
          16,
          15,
          15,
          15,
          15,
          15,
          15,
          15,
          15,
          15,
          15,
          15,
          15,
          15,
          15,
          15,
          15,
          15,
          15,
          14,
          14,
          14,
          13,
          12
         ],
         "yaxis": "y"
        },
        {
         "customdata": [
          [
           "SOFT",
           1
          ],
          [
           "SOFT",
           2
          ],
          [
           "SOFT",
           3
          ],
          [
           "SOFT",
           4
          ],
          [
           "SOFT",
           5
          ],
          [
           "SOFT",
           6
          ],
          [
           "SOFT",
           7
          ],
          [
           "SOFT",
           8
          ],
          [
           "HARD",
           1
          ],
          [
           "HARD",
           2
          ],
          [
           "HARD",
           3
          ],
          [
           "HARD",
           4
          ],
          [
           "HARD",
           5
          ],
          [
           "HARD",
           6
          ],
          [
           "HARD",
           7
          ],
          [
           "HARD",
           8
          ],
          [
           "HARD",
           9
          ],
          [
           "HARD",
           10
          ],
          [
           "HARD",
           11
          ],
          [
           "HARD",
           12
          ],
          [
           "HARD",
           13
          ],
          [
           "HARD",
           14
          ],
          [
           "HARD",
           15
          ],
          [
           "HARD",
           16
          ],
          [
           "HARD",
           17
          ],
          [
           "HARD",
           18
          ],
          [
           "HARD",
           19
          ],
          [
           "HARD",
           20
          ],
          [
           "HARD",
           21
          ],
          [
           "HARD",
           22
          ],
          [
           "HARD",
           23
          ],
          [
           "HARD",
           24
          ],
          [
           "HARD",
           25
          ],
          [
           "HARD",
           26
          ],
          [
           "HARD",
           27
          ],
          [
           "HARD",
           28
          ],
          [
           "HARD",
           29
          ],
          [
           "HARD",
           30
          ],
          [
           "HARD",
           31
          ],
          [
           "HARD",
           32
          ],
          [
           "HARD",
           33
          ],
          [
           "HARD",
           34
          ],
          [
           "HARD",
           35
          ],
          [
           "HARD",
           36
          ],
          [
           "HARD",
           37
          ],
          [
           "HARD",
           38
          ],
          [
           "HARD",
           39
          ],
          [
           "HARD",
           40
          ],
          [
           "HARD",
           41
          ],
          [
           "HARD",
           42
          ],
          [
           "HARD",
           43
          ],
          [
           "HARD",
           44
          ],
          [
           "HARD",
           45
          ],
          [
           "HARD",
           46
          ],
          [
           "HARD",
           47
          ],
          [
           "SOFT",
           2
          ],
          [
           "SOFT",
           3
          ]
         ],
         "hovertemplate": "Driver=GAS<br>Lap Number=%{x}<br>Driver's Position=%{y}<br>Compound=%{customdata[0]}<br>TyreLife=%{customdata[1]}<extra></extra>",
         "legendgroup": "GAS",
         "line": {
          "color": "#636efa",
          "dash": "solid"
         },
         "marker": {
          "symbol": "circle"
         },
         "mode": "lines",
         "name": "GAS",
         "showlegend": true,
         "type": "scattergl",
         "x": [
          1,
          2,
          3,
          4,
          5,
          6,
          7,
          8,
          9,
          10,
          11,
          12,
          13,
          14,
          15,
          16,
          17,
          18,
          19,
          20,
          21,
          22,
          23,
          24,
          25,
          26,
          27,
          28,
          29,
          30,
          31,
          32,
          33,
          34,
          35,
          36,
          37,
          38,
          39,
          40,
          41,
          42,
          43,
          44,
          45,
          46,
          47,
          48,
          49,
          50,
          51,
          52,
          53,
          54,
          55,
          56,
          57
         ],
         "xaxis": "x",
         "y": [
          9,
          8,
          8,
          8,
          8,
          8,
          8,
          5,
          5,
          5,
          4,
          4,
          4,
          5,
          5,
          5,
          5,
          4,
          4,
          4,
          4,
          4,
          4,
          4,
          4,
          5,
          5,
          5,
          5,
          5,
          5,
          5,
          5,
          5,
          5,
          5,
          5,
          5,
          5,
          5,
          5,
          5,
          5,
          5,
          5,
          5,
          5,
          5,
          5,
          5,
          5,
          5,
          5,
          5,
          5,
          5,
          5
         ],
         "yaxis": "y"
        },
        {
         "customdata": [
          [
           "SOFT",
           1
          ],
          [
           "HARD",
           null
          ],
          [
           "HARD",
           null
          ],
          [
           "HARD",
           null
          ],
          [
           "HARD",
           null
          ],
          [
           "HARD",
           null
          ],
          [
           "HARD",
           null
          ],
          [
           "HARD",
           null
          ],
          [
           "HARD",
           8
          ],
          [
           "HARD",
           9
          ],
          [
           "HARD",
           10
          ],
          [
           "HARD",
           11
          ],
          [
           "HARD",
           12
          ],
          [
           "HARD",
           13
          ],
          [
           "HARD",
           14
          ],
          [
           "HARD",
           15
          ],
          [
           "HARD",
           16
          ],
          [
           "HARD",
           17
          ],
          [
           "HARD",
           18
          ],
          [
           "HARD",
           19
          ],
          [
           "HARD",
           20
          ],
          [
           "HARD",
           21
          ],
          [
           "HARD",
           22
          ],
          [
           "HARD",
           23
          ],
          [
           "HARD",
           24
          ],
          [
           "HARD",
           25
          ],
          [
           "HARD",
           26
          ],
          [
           "HARD",
           27
          ],
          [
           "HARD",
           28
          ],
          [
           "HARD",
           29
          ],
          [
           "HARD",
           30
          ],
          [
           "HARD",
           31
          ],
          [
           "HARD",
           32
          ],
          [
           "HARD",
           33
          ],
          [
           "HARD",
           34
          ],
          [
           "HARD",
           35
          ],
          [
           "HARD",
           36
          ],
          [
           "HARD",
           37
          ],
          [
           "HARD",
           38
          ],
          [
           "HARD",
           39
          ],
          [
           "HARD",
           40
          ],
          [
           "HARD",
           41
          ],
          [
           "HARD",
           42
          ],
          [
           "HARD",
           43
          ],
          [
           "HARD",
           44
          ],
          [
           "HARD",
           45
          ],
          [
           "HARD",
           46
          ],
          [
           "HARD",
           47
          ],
          [
           "HARD",
           48
          ],
          [
           "HARD",
           49
          ],
          [
           "HARD",
           50
          ],
          [
           "HARD",
           51
          ],
          [
           "HARD",
           52
          ],
          [
           "HARD",
           53
          ],
          [
           "HARD",
           54
          ],
          [
           "SOFT",
           null
          ],
          [
           "SOFT",
           null
          ]
         ],
         "hovertemplate": "Driver=OCO<br>Lap Number=%{x}<br>Driver's Position=%{y}<br>Compound=%{customdata[0]}<br>TyreLife=%{customdata[1]}<extra></extra>",
         "legendgroup": "OCO",
         "line": {
          "color": "#EF553B",
          "dash": "solid"
         },
         "marker": {
          "symbol": "circle"
         },
         "mode": "lines",
         "name": "OCO",
         "showlegend": true,
         "type": "scattergl",
         "x": [
          1,
          2,
          3,
          4,
          5,
          6,
          7,
          8,
          9,
          10,
          11,
          12,
          13,
          14,
          15,
          16,
          17,
          18,
          19,
          20,
          21,
          22,
          23,
          24,
          25,
          26,
          27,
          28,
          29,
          30,
          31,
          32,
          33,
          34,
          35,
          36,
          37,
          38,
          39,
          40,
          41,
          42,
          43,
          44,
          45,
          46,
          47,
          48,
          49,
          50,
          51,
          52,
          53,
          54,
          55,
          56,
          57
         ],
         "xaxis": "x",
         "y": [
          11,
          15,
          15,
          15,
          15,
          15,
          15,
          13,
          13,
          14,
          13,
          13,
          13,
          13,
          13,
          13,
          12,
          11,
          11,
          11,
          11,
          12,
          12,
          12,
          12,
          12,
          11,
          10,
          10,
          10,
          10,
          10,
          10,
          10,
          10,
          10,
          10,
          10,
          10,
          10,
          10,
          10,
          10,
          10,
          10,
          10,
          10,
          10,
          10,
          10,
          10,
          10,
          10,
          10,
          10,
          10,
          10
         ],
         "yaxis": "y"
        },
        {
         "customdata": [
          [
           "HARD",
           1
          ],
          [
           "HARD",
           2
          ],
          [
           "HARD",
           3
          ],
          [
           "HARD",
           4
          ],
          [
           "HARD",
           5
          ],
          [
           "HARD",
           6
          ],
          [
           "HARD",
           7
          ],
          [
           "HARD",
           8
          ],
          [
           "MEDIUM",
           1
          ],
          [
           "MEDIUM",
           2
          ],
          [
           "MEDIUM",
           3
          ],
          [
           "MEDIUM",
           4
          ],
          [
           "MEDIUM",
           5
          ],
          [
           "MEDIUM",
           6
          ],
          [
           "MEDIUM",
           7
          ],
          [
           "MEDIUM",
           8
          ],
          [
           "MEDIUM",
           9
          ],
          [
           "MEDIUM",
           10
          ],
          [
           "MEDIUM",
           11
          ],
          [
           "MEDIUM",
           12
          ],
          [
           "MEDIUM",
           13
          ],
          [
           "MEDIUM",
           14
          ],
          [
           "MEDIUM",
           15
          ],
          [
           "MEDIUM",
           16
          ],
          [
           "MEDIUM",
           17
          ],
          [
           "MEDIUM",
           18
          ],
          [
           "MEDIUM",
           19
          ],
          [
           "MEDIUM",
           20
          ],
          [
           "MEDIUM",
           21
          ],
          [
           "MEDIUM",
           22
          ],
          [
           "MEDIUM",
           23
          ],
          [
           "MEDIUM",
           24
          ],
          [
           "MEDIUM",
           25
          ],
          [
           "MEDIUM",
           26
          ],
          [
           "MEDIUM",
           27
          ],
          [
           "MEDIUM",
           28
          ],
          [
           "MEDIUM",
           29
          ],
          [
           "MEDIUM",
           30
          ],
          [
           "MEDIUM",
           31
          ],
          [
           "MEDIUM",
           32
          ],
          [
           "MEDIUM",
           33
          ],
          [
           "MEDIUM",
           34
          ],
          [
           "MEDIUM",
           35
          ],
          [
           "MEDIUM",
           36
          ],
          [
           "MEDIUM",
           37
          ],
          [
           "SOFT",
           1
          ],
          [
           "SOFT",
           2
          ],
          [
           "SOFT",
           3
          ],
          [
           "SOFT",
           4
          ],
          [
           "SOFT",
           5
          ],
          [
           "SOFT",
           6
          ],
          [
           "SOFT",
           7
          ],
          [
           "SOFT",
           8
          ],
          [
           "SOFT",
           9
          ],
          [
           "SOFT",
           5
          ],
          [
           "SOFT",
           6
          ],
          [
           "SOFT",
           7
          ]
         ],
         "hovertemplate": "Driver=DEV<br>Lap Number=%{x}<br>Driver's Position=%{y}<br>Compound=%{customdata[0]}<br>TyreLife=%{customdata[1]}<extra></extra>",
         "legendgroup": "DEV",
         "line": {
          "color": "#00cc96",
          "dash": "solid"
         },
         "marker": {
          "symbol": "circle"
         },
         "mode": "lines",
         "name": "DEV",
         "showlegend": true,
         "type": "scattergl",
         "x": [
          1,
          2,
          3,
          4,
          5,
          6,
          7,
          8,
          9,
          10,
          11,
          12,
          13,
          14,
          15,
          16,
          17,
          18,
          19,
          20,
          21,
          22,
          23,
          24,
          25,
          26,
          27,
          28,
          29,
          30,
          31,
          32,
          33,
          34,
          35,
          36,
          37,
          38,
          39,
          40,
          41,
          42,
          43,
          44,
          45,
          46,
          47,
          48,
          49,
          50,
          51,
          52,
          53,
          54,
          55,
          56,
          57
         ],
         "xaxis": "x",
         "y": [
          15,
          14,
          14,
          14,
          14,
          14,
          14,
          12,
          12,
          12,
          17,
          17,
          17,
          17,
          17,
          17,
          17,
          17,
          17,
          17,
          16,
          16,
          16,
          16,
          16,
          16,
          16,
          17,
          17,
          17,
          17,
          17,
          17,
          17,
          17,
          17,
          16,
          16,
          16,
          16,
          16,
          16,
          16,
          16,
          16,
          17,
          17,
          17,
          17,
          17,
          17,
          17,
          17,
          16,
          16,
          16,
          15
         ],
         "yaxis": "y"
        },
        {
         "customdata": [
          [
           "HARD",
           1
          ],
          [
           "MEDIUM",
           1
          ],
          [
           "HARD",
           2
          ],
          [
           "HARD",
           3
          ],
          [
           "HARD",
           4
          ],
          [
           "HARD",
           5
          ],
          [
           "HARD",
           6
          ],
          [
           "HARD",
           7
          ],
          [
           "MEDIUM",
           1
          ],
          [
           "MEDIUM",
           2
          ],
          [
           "MEDIUM",
           3
          ],
          [
           "MEDIUM",
           4
          ],
          [
           "MEDIUM",
           5
          ],
          [
           "MEDIUM",
           6
          ],
          [
           "MEDIUM",
           7
          ],
          [
           "MEDIUM",
           8
          ],
          [
           "MEDIUM",
           9
          ],
          [
           "MEDIUM",
           10
          ],
          [
           "MEDIUM",
           11
          ],
          [
           "MEDIUM",
           12
          ],
          [
           "MEDIUM",
           13
          ],
          [
           "MEDIUM",
           14
          ],
          [
           "MEDIUM",
           15
          ],
          [
           "MEDIUM",
           16
          ],
          [
           "MEDIUM",
           17
          ],
          [
           "MEDIUM",
           18
          ],
          [
           "MEDIUM",
           19
          ],
          [
           "MEDIUM",
           20
          ],
          [
           "MEDIUM",
           21
          ],
          [
           "MEDIUM",
           22
          ],
          [
           "MEDIUM",
           23
          ],
          [
           "MEDIUM",
           24
          ],
          [
           "MEDIUM",
           25
          ],
          [
           "MEDIUM",
           26
          ],
          [
           "MEDIUM",
           27
          ],
          [
           "MEDIUM",
           28
          ],
          [
           "HARD",
           8
          ],
          [
           "HARD",
           9
          ],
          [
           "HARD",
           10
          ],
          [
           "HARD",
           11
          ],
          [
           "HARD",
           12
          ],
          [
           "HARD",
           13
          ],
          [
           "HARD",
           14
          ],
          [
           "HARD",
           15
          ],
          [
           "HARD",
           16
          ],
          [
           "HARD",
           17
          ],
          [
           "HARD",
           18
          ],
          [
           "HARD",
           19
          ],
          [
           "HARD",
           20
          ],
          [
           "HARD",
           21
          ],
          [
           "HARD",
           22
          ],
          [
           "HARD",
           23
          ],
          [
           "HARD",
           24
          ],
          [
           "HARD",
           25
          ],
          [
           "SOFT",
           1
          ],
          [
           "SOFT",
           2
          ],
          [
           "SOFT",
           3
          ]
         ],
         "hovertemplate": "Driver=SAR<br>Lap Number=%{x}<br>Driver's Position=%{y}<br>Compound=%{customdata[0]}<br>TyreLife=%{customdata[1]}<extra></extra>",
         "legendgroup": "SAR",
         "line": {
          "color": "#ab63fa",
          "dash": "solid"
         },
         "marker": {
          "symbol": "circle"
         },
         "mode": "lines",
         "name": "SAR",
         "showlegend": true,
         "type": "scattergl",
         "x": [
          1,
          2,
          3,
          4,
          5,
          6,
          7,
          8,
          9,
          10,
          11,
          12,
          13,
          14,
          15,
          16,
          17,
          18,
          19,
          20,
          21,
          22,
          23,
          24,
          25,
          26,
          27,
          28,
          29,
          30,
          31,
          32,
          33,
          34,
          35,
          36,
          37,
          38,
          39,
          40,
          41,
          42,
          43,
          44,
          45,
          46,
          47,
          48,
          49,
          50,
          51,
          52,
          53,
          54,
          55,
          56,
          57
         ],
         "xaxis": "x",
         "y": [
          18,
          17,
          19,
          19,
          19,
          19,
          19,
          17,
          17,
          17,
          15,
          15,
          15,
          16,
          16,
          16,
          16,
          16,
          15,
          15,
          15,
          15,
          15,
          15,
          15,
          15,
          15,
          15,
          15,
          15,
          15,
          15,
          15,
          15,
          15,
          16,
          17,
          17,
          17,
          17,
          17,
          17,
          17,
          17,
          17,
          16,
          16,
          16,
          16,
          16,
          16,
          16,
          16,
          15,
          15,
          15,
          16
         ],
         "yaxis": "y"
        },
        {
         "customdata": [
          [
           "MEDIUM",
           1
          ],
          [
           "MEDIUM",
           2
          ],
          [
           "MEDIUM",
           3
          ],
          [
           "MEDIUM",
           4
          ],
          [
           "MEDIUM",
           5
          ],
          [
           "MEDIUM",
           6
          ],
          [
           "MEDIUM",
           7
          ],
          [
           "HARD",
           1
          ],
          [
           "HARD",
           2
          ],
          [
           "HARD",
           3
          ],
          [
           "HARD",
           4
          ],
          [
           "HARD",
           5
          ],
          [
           "HARD",
           6
          ],
          [
           "HARD",
           7
          ],
          [
           "HARD",
           8
          ],
          [
           "HARD",
           9
          ],
          [
           "HARD",
           10
          ],
          [
           "HARD",
           11
          ],
          [
           "HARD",
           12
          ],
          [
           "HARD",
           13
          ],
          [
           "HARD",
           14
          ],
          [
           "HARD",
           15
          ],
          [
           "HARD",
           16
          ],
          [
           "HARD",
           17
          ],
          [
           "HARD",
           18
          ],
          [
           "HARD",
           19
          ],
          [
           "HARD",
           20
          ],
          [
           "HARD",
           21
          ],
          [
           "HARD",
           22
          ],
          [
           "HARD",
           23
          ],
          [
           "HARD",
           24
          ],
          [
           "HARD",
           25
          ],
          [
           "HARD",
           26
          ],
          [
           "HARD",
           27
          ],
          [
           "HARD",
           28
          ],
          [
           "HARD",
           29
          ],
          [
           "HARD",
           30
          ],
          [
           "HARD",
           31
          ],
          [
           "HARD",
           32
          ],
          [
           "HARD",
           33
          ],
          [
           "HARD",
           34
          ],
          [
           "HARD",
           35
          ],
          [
           "HARD",
           36
          ],
          [
           "HARD",
           37
          ],
          [
           "HARD",
           38
          ],
          [
           "HARD",
           39
          ],
          [
           "HARD",
           40
          ],
          [
           "HARD",
           41
          ],
          [
           "HARD",
           42
          ],
          [
           "HARD",
           43
          ],
          [
           "HARD",
           44
          ],
          [
           "HARD",
           45
          ],
          [
           "HARD",
           46
          ]
         ],
         "hovertemplate": "Driver=MAG<br>Lap Number=%{x}<br>Driver's Position=%{y}<br>Compound=%{customdata[0]}<br>TyreLife=%{customdata[1]}<extra></extra>",
         "legendgroup": "MAG",
         "line": {
          "color": "#FFA15A",
          "dash": "solid"
         },
         "marker": {
          "symbol": "circle"
         },
         "mode": "lines",
         "name": "MAG",
         "showlegend": true,
         "type": "scattergl",
         "x": [
          1,
          2,
          3,
          4,
          5,
          6,
          7,
          8,
          9,
          10,
          11,
          12,
          13,
          14,
          15,
          16,
          17,
          18,
          19,
          20,
          21,
          22,
          23,
          24,
          25,
          26,
          27,
          28,
          29,
          30,
          31,
          32,
          33,
          34,
          35,
          36,
          37,
          38,
          39,
          40,
          41,
          42,
          43,
          44,
          45,
          46,
          47,
          48,
          49,
          50,
          51,
          52,
          53
         ],
         "xaxis": "x",
         "y": [
          14,
          12,
          12,
          12,
          12,
          12,
          12,
          18,
          18,
          18,
          14,
          14,
          14,
          14,
          14,
          15,
          15,
          15,
          14,
          14,
          14,
          14,
          14,
          14,
          14,
          14,
          14,
          14,
          14,
          14,
          14,
          14,
          14,
          14,
          14,
          13,
          12,
          12,
          12,
          12,
          12,
          12,
          12,
          12,
          12,
          12,
          12,
          12,
          12,
          12,
          12,
          12,
          12
         ],
         "yaxis": "y"
        },
        {
         "customdata": [
          [
           "MEDIUM",
           1
          ],
          [
           "MEDIUM",
           2
          ],
          [
           "MEDIUM",
           3
          ],
          [
           "MEDIUM",
           4
          ],
          [
           "MEDIUM",
           5
          ],
          [
           "MEDIUM",
           6
          ],
          [
           "MEDIUM",
           7
          ],
          [
           "HARD",
           1
          ],
          [
           "HARD",
           2
          ],
          [
           "HARD",
           3
          ],
          [
           "HARD",
           4
          ],
          [
           "HARD",
           5
          ],
          [
           "HARD",
           6
          ],
          [
           "HARD",
           7
          ],
          [
           "HARD",
           8
          ],
          [
           "HARD",
           9
          ],
          [
           "HARD",
           10
          ],
          [
           "HARD",
           11
          ]
         ],
         "hovertemplate": "Driver=RUS<br>Lap Number=%{x}<br>Driver's Position=%{y}<br>Compound=%{customdata[0]}<br>TyreLife=%{customdata[1]}<extra></extra>",
         "legendgroup": "RUS",
         "line": {
          "color": "#19d3f3",
          "dash": "solid"
         },
         "marker": {
          "symbol": "circle"
         },
         "mode": "lines",
         "name": "RUS",
         "showlegend": true,
         "type": "scattergl",
         "x": [
          1,
          2,
          3,
          4,
          5,
          6,
          7,
          8,
          9,
          10,
          11,
          12,
          13,
          14,
          15,
          16,
          17,
          18
         ],
         "xaxis": "x",
         "y": [
          2,
          1,
          1,
          1,
          1,
          1,
          1,
          7,
          7,
          7,
          5,
          5,
          5,
          4,
          4,
          4,
          4,
          14
         ],
         "yaxis": "y"
        },
        {
         "customdata": [
          [
           "MEDIUM",
           1
          ],
          [
           "MEDIUM",
           2
          ],
          [
           "MEDIUM",
           3
          ],
          [
           "MEDIUM",
           4
          ],
          [
           "MEDIUM",
           5
          ],
          [
           "MEDIUM",
           6
          ],
          [
           "MEDIUM",
           7
          ]
         ],
         "hovertemplate": "Driver=ALB<br>Lap Number=%{x}<br>Driver's Position=%{y}<br>Compound=%{customdata[0]}<br>TyreLife=%{customdata[1]}<extra></extra>",
         "legendgroup": "ALB",
         "line": {
          "color": "#FF6692",
          "dash": "solid"
         },
         "marker": {
          "symbol": "circle"
         },
         "mode": "lines",
         "name": "ALB",
         "showlegend": true,
         "type": "scattergl",
         "x": [
          1,
          2,
          3,
          4,
          5,
          6,
          7
         ],
         "xaxis": "x",
         "y": [
          8,
          6,
          6,
          6,
          6,
          6,
          6
         ],
         "yaxis": "y"
        },
        {
         "customdata": [
          [
           "MEDIUM",
           1
          ],
          [
           "MEDIUM",
           2
          ],
          [
           "MEDIUM",
           3
          ],
          [
           "MEDIUM",
           4
          ],
          [
           "MEDIUM",
           5
          ],
          [
           "MEDIUM",
           6
          ],
          [
           "MEDIUM",
           7
          ],
          [
           "HARD",
           1
          ],
          [
           "HARD",
           2
          ],
          [
           "HARD",
           3
          ],
          [
           "HARD",
           4
          ],
          [
           "HARD",
           5
          ],
          [
           "HARD",
           6
          ],
          [
           "HARD",
           7
          ],
          [
           "HARD",
           8
          ],
          [
           "HARD",
           9
          ],
          [
           "HARD",
           10
          ],
          [
           "HARD",
           11
          ],
          [
           "HARD",
           12
          ],
          [
           "HARD",
           13
          ],
          [
           "HARD",
           14
          ],
          [
           "HARD",
           15
          ],
          [
           "HARD",
           16
          ],
          [
           "HARD",
           17
          ],
          [
           "HARD",
           18
          ],
          [
           "HARD",
           19
          ],
          [
           "HARD",
           20
          ],
          [
           "HARD",
           21
          ],
          [
           "HARD",
           22
          ],
          [
           "HARD",
           23
          ],
          [
           "HARD",
           24
          ],
          [
           "HARD",
           25
          ],
          [
           "HARD",
           26
          ],
          [
           "HARD",
           27
          ],
          [
           "HARD",
           28
          ],
          [
           "HARD",
           29
          ],
          [
           "HARD",
           30
          ],
          [
           "HARD",
           31
          ],
          [
           "HARD",
           32
          ],
          [
           "HARD",
           33
          ],
          [
           "HARD",
           34
          ],
          [
           "HARD",
           35
          ],
          [
           "HARD",
           36
          ],
          [
           "HARD",
           37
          ],
          [
           "HARD",
           38
          ],
          [
           "HARD",
           39
          ],
          [
           "HARD",
           40
          ],
          [
           "HARD",
           41
          ],
          [
           "HARD",
           42
          ],
          [
           "HARD",
           43
          ],
          [
           "HARD",
           44
          ],
          [
           "HARD",
           45
          ],
          [
           "HARD",
           46
          ],
          [
           "HARD",
           47
          ],
          [
           "HARD",
           48
          ],
          [
           "SOFT",
           5
          ],
          [
           "SOFT",
           6
          ],
          [
           "SOFT",
           5
          ]
         ],
         "hovertemplate": "Driver=SAI<br>Lap Number=%{x}<br>Driver's Position=%{y}<br>Compound=%{customdata[0]}<br>TyreLife=%{customdata[1]}<extra></extra>",
         "legendgroup": "SAI",
         "line": {
          "color": "#B6E880",
          "dash": "solid"
         },
         "marker": {
          "symbol": "circle"
         },
         "mode": "lines",
         "name": "SAI",
         "showlegend": true,
         "type": "scattergl",
         "x": [
          1,
          2,
          3,
          4,
          5,
          6,
          7,
          8,
          9,
          10,
          11,
          12,
          13,
          14,
          15,
          16,
          17,
          18,
          19,
          20,
          21,
          22,
          23,
          24,
          25,
          26,
          27,
          28,
          29,
          30,
          31,
          32,
          33,
          34,
          35,
          36,
          37,
          38,
          39,
          40,
          41,
          42,
          43,
          44,
          45,
          46,
          47,
          48,
          49,
          50,
          51,
          52,
          53,
          54,
          55,
          56,
          57,
          58
         ],
         "xaxis": "x",
         "y": [
          5,
          4,
          4,
          4,
          4,
          4,
          4,
          8,
          11,
          11,
          10,
          9,
          8,
          8,
          7,
          6,
          6,
          5,
          5,
          5,
          5,
          5,
          5,
          5,
          5,
          4,
          4,
          4,
          4,
          4,
          4,
          4,
          4,
          4,
          4,
          4,
          4,
          4,
          4,
          4,
          4,
          4,
          4,
          4,
          4,
          4,
          4,
          4,
          4,
          4,
          4,
          4,
          4,
          4,
          4,
          4,
          4,
          4
         ],
         "yaxis": "y"
        },
        {
         "customdata": [
          [
           "MEDIUM",
           1
          ],
          [
           "MEDIUM",
           2
          ],
          [
           "MEDIUM",
           3
          ],
          [
           "MEDIUM",
           4
          ],
          [
           "MEDIUM",
           5
          ],
          [
           "MEDIUM",
           6
          ],
          [
           "MEDIUM",
           7
          ],
          [
           "MEDIUM",
           8
          ],
          [
           "HARD",
           1
          ],
          [
           "HARD",
           2
          ],
          [
           "HARD",
           3
          ],
          [
           "HARD",
           4
          ],
          [
           "HARD",
           5
          ],
          [
           "HARD",
           6
          ],
          [
           "HARD",
           7
          ],
          [
           "HARD",
           8
          ],
          [
           "HARD",
           9
          ],
          [
           "HARD",
           10
          ],
          [
           "HARD",
           11
          ],
          [
           "HARD",
           12
          ],
          [
           "HARD",
           13
          ],
          [
           "HARD",
           14
          ],
          [
           "HARD",
           15
          ],
          [
           "HARD",
           16
          ],
          [
           "HARD",
           17
          ],
          [
           "HARD",
           18
          ],
          [
           "HARD",
           19
          ],
          [
           "HARD",
           20
          ],
          [
           "HARD",
           21
          ],
          [
           "HARD",
           22
          ],
          [
           "HARD",
           23
          ],
          [
           "HARD",
           24
          ],
          [
           "HARD",
           25
          ],
          [
           "HARD",
           26
          ],
          [
           "HARD",
           27
          ],
          [
           "HARD",
           28
          ],
          [
           "HARD",
           29
          ],
          [
           "HARD",
           30
          ],
          [
           "HARD",
           31
          ],
          [
           "HARD",
           32
          ],
          [
           "HARD",
           33
          ],
          [
           "HARD",
           34
          ],
          [
           "HARD",
           35
          ],
          [
           "HARD",
           36
          ],
          [
           "HARD",
           37
          ],
          [
           "HARD",
           38
          ],
          [
           "HARD",
           39
          ],
          [
           "HARD",
           40
          ],
          [
           "HARD",
           41
          ],
          [
           "HARD",
           42
          ],
          [
           "HARD",
           43
          ],
          [
           "HARD",
           44
          ],
          [
           "HARD",
           45
          ],
          [
           "HARD",
           46
          ],
          [
           "HARD",
           47
          ],
          [
           "SOFT",
           5
          ],
          [
           "SOFT",
           6
          ],
          [
           "SOFT",
           5
          ]
         ],
         "hovertemplate": "Driver=HAM<br>Lap Number=%{x}<br>Driver's Position=%{y}<br>Compound=%{customdata[0]}<br>TyreLife=%{customdata[1]}<extra></extra>",
         "legendgroup": "HAM",
         "line": {
          "color": "#FF97FF",
          "dash": "solid"
         },
         "marker": {
          "symbol": "circle"
         },
         "mode": "lines",
         "name": "HAM",
         "showlegend": true,
         "type": "scattergl",
         "x": [
          1,
          2,
          3,
          4,
          5,
          6,
          7,
          8,
          9,
          10,
          11,
          12,
          13,
          14,
          15,
          16,
          17,
          18,
          19,
          20,
          21,
          22,
          23,
          24,
          25,
          26,
          27,
          28,
          29,
          30,
          31,
          32,
          33,
          34,
          35,
          36,
          37,
          38,
          39,
          40,
          41,
          42,
          43,
          44,
          45,
          46,
          47,
          48,
          49,
          50,
          51,
          52,
          53,
          54,
          55,
          56,
          57,
          58
         ],
         "xaxis": "x",
         "y": [
          3,
          2,
          2,
          2,
          2,
          2,
          2,
          1,
          1,
          1,
          1,
          1,
          2,
          2,
          2,
          2,
          2,
          2,
          2,
          2,
          2,
          2,
          2,
          2,
          2,
          2,
          2,
          2,
          2,
          2,
          2,
          2,
          2,
          2,
          2,
          2,
          2,
          2,
          2,
          2,
          2,
          2,
          2,
          2,
          2,
          2,
          2,
          2,
          2,
          2,
          2,
          2,
          2,
          2,
          2,
          2,
          2,
          2
         ],
         "yaxis": "y"
        },
        {
         "customdata": [
          [
           "MEDIUM",
           1
          ]
         ],
         "hovertemplate": "Driver=LEC<br>Lap Number=%{x}<br>Driver's Position=%{y}<br>Compound=%{customdata[0]}<br>TyreLife=%{customdata[1]}<extra></extra>",
         "legendgroup": "LEC",
         "line": {
          "color": "#FECB52",
          "dash": "solid"
         },
         "marker": {
          "symbol": "circle"
         },
         "mode": "lines",
         "name": "LEC",
         "showlegend": true,
         "type": "scattergl",
         "x": [
          0
         ],
         "xaxis": "x",
         "y": [
          ""
         ],
         "yaxis": "y"
        }
       ],
       "layout": {
        "legend": {
         "title": {
          "text": "Driver"
         },
         "tracegroupgap": 0
        },
        "template": {
         "data": {
          "bar": [
           {
            "error_x": {
             "color": "#2a3f5f"
            },
            "error_y": {
             "color": "#2a3f5f"
            },
            "marker": {
             "line": {
              "color": "#E5ECF6",
              "width": 0.5
             },
             "pattern": {
              "fillmode": "overlay",
              "size": 10,
              "solidity": 0.2
             }
            },
            "type": "bar"
           }
          ],
          "barpolar": [
           {
            "marker": {
             "line": {
              "color": "#E5ECF6",
              "width": 0.5
             },
             "pattern": {
              "fillmode": "overlay",
              "size": 10,
              "solidity": 0.2
             }
            },
            "type": "barpolar"
           }
          ],
          "carpet": [
           {
            "aaxis": {
             "endlinecolor": "#2a3f5f",
             "gridcolor": "white",
             "linecolor": "white",
             "minorgridcolor": "white",
             "startlinecolor": "#2a3f5f"
            },
            "baxis": {
             "endlinecolor": "#2a3f5f",
             "gridcolor": "white",
             "linecolor": "white",
             "minorgridcolor": "white",
             "startlinecolor": "#2a3f5f"
            },
            "type": "carpet"
           }
          ],
          "choropleth": [
           {
            "colorbar": {
             "outlinewidth": 0,
             "ticks": ""
            },
            "type": "choropleth"
           }
          ],
          "contour": [
           {
            "colorbar": {
             "outlinewidth": 0,
             "ticks": ""
            },
            "colorscale": [
             [
              0,
              "#0d0887"
             ],
             [
              0.1111111111111111,
              "#46039f"
             ],
             [
              0.2222222222222222,
              "#7201a8"
             ],
             [
              0.3333333333333333,
              "#9c179e"
             ],
             [
              0.4444444444444444,
              "#bd3786"
             ],
             [
              0.5555555555555556,
              "#d8576b"
             ],
             [
              0.6666666666666666,
              "#ed7953"
             ],
             [
              0.7777777777777778,
              "#fb9f3a"
             ],
             [
              0.8888888888888888,
              "#fdca26"
             ],
             [
              1,
              "#f0f921"
             ]
            ],
            "type": "contour"
           }
          ],
          "contourcarpet": [
           {
            "colorbar": {
             "outlinewidth": 0,
             "ticks": ""
            },
            "type": "contourcarpet"
           }
          ],
          "heatmap": [
           {
            "colorbar": {
             "outlinewidth": 0,
             "ticks": ""
            },
            "colorscale": [
             [
              0,
              "#0d0887"
             ],
             [
              0.1111111111111111,
              "#46039f"
             ],
             [
              0.2222222222222222,
              "#7201a8"
             ],
             [
              0.3333333333333333,
              "#9c179e"
             ],
             [
              0.4444444444444444,
              "#bd3786"
             ],
             [
              0.5555555555555556,
              "#d8576b"
             ],
             [
              0.6666666666666666,
              "#ed7953"
             ],
             [
              0.7777777777777778,
              "#fb9f3a"
             ],
             [
              0.8888888888888888,
              "#fdca26"
             ],
             [
              1,
              "#f0f921"
             ]
            ],
            "type": "heatmap"
           }
          ],
          "heatmapgl": [
           {
            "colorbar": {
             "outlinewidth": 0,
             "ticks": ""
            },
            "colorscale": [
             [
              0,
              "#0d0887"
             ],
             [
              0.1111111111111111,
              "#46039f"
             ],
             [
              0.2222222222222222,
              "#7201a8"
             ],
             [
              0.3333333333333333,
              "#9c179e"
             ],
             [
              0.4444444444444444,
              "#bd3786"
             ],
             [
              0.5555555555555556,
              "#d8576b"
             ],
             [
              0.6666666666666666,
              "#ed7953"
             ],
             [
              0.7777777777777778,
              "#fb9f3a"
             ],
             [
              0.8888888888888888,
              "#fdca26"
             ],
             [
              1,
              "#f0f921"
             ]
            ],
            "type": "heatmapgl"
           }
          ],
          "histogram": [
           {
            "marker": {
             "pattern": {
              "fillmode": "overlay",
              "size": 10,
              "solidity": 0.2
             }
            },
            "type": "histogram"
           }
          ],
          "histogram2d": [
           {
            "colorbar": {
             "outlinewidth": 0,
             "ticks": ""
            },
            "colorscale": [
             [
              0,
              "#0d0887"
             ],
             [
              0.1111111111111111,
              "#46039f"
             ],
             [
              0.2222222222222222,
              "#7201a8"
             ],
             [
              0.3333333333333333,
              "#9c179e"
             ],
             [
              0.4444444444444444,
              "#bd3786"
             ],
             [
              0.5555555555555556,
              "#d8576b"
             ],
             [
              0.6666666666666666,
              "#ed7953"
             ],
             [
              0.7777777777777778,
              "#fb9f3a"
             ],
             [
              0.8888888888888888,
              "#fdca26"
             ],
             [
              1,
              "#f0f921"
             ]
            ],
            "type": "histogram2d"
           }
          ],
          "histogram2dcontour": [
           {
            "colorbar": {
             "outlinewidth": 0,
             "ticks": ""
            },
            "colorscale": [
             [
              0,
              "#0d0887"
             ],
             [
              0.1111111111111111,
              "#46039f"
             ],
             [
              0.2222222222222222,
              "#7201a8"
             ],
             [
              0.3333333333333333,
              "#9c179e"
             ],
             [
              0.4444444444444444,
              "#bd3786"
             ],
             [
              0.5555555555555556,
              "#d8576b"
             ],
             [
              0.6666666666666666,
              "#ed7953"
             ],
             [
              0.7777777777777778,
              "#fb9f3a"
             ],
             [
              0.8888888888888888,
              "#fdca26"
             ],
             [
              1,
              "#f0f921"
             ]
            ],
            "type": "histogram2dcontour"
           }
          ],
          "mesh3d": [
           {
            "colorbar": {
             "outlinewidth": 0,
             "ticks": ""
            },
            "type": "mesh3d"
           }
          ],
          "parcoords": [
           {
            "line": {
             "colorbar": {
              "outlinewidth": 0,
              "ticks": ""
             }
            },
            "type": "parcoords"
           }
          ],
          "pie": [
           {
            "automargin": true,
            "type": "pie"
           }
          ],
          "scatter": [
           {
            "fillpattern": {
             "fillmode": "overlay",
             "size": 10,
             "solidity": 0.2
            },
            "type": "scatter"
           }
          ],
          "scatter3d": [
           {
            "line": {
             "colorbar": {
              "outlinewidth": 0,
              "ticks": ""
             }
            },
            "marker": {
             "colorbar": {
              "outlinewidth": 0,
              "ticks": ""
             }
            },
            "type": "scatter3d"
           }
          ],
          "scattercarpet": [
           {
            "marker": {
             "colorbar": {
              "outlinewidth": 0,
              "ticks": ""
             }
            },
            "type": "scattercarpet"
           }
          ],
          "scattergeo": [
           {
            "marker": {
             "colorbar": {
              "outlinewidth": 0,
              "ticks": ""
             }
            },
            "type": "scattergeo"
           }
          ],
          "scattergl": [
           {
            "marker": {
             "colorbar": {
              "outlinewidth": 0,
              "ticks": ""
             }
            },
            "type": "scattergl"
           }
          ],
          "scattermapbox": [
           {
            "marker": {
             "colorbar": {
              "outlinewidth": 0,
              "ticks": ""
             }
            },
            "type": "scattermapbox"
           }
          ],
          "scatterpolar": [
           {
            "marker": {
             "colorbar": {
              "outlinewidth": 0,
              "ticks": ""
             }
            },
            "type": "scatterpolar"
           }
          ],
          "scatterpolargl": [
           {
            "marker": {
             "colorbar": {
              "outlinewidth": 0,
              "ticks": ""
             }
            },
            "type": "scatterpolargl"
           }
          ],
          "scatterternary": [
           {
            "marker": {
             "colorbar": {
              "outlinewidth": 0,
              "ticks": ""
             }
            },
            "type": "scatterternary"
           }
          ],
          "surface": [
           {
            "colorbar": {
             "outlinewidth": 0,
             "ticks": ""
            },
            "colorscale": [
             [
              0,
              "#0d0887"
             ],
             [
              0.1111111111111111,
              "#46039f"
             ],
             [
              0.2222222222222222,
              "#7201a8"
             ],
             [
              0.3333333333333333,
              "#9c179e"
             ],
             [
              0.4444444444444444,
              "#bd3786"
             ],
             [
              0.5555555555555556,
              "#d8576b"
             ],
             [
              0.6666666666666666,
              "#ed7953"
             ],
             [
              0.7777777777777778,
              "#fb9f3a"
             ],
             [
              0.8888888888888888,
              "#fdca26"
             ],
             [
              1,
              "#f0f921"
             ]
            ],
            "type": "surface"
           }
          ],
          "table": [
           {
            "cells": {
             "fill": {
              "color": "#EBF0F8"
             },
             "line": {
              "color": "white"
             }
            },
            "header": {
             "fill": {
              "color": "#C8D4E3"
             },
             "line": {
              "color": "white"
             }
            },
            "type": "table"
           }
          ]
         },
         "layout": {
          "annotationdefaults": {
           "arrowcolor": "#2a3f5f",
           "arrowhead": 0,
           "arrowwidth": 1
          },
          "autotypenumbers": "strict",
          "coloraxis": {
           "colorbar": {
            "outlinewidth": 0,
            "ticks": ""
           }
          },
          "colorscale": {
           "diverging": [
            [
             0,
             "#8e0152"
            ],
            [
             0.1,
             "#c51b7d"
            ],
            [
             0.2,
             "#de77ae"
            ],
            [
             0.3,
             "#f1b6da"
            ],
            [
             0.4,
             "#fde0ef"
            ],
            [
             0.5,
             "#f7f7f7"
            ],
            [
             0.6,
             "#e6f5d0"
            ],
            [
             0.7,
             "#b8e186"
            ],
            [
             0.8,
             "#7fbc41"
            ],
            [
             0.9,
             "#4d9221"
            ],
            [
             1,
             "#276419"
            ]
           ],
           "sequential": [
            [
             0,
             "#0d0887"
            ],
            [
             0.1111111111111111,
             "#46039f"
            ],
            [
             0.2222222222222222,
             "#7201a8"
            ],
            [
             0.3333333333333333,
             "#9c179e"
            ],
            [
             0.4444444444444444,
             "#bd3786"
            ],
            [
             0.5555555555555556,
             "#d8576b"
            ],
            [
             0.6666666666666666,
             "#ed7953"
            ],
            [
             0.7777777777777778,
             "#fb9f3a"
            ],
            [
             0.8888888888888888,
             "#fdca26"
            ],
            [
             1,
             "#f0f921"
            ]
           ],
           "sequentialminus": [
            [
             0,
             "#0d0887"
            ],
            [
             0.1111111111111111,
             "#46039f"
            ],
            [
             0.2222222222222222,
             "#7201a8"
            ],
            [
             0.3333333333333333,
             "#9c179e"
            ],
            [
             0.4444444444444444,
             "#bd3786"
            ],
            [
             0.5555555555555556,
             "#d8576b"
            ],
            [
             0.6666666666666666,
             "#ed7953"
            ],
            [
             0.7777777777777778,
             "#fb9f3a"
            ],
            [
             0.8888888888888888,
             "#fdca26"
            ],
            [
             1,
             "#f0f921"
            ]
           ]
          },
          "colorway": [
           "#636efa",
           "#EF553B",
           "#00cc96",
           "#ab63fa",
           "#FFA15A",
           "#19d3f3",
           "#FF6692",
           "#B6E880",
           "#FF97FF",
           "#FECB52"
          ],
          "font": {
           "color": "#2a3f5f"
          },
          "geo": {
           "bgcolor": "white",
           "lakecolor": "white",
           "landcolor": "#E5ECF6",
           "showlakes": true,
           "showland": true,
           "subunitcolor": "white"
          },
          "hoverlabel": {
           "align": "left"
          },
          "hovermode": "closest",
          "mapbox": {
           "style": "light"
          },
          "paper_bgcolor": "white",
          "plot_bgcolor": "#E5ECF6",
          "polar": {
           "angularaxis": {
            "gridcolor": "white",
            "linecolor": "white",
            "ticks": ""
           },
           "bgcolor": "#E5ECF6",
           "radialaxis": {
            "gridcolor": "white",
            "linecolor": "white",
            "ticks": ""
           }
          },
          "scene": {
           "xaxis": {
            "backgroundcolor": "#E5ECF6",
            "gridcolor": "white",
            "gridwidth": 2,
            "linecolor": "white",
            "showbackground": true,
            "ticks": "",
            "zerolinecolor": "white"
           },
           "yaxis": {
            "backgroundcolor": "#E5ECF6",
            "gridcolor": "white",
            "gridwidth": 2,
            "linecolor": "white",
            "showbackground": true,
            "ticks": "",
            "zerolinecolor": "white"
           },
           "zaxis": {
            "backgroundcolor": "#E5ECF6",
            "gridcolor": "white",
            "gridwidth": 2,
            "linecolor": "white",
            "showbackground": true,
            "ticks": "",
            "zerolinecolor": "white"
           }
          },
          "shapedefaults": {
           "line": {
            "color": "#2a3f5f"
           }
          },
          "ternary": {
           "aaxis": {
            "gridcolor": "white",
            "linecolor": "white",
            "ticks": ""
           },
           "baxis": {
            "gridcolor": "white",
            "linecolor": "white",
            "ticks": ""
           },
           "bgcolor": "#E5ECF6",
           "caxis": {
            "gridcolor": "white",
            "linecolor": "white",
            "ticks": ""
           }
          },
          "title": {
           "x": 0.05
          },
          "xaxis": {
           "automargin": true,
           "gridcolor": "white",
           "linecolor": "white",
           "ticks": "",
           "title": {
            "standoff": 15
           },
           "zerolinecolor": "white",
           "zerolinewidth": 2
          },
          "yaxis": {
           "automargin": true,
           "gridcolor": "white",
           "linecolor": "white",
           "ticks": "",
           "title": {
            "standoff": 15
           },
           "zerolinecolor": "white",
           "zerolinewidth": 2
          }
         }
        },
        "title": {
         "text": "Australian Grand Prix 2023 Driver's Position"
        },
        "xaxis": {
         "anchor": "y",
         "domain": [
          0,
          1
         ],
         "title": {
          "text": "Lap Number"
         }
        },
        "yaxis": {
         "anchor": "x",
         "autorange": "reversed",
         "domain": [
          0,
          1
         ],
         "title": {
          "text": "Driver's Position"
         }
        }
       }
      },
      "text/html": [
       "<div>                            <div id=\"3efe55e7-f30c-4a73-84d9-87d63442e893\" class=\"plotly-graph-div\" style=\"height:525px; width:100%;\"></div>            <script type=\"text/javascript\">                require([\"plotly\"], function(Plotly) {                    window.PLOTLYENV=window.PLOTLYENV || {};                                    if (document.getElementById(\"3efe55e7-f30c-4a73-84d9-87d63442e893\")) {                    Plotly.newPlot(                        \"3efe55e7-f30c-4a73-84d9-87d63442e893\",                        [{\"customdata\":[[\"MEDIUM\",1.0],[\"MEDIUM\",2.0],[\"MEDIUM\",3.0],[\"MEDIUM\",4.0],[\"MEDIUM\",5.0],[\"MEDIUM\",6.0],[\"MEDIUM\",7.0],[\"MEDIUM\",8.0],[\"HARD\",1.0],[\"HARD\",2.0],[\"HARD\",3.0],[\"HARD\",4.0],[\"HARD\",5.0],[\"HARD\",6.0],[\"HARD\",7.0],[\"HARD\",8.0],[\"HARD\",9.0],[\"HARD\",10.0],[\"HARD\",11.0],[\"HARD\",12.0],[\"HARD\",13.0],[\"HARD\",14.0],[\"HARD\",15.0],[\"HARD\",16.0],[\"HARD\",17.0],[\"HARD\",18.0],[\"HARD\",19.0],[\"HARD\",20.0],[\"HARD\",21.0],[\"HARD\",22.0],[\"HARD\",23.0],[\"HARD\",24.0],[\"HARD\",25.0],[\"HARD\",26.0],[\"HARD\",27.0],[\"HARD\",28.0],[\"HARD\",29.0],[\"HARD\",30.0],[\"HARD\",31.0],[\"HARD\",32.0],[\"HARD\",33.0],[\"HARD\",34.0],[\"HARD\",35.0],[\"HARD\",36.0],[\"HARD\",37.0],[\"HARD\",38.0],[\"HARD\",39.0],[\"HARD\",40.0],[\"HARD\",41.0],[\"HARD\",42.0],[\"HARD\",43.0],[\"HARD\",44.0],[\"HARD\",45.0],[\"HARD\",46.0],[\"HARD\",47.0],[\"SOFT\",4.0],[\"SOFT\",5.0],[\"SOFT\",6.0]],\"hovertemplate\":\"Driver=VER<br>Lap Number=%{x}<br>Driver's Position=%{y}<br>Compound=%{customdata[0]}<br>TyreLife=%{customdata[1]}<extra></extra>\",\"legendgroup\":\"VER\",\"line\":{\"color\":\"#636efa\",\"dash\":\"solid\"},\"marker\":{\"symbol\":\"circle\"},\"mode\":\"lines\",\"name\":\"VER\",\"showlegend\":true,\"x\":[1.0,2.0,3.0,4.0,5.0,6.0,7.0,8.0,9.0,10.0,11.0,12.0,13.0,14.0,15.0,16.0,17.0,18.0,19.0,20.0,21.0,22.0,23.0,24.0,25.0,26.0,27.0,28.0,29.0,30.0,31.0,32.0,33.0,34.0,35.0,36.0,37.0,38.0,39.0,40.0,41.0,42.0,43.0,44.0,45.0,46.0,47.0,48.0,49.0,50.0,51.0,52.0,53.0,54.0,55.0,56.0,57.0,58.0],\"xaxis\":\"x\",\"y\":[1.0,3,3,3,3,3,3,2,2,2,2,2,1,1,1,1,1,1,1,1,1,1,1,1,1,1,1,1,1,1,1,1,1,1,1,1,1,1,1,1,1,1,1,1,1,1,1,1,1,1,1,1,1,1,1,1,1,1],\"yaxis\":\"y\",\"type\":\"scattergl\"},{\"customdata\":[[\"MEDIUM\",2.0],[\"MEDIUM\",3.0],[\"MEDIUM\",4.0],[\"MEDIUM\",5.0],[\"MEDIUM\",6.0],[\"MEDIUM\",7.0],[\"MEDIUM\",8.0],[\"MEDIUM\",9.0],[\"HARD\",1.0],[\"HARD\",2.0],[\"HARD\",3.0],[\"HARD\",4.0],[\"HARD\",5.0],[\"HARD\",6.0],[\"HARD\",7.0],[\"HARD\",8.0],[\"HARD\",9.0],[\"HARD\",10.0],[\"HARD\",11.0],[\"HARD\",12.0],[\"HARD\",13.0],[\"HARD\",14.0],[\"HARD\",15.0],[\"HARD\",16.0],[\"HARD\",17.0],[\"HARD\",18.0],[\"HARD\",19.0],[\"HARD\",20.0],[\"HARD\",21.0],[\"HARD\",22.0],[\"HARD\",23.0],[\"HARD\",24.0],[\"HARD\",25.0],[\"HARD\",26.0],[\"HARD\",27.0],[\"HARD\",28.0],[\"HARD\",29.0],[\"HARD\",30.0],[\"HARD\",31.0],[\"HARD\",32.0],[\"HARD\",33.0],[\"HARD\",34.0],[\"HARD\",35.0],[\"HARD\",36.0],[\"HARD\",37.0],[\"HARD\",38.0],[\"HARD\",39.0],[\"HARD\",40.0],[\"HARD\",41.0],[\"HARD\",42.0],[\"HARD\",43.0],[\"HARD\",44.0],[\"HARD\",45.0],[\"HARD\",46.0],[\"HARD\",47.0],[\"SOFT\",6.0],[\"SOFT\",7.0],[\"SOFT\",7.0]],\"hovertemplate\":\"Driver=STR<br>Lap Number=%{x}<br>Driver's Position=%{y}<br>Compound=%{customdata[0]}<br>TyreLife=%{customdata[1]}<extra></extra>\",\"legendgroup\":\"STR\",\"line\":{\"color\":\"#EF553B\",\"dash\":\"solid\"},\"marker\":{\"symbol\":\"circle\"},\"mode\":\"lines\",\"name\":\"STR\",\"showlegend\":true,\"x\":[1.0,2.0,3.0,4.0,5.0,6.0,7.0,8.0,9.0,10.0,11.0,12.0,13.0,14.0,15.0,16.0,17.0,18.0,19.0,20.0,21.0,22.0,23.0,24.0,25.0,26.0,27.0,28.0,29.0,30.0,31.0,32.0,33.0,34.0,35.0,36.0,37.0,38.0,39.0,40.0,41.0,42.0,43.0,44.0,45.0,46.0,47.0,48.0,49.0,50.0,51.0,52.0,53.0,54.0,55.0,56.0,57.0,58.0],\"xaxis\":\"x\",\"y\":[6.0,7,7,7,7,7,7,4,4,4,6,6,6,6,6,7,7,6,6,6,6,6,6,6,6,6,6,6,6,6,6,6,6,6,6,6,6,6,6,6,6,6,6,6,6,6,6,6,6,6,6,6,6,6,6,6,6,5],\"yaxis\":\"y\",\"type\":\"scattergl\"},{\"customdata\":[[\"HARD\",1.0],[\"MEDIUM\",null],[\"HARD\",1.0],[\"HARD\",2.0],[\"HARD\",3.0],[\"HARD\",4.0],[\"HARD\",5.0],[\"HARD\",6.0],[\"HARD\",2.0],[\"HARD\",3.0],[\"HARD\",4.0],[\"HARD\",5.0],[\"HARD\",6.0],[\"HARD\",7.0],[\"HARD\",8.0],[\"HARD\",9.0],[\"HARD\",10.0],[\"HARD\",11.0],[\"HARD\",12.0],[\"HARD\",13.0],[\"HARD\",14.0],[\"HARD\",15.0],[\"HARD\",16.0],[\"HARD\",17.0],[\"HARD\",18.0],[\"HARD\",19.0],[\"HARD\",20.0],[\"HARD\",21.0],[\"HARD\",22.0],[\"HARD\",23.0],[\"HARD\",24.0],[\"HARD\",25.0],[\"HARD\",26.0],[\"HARD\",27.0],[\"HARD\",28.0],[\"HARD\",29.0],[\"HARD\",30.0],[\"HARD\",31.0],[\"HARD\",32.0],[\"HARD\",33.0],[\"HARD\",34.0],[\"HARD\",35.0],[\"HARD\",36.0],[\"HARD\",37.0],[\"HARD\",38.0],[\"HARD\",39.0],[\"HARD\",40.0],[\"HARD\",41.0],[\"HARD\",42.0],[\"HARD\",43.0],[\"HARD\",44.0],[\"HARD\",45.0],[\"HARD\",46.0],[\"HARD\",47.0],[\"HARD\",48.0],[\"SOFT\",1.0],[\"SOFT\",2.0],[\"SOFT\",1.0]],\"hovertemplate\":\"Driver=PER<br>Lap Number=%{x}<br>Driver's Position=%{y}<br>Compound=%{customdata[0]}<br>TyreLife=%{customdata[1]}<extra></extra>\",\"legendgroup\":\"PER\",\"line\":{\"color\":\"#00cc96\",\"dash\":\"solid\"},\"marker\":{\"symbol\":\"circle\"},\"mode\":\"lines\",\"name\":\"PER\",\"showlegend\":true,\"x\":[1.0,2.0,3.0,4.0,5.0,6.0,7.0,8.0,9.0,10.0,11.0,12.0,13.0,14.0,15.0,16.0,17.0,18.0,19.0,20.0,21.0,22.0,23.0,24.0,25.0,26.0,27.0,28.0,29.0,30.0,31.0,32.0,33.0,34.0,35.0,36.0,37.0,38.0,39.0,40.0,41.0,42.0,43.0,44.0,45.0,46.0,47.0,48.0,49.0,50.0,51.0,52.0,53.0,54.0,55.0,56.0,57.0,58.0],\"xaxis\":\"x\",\"y\":[20.0,18,18,18,17,17,16,14,14,13,16,16,16,15,15,14,13,12,12,12,12,11,10,9,9,9,9,9,9,9,9,9,9,9,9,9,9,9,9,9,9,9,9,8,7,7,7,7,7,7,7,7,7,7,7,7,7,6],\"yaxis\":\"y\",\"type\":\"scattergl\"},{\"customdata\":[[\"MEDIUM\",1.0],[\"MEDIUM\",2.0],[\"MEDIUM\",3.0],[\"MEDIUM\",4.0],[\"MEDIUM\",5.0],[\"MEDIUM\",6.0],[\"MEDIUM\",7.0],[\"MEDIUM\",8.0],[\"HARD\",1.0],[\"HARD\",2.0],[\"HARD\",3.0],[\"HARD\",4.0],[\"HARD\",5.0],[\"HARD\",6.0],[\"HARD\",7.0],[\"HARD\",8.0],[\"HARD\",9.0],[\"HARD\",10.0],[\"HARD\",11.0],[\"HARD\",12.0],[\"HARD\",13.0],[\"HARD\",14.0],[\"HARD\",15.0],[\"HARD\",16.0],[\"HARD\",17.0],[\"HARD\",18.0],[\"HARD\",19.0],[\"HARD\",20.0],[\"HARD\",21.0],[\"HARD\",22.0],[\"HARD\",23.0],[\"HARD\",24.0],[\"HARD\",25.0],[\"HARD\",26.0],[\"HARD\",27.0],[\"HARD\",28.0],[\"HARD\",29.0],[\"HARD\",30.0],[\"HARD\",31.0],[\"HARD\",32.0],[\"HARD\",33.0],[\"HARD\",34.0],[\"HARD\",35.0],[\"HARD\",36.0],[\"HARD\",37.0],[\"HARD\",38.0],[\"HARD\",39.0],[\"HARD\",40.0],[\"HARD\",41.0],[\"HARD\",42.0],[\"HARD\",43.0],[\"HARD\",44.0],[\"HARD\",45.0],[\"HARD\",46.0],[\"HARD\",47.0],[\"SOFT\",1.0],[\"SOFT\",2.0],[\"SOFT\",5.0]],\"hovertemplate\":\"Driver=NOR<br>Lap Number=%{x}<br>Driver's Position=%{y}<br>Compound=%{customdata[0]}<br>TyreLife=%{customdata[1]}<extra></extra>\",\"legendgroup\":\"NOR\",\"line\":{\"color\":\"#ab63fa\",\"dash\":\"solid\"},\"marker\":{\"symbol\":\"circle\"},\"mode\":\"lines\",\"name\":\"NOR\",\"showlegend\":true,\"x\":[1.0,2.0,3.0,4.0,5.0,6.0,7.0,8.0,9.0,10.0,11.0,12.0,13.0,14.0,15.0,16.0,17.0,18.0,19.0,20.0,21.0,22.0,23.0,24.0,25.0,26.0,27.0,28.0,29.0,30.0,31.0,32.0,33.0,34.0,35.0,36.0,37.0,38.0,39.0,40.0,41.0,42.0,43.0,44.0,45.0,46.0,47.0,48.0,49.0,50.0,51.0,52.0,53.0,54.0,55.0,56.0,57.0,58.0],\"xaxis\":\"x\",\"y\":[13.0,11,11,11,11,11,11,10,9,9,9,10,10,10,9,9,9,8,8,8,8,8,8,8,8,8,8,8,8,8,8,8,8,8,8,8,8,8,8,8,8,8,8,9,9,9,9,9,9,9,9,8,8,8,8,8,8,7],\"yaxis\":\"y\",\"type\":\"scattergl\"},{\"customdata\":[[\"MEDIUM\",1.0],[\"MEDIUM\",2.0],[\"MEDIUM\",3.0],[\"MEDIUM\",4.0],[\"MEDIUM\",5.0],[\"MEDIUM\",6.0],[\"MEDIUM\",7.0],[\"MEDIUM\",8.0],[\"HARD\",1.0],[\"HARD\",2.0],[\"HARD\",3.0],[\"HARD\",4.0],[\"HARD\",5.0],[\"HARD\",6.0],[\"HARD\",7.0],[\"HARD\",8.0],[\"HARD\",9.0],[\"HARD\",10.0],[\"HARD\",11.0],[\"HARD\",12.0],[\"HARD\",13.0],[\"HARD\",14.0],[\"HARD\",15.0],[\"HARD\",16.0],[\"HARD\",17.0],[\"HARD\",18.0],[\"HARD\",19.0],[\"HARD\",20.0],[\"HARD\",21.0],[\"HARD\",22.0],[\"HARD\",23.0],[\"HARD\",24.0],[\"HARD\",25.0],[\"HARD\",26.0],[\"HARD\",27.0],[\"HARD\",28.0],[\"HARD\",29.0],[\"HARD\",30.0],[\"HARD\",31.0],[\"HARD\",32.0],[\"HARD\",33.0],[\"HARD\",34.0],[\"HARD\",35.0],[\"HARD\",36.0],[\"HARD\",37.0],[\"HARD\",38.0],[\"HARD\",39.0],[\"HARD\",40.0],[\"HARD\",41.0],[\"HARD\",42.0],[\"HARD\",43.0],[\"HARD\",44.0],[\"HARD\",45.0],[\"HARD\",46.0],[\"HARD\",47.0],[\"SOFT\",5.0],[\"SOFT\",6.0],[\"SOFT\",5.0]],\"hovertemplate\":\"Driver=HUL<br>Lap Number=%{x}<br>Driver's Position=%{y}<br>Compound=%{customdata[0]}<br>TyreLife=%{customdata[1]}<extra></extra>\",\"legendgroup\":\"HUL\",\"line\":{\"color\":\"#FFA15A\",\"dash\":\"solid\"},\"marker\":{\"symbol\":\"circle\"},\"mode\":\"lines\",\"name\":\"HUL\",\"showlegend\":true,\"x\":[1.0,2.0,3.0,4.0,5.0,6.0,7.0,8.0,9.0,10.0,11.0,12.0,13.0,14.0,15.0,16.0,17.0,18.0,19.0,20.0,21.0,22.0,23.0,24.0,25.0,26.0,27.0,28.0,29.0,30.0,31.0,32.0,33.0,34.0,35.0,36.0,37.0,38.0,39.0,40.0,41.0,42.0,43.0,44.0,45.0,46.0,47.0,48.0,49.0,50.0,51.0,52.0,53.0,54.0,55.0,56.0,57.0,58.0],\"xaxis\":\"x\",\"y\":[10.0,9,9,9,9,9,9,6,6,6,7,7,7,7,8,8,8,7,7,7,7,7,7,7,7,7,7,7,7,7,7,7,7,7,7,7,7,7,7,7,7,7,7,7,8,8,8,8,8,8,8,9,9,9,9,9,9,8],\"yaxis\":\"y\",\"type\":\"scattergl\"},{\"customdata\":[[\"MEDIUM\",1.0],[\"MEDIUM\",2.0],[\"MEDIUM\",3.0],[\"MEDIUM\",4.0],[\"MEDIUM\",5.0],[\"MEDIUM\",6.0],[\"MEDIUM\",7.0],[\"MEDIUM\",8.0],[\"HARD\",1.0],[\"HARD\",2.0],[\"HARD\",3.0],[\"HARD\",4.0],[\"HARD\",5.0],[\"HARD\",6.0],[\"HARD\",7.0],[\"HARD\",8.0],[\"HARD\",9.0],[\"HARD\",10.0],[\"HARD\",11.0],[\"HARD\",12.0],[\"HARD\",13.0],[\"HARD\",14.0],[\"HARD\",15.0],[\"HARD\",16.0],[\"HARD\",17.0],[\"HARD\",18.0],[\"HARD\",19.0],[\"HARD\",20.0],[\"HARD\",21.0],[\"HARD\",22.0],[\"HARD\",23.0],[\"HARD\",24.0],[\"HARD\",25.0],[\"HARD\",26.0],[\"HARD\",27.0],[\"HARD\",28.0],[\"HARD\",29.0],[\"HARD\",30.0],[\"HARD\",31.0],[\"HARD\",32.0],[\"HARD\",33.0],[\"HARD\",34.0],[\"HARD\",35.0],[\"HARD\",36.0],[\"HARD\",37.0],[\"HARD\",38.0],[\"HARD\",39.0],[\"HARD\",40.0],[\"HARD\",41.0],[\"HARD\",42.0],[\"HARD\",43.0],[\"HARD\",44.0],[\"HARD\",45.0],[\"HARD\",46.0],[\"SOFT\",1.0],[\"UNKNOWN\",1.0],[\"SOFT\",3.0],[\"SOFT\",1.0]],\"hovertemplate\":\"Driver=PIA<br>Lap Number=%{x}<br>Driver's Position=%{y}<br>Compound=%{customdata[0]}<br>TyreLife=%{customdata[1]}<extra></extra>\",\"legendgroup\":\"PIA\",\"line\":{\"color\":\"#19d3f3\",\"dash\":\"solid\"},\"marker\":{\"symbol\":\"circle\"},\"mode\":\"lines\",\"name\":\"PIA\",\"showlegend\":true,\"x\":[1.0,2.0,3.0,4.0,5.0,6.0,7.0,8.0,9.0,10.0,11.0,12.0,13.0,14.0,15.0,16.0,17.0,18.0,19.0,20.0,21.0,22.0,23.0,24.0,25.0,26.0,27.0,28.0,29.0,30.0,31.0,32.0,33.0,34.0,35.0,36.0,37.0,38.0,39.0,40.0,41.0,42.0,43.0,44.0,45.0,46.0,47.0,48.0,49.0,50.0,51.0,52.0,53.0,54.0,55.0,56.0,57.0,58.0],\"xaxis\":\"x\",\"y\":[16.0,13,13,13,13,13,13,11,10,10,11,11,11,11,11,11,11,10,10,10,10,10,11,11,11,11,12,12,12,11,11,11,11,11,11,11,11,11,11,11,11,11,11,11,11,11,11,11,11,11,11,11,11,11,11,11,11,9],\"yaxis\":\"y\",\"type\":\"scattergl\"},{\"customdata\":[[\"SOFT\",1.0],[\"HARD\",1.0],[\"HARD\",2.0],[\"HARD\",3.0],[\"HARD\",4.0],[\"HARD\",5.0],[\"HARD\",6.0],[\"HARD\",7.0],[\"HARD\",8.0],[\"HARD\",9.0],[\"HARD\",10.0],[\"HARD\",11.0],[\"HARD\",12.0],[\"HARD\",13.0],[\"HARD\",14.0],[\"HARD\",15.0],[\"HARD\",16.0],[\"HARD\",17.0],[\"HARD\",18.0],[\"HARD\",19.0],[\"HARD\",20.0],[\"HARD\",21.0],[\"HARD\",22.0],[\"HARD\",23.0],[\"HARD\",24.0],[\"HARD\",25.0],[\"HARD\",26.0],[\"HARD\",27.0],[\"HARD\",28.0],[\"HARD\",29.0],[\"HARD\",30.0],[\"HARD\",31.0],[\"HARD\",32.0],[\"HARD\",33.0],[\"HARD\",34.0],[\"HARD\",35.0],[\"HARD\",36.0],[\"HARD\",37.0],[\"HARD\",38.0],[\"HARD\",39.0],[\"HARD\",40.0],[\"HARD\",41.0],[\"HARD\",42.0],[\"HARD\",43.0],[\"HARD\",44.0],[\"HARD\",45.0],[\"HARD\",46.0],[\"HARD\",47.0],[\"HARD\",48.0],[\"HARD\",49.0],[\"HARD\",50.0],[\"HARD\",51.0],[\"HARD\",52.0],[\"HARD\",53.0],[\"SOFT\",null],[\"SOFT\",null],[\"SOFT\",null],[\"SOFT\",3.0]],\"hovertemplate\":\"Driver=ZHO<br>Lap Number=%{x}<br>Driver's Position=%{y}<br>Compound=%{customdata[0]}<br>TyreLife=%{customdata[1]}<extra></extra>\",\"legendgroup\":\"ZHO\",\"line\":{\"color\":\"#FF6692\",\"dash\":\"solid\"},\"marker\":{\"symbol\":\"circle\"},\"mode\":\"lines\",\"name\":\"ZHO\",\"showlegend\":true,\"x\":[1.0,2.0,3.0,4.0,5.0,6.0,7.0,8.0,9.0,10.0,11.0,12.0,13.0,14.0,15.0,16.0,17.0,18.0,19.0,20.0,21.0,22.0,23.0,24.0,25.0,26.0,27.0,28.0,29.0,30.0,31.0,32.0,33.0,34.0,35.0,36.0,37.0,38.0,39.0,40.0,41.0,42.0,43.0,44.0,45.0,46.0,47.0,48.0,49.0,50.0,51.0,52.0,53.0,54.0,55.0,56.0,57.0,58.0],\"xaxis\":\"x\",\"y\":[17.0,16,16,16,16,16,17,15,15,15,12,12,12,12,12,12,14,13,13,13,13,13,13,13,13,13,13,13,13,13,13,13,13,13,13,12,13,13,13,13,13,13,13,13,13,13,13,13,13,13,13,13,13,12,12,12,14,10],\"yaxis\":\"y\",\"type\":\"scattergl\"},{\"customdata\":[[\"MEDIUM\",1.0],[\"MEDIUM\",2.0],[\"MEDIUM\",3.0],[\"MEDIUM\",4.0],[\"MEDIUM\",5.0],[\"MEDIUM\",6.0],[\"MEDIUM\",7.0],[\"MEDIUM\",8.0],[\"HARD\",1.0],[\"HARD\",2.0],[\"HARD\",3.0],[\"HARD\",4.0],[\"HARD\",5.0],[\"HARD\",6.0],[\"HARD\",7.0],[\"HARD\",8.0],[\"HARD\",9.0],[\"HARD\",10.0],[\"HARD\",11.0],[\"HARD\",12.0],[\"HARD\",13.0],[\"HARD\",14.0],[\"HARD\",15.0],[\"HARD\",16.0],[\"HARD\",17.0],[\"HARD\",18.0],[\"HARD\",19.0],[\"HARD\",20.0],[\"HARD\",21.0],[\"HARD\",22.0],[\"HARD\",23.0],[\"HARD\",24.0],[\"HARD\",25.0],[\"HARD\",26.0],[\"HARD\",27.0],[\"HARD\",28.0],[\"HARD\",29.0],[\"HARD\",30.0],[\"HARD\",31.0],[\"HARD\",32.0],[\"HARD\",33.0],[\"HARD\",34.0],[\"HARD\",35.0],[\"HARD\",36.0],[\"HARD\",37.0],[\"HARD\",38.0],[\"HARD\",39.0],[\"HARD\",40.0],[\"HARD\",41.0],[\"HARD\",42.0],[\"HARD\",43.0],[\"HARD\",44.0],[\"HARD\",45.0],[\"HARD\",46.0],[\"SOFT\",1.0],[\"SOFT\",5.0],[\"SOFT\",6.0],[\"SOFT\",9.0]],\"hovertemplate\":\"Driver=TSU<br>Lap Number=%{x}<br>Driver's Position=%{y}<br>Compound=%{customdata[0]}<br>TyreLife=%{customdata[1]}<extra></extra>\",\"legendgroup\":\"TSU\",\"line\":{\"color\":\"#B6E880\",\"dash\":\"solid\"},\"marker\":{\"symbol\":\"circle\"},\"mode\":\"lines\",\"name\":\"TSU\",\"showlegend\":true,\"x\":[1.0,2.0,3.0,4.0,5.0,6.0,7.0,8.0,9.0,10.0,11.0,12.0,13.0,14.0,15.0,16.0,17.0,18.0,19.0,20.0,21.0,22.0,23.0,24.0,25.0,26.0,27.0,28.0,29.0,30.0,31.0,32.0,33.0,34.0,35.0,36.0,37.0,38.0,39.0,40.0,41.0,42.0,43.0,44.0,45.0,46.0,47.0,48.0,49.0,50.0,51.0,52.0,53.0,54.0,55.0,56.0,57.0,58.0],\"xaxis\":\"x\",\"y\":[12.0,10,10,10,10,10,10,9,8,8,8,8,9,9,10,10,10,9,9,9,9,9,9,10,10,10,10,11,11,12,12,12,12,12,12,14,14,14,14,14,14,14,14,14,14,14,14,14,14,14,14,14,14,13,13,13,12,11],\"yaxis\":\"y\",\"type\":\"scattergl\"},{\"customdata\":[[\"MEDIUM\",2.0],[\"MEDIUM\",3.0],[\"MEDIUM\",4.0],[\"MEDIUM\",5.0],[\"MEDIUM\",6.0],[\"MEDIUM\",7.0],[\"MEDIUM\",8.0],[\"MEDIUM\",9.0],[\"HARD\",1.0],[\"HARD\",2.0],[\"HARD\",3.0],[\"HARD\",4.0],[\"HARD\",5.0],[\"HARD\",6.0],[\"HARD\",7.0],[\"HARD\",8.0],[\"HARD\",9.0],[\"HARD\",10.0],[\"HARD\",11.0],[\"HARD\",12.0],[\"HARD\",13.0],[\"HARD\",14.0],[\"HARD\",15.0],[\"HARD\",16.0],[\"HARD\",17.0],[\"HARD\",18.0],[\"HARD\",19.0],[\"HARD\",20.0],[\"HARD\",21.0],[\"HARD\",22.0],[\"HARD\",23.0],[\"HARD\",24.0],[\"HARD\",25.0],[\"HARD\",26.0],[\"HARD\",27.0],[\"HARD\",28.0],[\"HARD\",29.0],[\"HARD\",30.0],[\"HARD\",31.0],[\"HARD\",32.0],[\"HARD\",33.0],[\"HARD\",34.0],[\"HARD\",35.0],[\"HARD\",36.0],[\"HARD\",37.0],[\"HARD\",38.0],[\"HARD\",39.0],[\"HARD\",40.0],[\"HARD\",41.0],[\"HARD\",42.0],[\"HARD\",43.0],[\"HARD\",44.0],[\"HARD\",45.0],[\"HARD\",46.0],[\"HARD\",47.0],[\"SOFT\",5.0],[\"SOFT\",6.0],[\"SOFT\",5.0]],\"hovertemplate\":\"Driver=ALO<br>Lap Number=%{x}<br>Driver's Position=%{y}<br>Compound=%{customdata[0]}<br>TyreLife=%{customdata[1]}<extra></extra>\",\"legendgroup\":\"ALO\",\"line\":{\"color\":\"#FF97FF\",\"dash\":\"solid\"},\"marker\":{\"symbol\":\"circle\"},\"mode\":\"lines\",\"name\":\"ALO\",\"showlegend\":true,\"x\":[1.0,2.0,3.0,4.0,5.0,6.0,7.0,8.0,9.0,10.0,11.0,12.0,13.0,14.0,15.0,16.0,17.0,18.0,19.0,20.0,21.0,22.0,23.0,24.0,25.0,26.0,27.0,28.0,29.0,30.0,31.0,32.0,33.0,34.0,35.0,36.0,37.0,38.0,39.0,40.0,41.0,42.0,43.0,44.0,45.0,46.0,47.0,48.0,49.0,50.0,51.0,52.0,53.0,54.0,55.0,56.0,57.0,58.0],\"xaxis\":\"x\",\"y\":[4.0,5,5,5,5,5,5,3,3,3,3,3,3,3,3,3,3,3,3,3,3,3,3,3,3,3,3,3,3,3,3,3,3,3,3,3,3,3,3,3,3,3,3,3,3,3,3,3,3,3,3,3,3,3,3,3,3,3],\"yaxis\":\"y\",\"type\":\"scattergl\"},{\"customdata\":[[\"SOFT\",1.0],[\"HARD\",null],[\"HARD\",null],[\"HARD\",null],[\"HARD\",null],[\"HARD\",null],[\"HARD\",null],[\"HARD\",null],[\"HARD\",8.0],[\"HARD\",9.0],[\"HARD\",10.0],[\"HARD\",11.0],[\"HARD\",12.0],[\"HARD\",13.0],[\"HARD\",14.0],[\"HARD\",15.0],[\"HARD\",16.0],[\"HARD\",17.0],[\"HARD\",18.0],[\"HARD\",19.0],[\"HARD\",20.0],[\"HARD\",21.0],[\"HARD\",22.0],[\"HARD\",23.0],[\"HARD\",24.0],[\"HARD\",25.0],[\"HARD\",26.0],[\"HARD\",27.0],[\"HARD\",28.0],[\"HARD\",29.0],[\"HARD\",30.0],[\"HARD\",31.0],[\"HARD\",32.0],[\"HARD\",33.0],[\"HARD\",34.0],[\"HARD\",35.0],[\"HARD\",36.0],[\"HARD\",37.0],[\"HARD\",38.0],[\"HARD\",39.0],[\"HARD\",40.0],[\"HARD\",41.0],[\"HARD\",42.0],[\"HARD\",43.0],[\"HARD\",44.0],[\"HARD\",45.0],[\"HARD\",46.0],[\"HARD\",47.0],[\"HARD\",48.0],[\"HARD\",49.0],[\"HARD\",50.0],[\"HARD\",51.0],[\"HARD\",52.0],[\"SOFT\",null],[\"UNKNOWN\",1.0],[\"SOFT\",3.0],[\"SOFT\",4.0],[\"SOFT\",5.0]],\"hovertemplate\":\"Driver=BOT<br>Lap Number=%{x}<br>Driver's Position=%{y}<br>Compound=%{customdata[0]}<br>TyreLife=%{customdata[1]}<extra></extra>\",\"legendgroup\":\"BOT\",\"line\":{\"color\":\"#FECB52\",\"dash\":\"solid\"},\"marker\":{\"symbol\":\"circle\"},\"mode\":\"lines\",\"name\":\"BOT\",\"showlegend\":true,\"x\":[1.0,2.0,3.0,4.0,5.0,6.0,7.0,8.0,9.0,10.0,11.0,12.0,13.0,14.0,15.0,16.0,17.0,18.0,19.0,20.0,21.0,22.0,23.0,24.0,25.0,26.0,27.0,28.0,29.0,30.0,31.0,32.0,33.0,34.0,35.0,36.0,37.0,38.0,39.0,40.0,41.0,42.0,43.0,44.0,45.0,46.0,47.0,48.0,49.0,50.0,51.0,52.0,53.0,54.0,55.0,56.0,57.0,58.0],\"xaxis\":\"x\",\"y\":[19.0,19,17,17,18,18,18,16,16,16,18,18,18,18,18,18,18,18,16,16,17,17,17,17,17,17,17,16,16,16,16,16,16,16,16,15,15,15,15,15,15,15,15,15,15,15,15,15,15,15,15,15,15,14,14,14,13,12],\"yaxis\":\"y\",\"type\":\"scattergl\"},{\"customdata\":[[\"SOFT\",1.0],[\"SOFT\",2.0],[\"SOFT\",3.0],[\"SOFT\",4.0],[\"SOFT\",5.0],[\"SOFT\",6.0],[\"SOFT\",7.0],[\"SOFT\",8.0],[\"HARD\",1.0],[\"HARD\",2.0],[\"HARD\",3.0],[\"HARD\",4.0],[\"HARD\",5.0],[\"HARD\",6.0],[\"HARD\",7.0],[\"HARD\",8.0],[\"HARD\",9.0],[\"HARD\",10.0],[\"HARD\",11.0],[\"HARD\",12.0],[\"HARD\",13.0],[\"HARD\",14.0],[\"HARD\",15.0],[\"HARD\",16.0],[\"HARD\",17.0],[\"HARD\",18.0],[\"HARD\",19.0],[\"HARD\",20.0],[\"HARD\",21.0],[\"HARD\",22.0],[\"HARD\",23.0],[\"HARD\",24.0],[\"HARD\",25.0],[\"HARD\",26.0],[\"HARD\",27.0],[\"HARD\",28.0],[\"HARD\",29.0],[\"HARD\",30.0],[\"HARD\",31.0],[\"HARD\",32.0],[\"HARD\",33.0],[\"HARD\",34.0],[\"HARD\",35.0],[\"HARD\",36.0],[\"HARD\",37.0],[\"HARD\",38.0],[\"HARD\",39.0],[\"HARD\",40.0],[\"HARD\",41.0],[\"HARD\",42.0],[\"HARD\",43.0],[\"HARD\",44.0],[\"HARD\",45.0],[\"HARD\",46.0],[\"HARD\",47.0],[\"SOFT\",2.0],[\"SOFT\",3.0]],\"hovertemplate\":\"Driver=GAS<br>Lap Number=%{x}<br>Driver's Position=%{y}<br>Compound=%{customdata[0]}<br>TyreLife=%{customdata[1]}<extra></extra>\",\"legendgroup\":\"GAS\",\"line\":{\"color\":\"#636efa\",\"dash\":\"solid\"},\"marker\":{\"symbol\":\"circle\"},\"mode\":\"lines\",\"name\":\"GAS\",\"showlegend\":true,\"x\":[1.0,2.0,3.0,4.0,5.0,6.0,7.0,8.0,9.0,10.0,11.0,12.0,13.0,14.0,15.0,16.0,17.0,18.0,19.0,20.0,21.0,22.0,23.0,24.0,25.0,26.0,27.0,28.0,29.0,30.0,31.0,32.0,33.0,34.0,35.0,36.0,37.0,38.0,39.0,40.0,41.0,42.0,43.0,44.0,45.0,46.0,47.0,48.0,49.0,50.0,51.0,52.0,53.0,54.0,55.0,56.0,57.0],\"xaxis\":\"x\",\"y\":[9.0,8,8,8,8,8,8,5,5,5,4,4,4,5,5,5,5,4,4,4,4,4,4,4,4,5,5,5,5,5,5,5,5,5,5,5,5,5,5,5,5,5,5,5,5,5,5,5,5,5,5,5,5,5,5,5,5],\"yaxis\":\"y\",\"type\":\"scattergl\"},{\"customdata\":[[\"SOFT\",1.0],[\"HARD\",null],[\"HARD\",null],[\"HARD\",null],[\"HARD\",null],[\"HARD\",null],[\"HARD\",null],[\"HARD\",null],[\"HARD\",8.0],[\"HARD\",9.0],[\"HARD\",10.0],[\"HARD\",11.0],[\"HARD\",12.0],[\"HARD\",13.0],[\"HARD\",14.0],[\"HARD\",15.0],[\"HARD\",16.0],[\"HARD\",17.0],[\"HARD\",18.0],[\"HARD\",19.0],[\"HARD\",20.0],[\"HARD\",21.0],[\"HARD\",22.0],[\"HARD\",23.0],[\"HARD\",24.0],[\"HARD\",25.0],[\"HARD\",26.0],[\"HARD\",27.0],[\"HARD\",28.0],[\"HARD\",29.0],[\"HARD\",30.0],[\"HARD\",31.0],[\"HARD\",32.0],[\"HARD\",33.0],[\"HARD\",34.0],[\"HARD\",35.0],[\"HARD\",36.0],[\"HARD\",37.0],[\"HARD\",38.0],[\"HARD\",39.0],[\"HARD\",40.0],[\"HARD\",41.0],[\"HARD\",42.0],[\"HARD\",43.0],[\"HARD\",44.0],[\"HARD\",45.0],[\"HARD\",46.0],[\"HARD\",47.0],[\"HARD\",48.0],[\"HARD\",49.0],[\"HARD\",50.0],[\"HARD\",51.0],[\"HARD\",52.0],[\"HARD\",53.0],[\"HARD\",54.0],[\"SOFT\",null],[\"SOFT\",null]],\"hovertemplate\":\"Driver=OCO<br>Lap Number=%{x}<br>Driver's Position=%{y}<br>Compound=%{customdata[0]}<br>TyreLife=%{customdata[1]}<extra></extra>\",\"legendgroup\":\"OCO\",\"line\":{\"color\":\"#EF553B\",\"dash\":\"solid\"},\"marker\":{\"symbol\":\"circle\"},\"mode\":\"lines\",\"name\":\"OCO\",\"showlegend\":true,\"x\":[1.0,2.0,3.0,4.0,5.0,6.0,7.0,8.0,9.0,10.0,11.0,12.0,13.0,14.0,15.0,16.0,17.0,18.0,19.0,20.0,21.0,22.0,23.0,24.0,25.0,26.0,27.0,28.0,29.0,30.0,31.0,32.0,33.0,34.0,35.0,36.0,37.0,38.0,39.0,40.0,41.0,42.0,43.0,44.0,45.0,46.0,47.0,48.0,49.0,50.0,51.0,52.0,53.0,54.0,55.0,56.0,57.0],\"xaxis\":\"x\",\"y\":[11.0,15,15,15,15,15,15,13,13,14,13,13,13,13,13,13,12,11,11,11,11,12,12,12,12,12,11,10,10,10,10,10,10,10,10,10,10,10,10,10,10,10,10,10,10,10,10,10,10,10,10,10,10,10,10,10,10],\"yaxis\":\"y\",\"type\":\"scattergl\"},{\"customdata\":[[\"HARD\",1.0],[\"HARD\",2.0],[\"HARD\",3.0],[\"HARD\",4.0],[\"HARD\",5.0],[\"HARD\",6.0],[\"HARD\",7.0],[\"HARD\",8.0],[\"MEDIUM\",1.0],[\"MEDIUM\",2.0],[\"MEDIUM\",3.0],[\"MEDIUM\",4.0],[\"MEDIUM\",5.0],[\"MEDIUM\",6.0],[\"MEDIUM\",7.0],[\"MEDIUM\",8.0],[\"MEDIUM\",9.0],[\"MEDIUM\",10.0],[\"MEDIUM\",11.0],[\"MEDIUM\",12.0],[\"MEDIUM\",13.0],[\"MEDIUM\",14.0],[\"MEDIUM\",15.0],[\"MEDIUM\",16.0],[\"MEDIUM\",17.0],[\"MEDIUM\",18.0],[\"MEDIUM\",19.0],[\"MEDIUM\",20.0],[\"MEDIUM\",21.0],[\"MEDIUM\",22.0],[\"MEDIUM\",23.0],[\"MEDIUM\",24.0],[\"MEDIUM\",25.0],[\"MEDIUM\",26.0],[\"MEDIUM\",27.0],[\"MEDIUM\",28.0],[\"MEDIUM\",29.0],[\"MEDIUM\",30.0],[\"MEDIUM\",31.0],[\"MEDIUM\",32.0],[\"MEDIUM\",33.0],[\"MEDIUM\",34.0],[\"MEDIUM\",35.0],[\"MEDIUM\",36.0],[\"MEDIUM\",37.0],[\"SOFT\",1.0],[\"SOFT\",2.0],[\"SOFT\",3.0],[\"SOFT\",4.0],[\"SOFT\",5.0],[\"SOFT\",6.0],[\"SOFT\",7.0],[\"SOFT\",8.0],[\"SOFT\",9.0],[\"SOFT\",5.0],[\"SOFT\",6.0],[\"SOFT\",7.0]],\"hovertemplate\":\"Driver=DEV<br>Lap Number=%{x}<br>Driver's Position=%{y}<br>Compound=%{customdata[0]}<br>TyreLife=%{customdata[1]}<extra></extra>\",\"legendgroup\":\"DEV\",\"line\":{\"color\":\"#00cc96\",\"dash\":\"solid\"},\"marker\":{\"symbol\":\"circle\"},\"mode\":\"lines\",\"name\":\"DEV\",\"showlegend\":true,\"x\":[1.0,2.0,3.0,4.0,5.0,6.0,7.0,8.0,9.0,10.0,11.0,12.0,13.0,14.0,15.0,16.0,17.0,18.0,19.0,20.0,21.0,22.0,23.0,24.0,25.0,26.0,27.0,28.0,29.0,30.0,31.0,32.0,33.0,34.0,35.0,36.0,37.0,38.0,39.0,40.0,41.0,42.0,43.0,44.0,45.0,46.0,47.0,48.0,49.0,50.0,51.0,52.0,53.0,54.0,55.0,56.0,57.0],\"xaxis\":\"x\",\"y\":[15.0,14,14,14,14,14,14,12,12,12,17,17,17,17,17,17,17,17,17,17,16,16,16,16,16,16,16,17,17,17,17,17,17,17,17,17,16,16,16,16,16,16,16,16,16,17,17,17,17,17,17,17,17,16,16,16,15],\"yaxis\":\"y\",\"type\":\"scattergl\"},{\"customdata\":[[\"HARD\",1.0],[\"MEDIUM\",1.0],[\"HARD\",2.0],[\"HARD\",3.0],[\"HARD\",4.0],[\"HARD\",5.0],[\"HARD\",6.0],[\"HARD\",7.0],[\"MEDIUM\",1.0],[\"MEDIUM\",2.0],[\"MEDIUM\",3.0],[\"MEDIUM\",4.0],[\"MEDIUM\",5.0],[\"MEDIUM\",6.0],[\"MEDIUM\",7.0],[\"MEDIUM\",8.0],[\"MEDIUM\",9.0],[\"MEDIUM\",10.0],[\"MEDIUM\",11.0],[\"MEDIUM\",12.0],[\"MEDIUM\",13.0],[\"MEDIUM\",14.0],[\"MEDIUM\",15.0],[\"MEDIUM\",16.0],[\"MEDIUM\",17.0],[\"MEDIUM\",18.0],[\"MEDIUM\",19.0],[\"MEDIUM\",20.0],[\"MEDIUM\",21.0],[\"MEDIUM\",22.0],[\"MEDIUM\",23.0],[\"MEDIUM\",24.0],[\"MEDIUM\",25.0],[\"MEDIUM\",26.0],[\"MEDIUM\",27.0],[\"MEDIUM\",28.0],[\"HARD\",8.0],[\"HARD\",9.0],[\"HARD\",10.0],[\"HARD\",11.0],[\"HARD\",12.0],[\"HARD\",13.0],[\"HARD\",14.0],[\"HARD\",15.0],[\"HARD\",16.0],[\"HARD\",17.0],[\"HARD\",18.0],[\"HARD\",19.0],[\"HARD\",20.0],[\"HARD\",21.0],[\"HARD\",22.0],[\"HARD\",23.0],[\"HARD\",24.0],[\"HARD\",25.0],[\"SOFT\",1.0],[\"SOFT\",2.0],[\"SOFT\",3.0]],\"hovertemplate\":\"Driver=SAR<br>Lap Number=%{x}<br>Driver's Position=%{y}<br>Compound=%{customdata[0]}<br>TyreLife=%{customdata[1]}<extra></extra>\",\"legendgroup\":\"SAR\",\"line\":{\"color\":\"#ab63fa\",\"dash\":\"solid\"},\"marker\":{\"symbol\":\"circle\"},\"mode\":\"lines\",\"name\":\"SAR\",\"showlegend\":true,\"x\":[1.0,2.0,3.0,4.0,5.0,6.0,7.0,8.0,9.0,10.0,11.0,12.0,13.0,14.0,15.0,16.0,17.0,18.0,19.0,20.0,21.0,22.0,23.0,24.0,25.0,26.0,27.0,28.0,29.0,30.0,31.0,32.0,33.0,34.0,35.0,36.0,37.0,38.0,39.0,40.0,41.0,42.0,43.0,44.0,45.0,46.0,47.0,48.0,49.0,50.0,51.0,52.0,53.0,54.0,55.0,56.0,57.0],\"xaxis\":\"x\",\"y\":[18.0,17,19,19,19,19,19,17,17,17,15,15,15,16,16,16,16,16,15,15,15,15,15,15,15,15,15,15,15,15,15,15,15,15,15,16,17,17,17,17,17,17,17,17,17,16,16,16,16,16,16,16,16,15,15,15,16],\"yaxis\":\"y\",\"type\":\"scattergl\"},{\"customdata\":[[\"MEDIUM\",1.0],[\"MEDIUM\",2.0],[\"MEDIUM\",3.0],[\"MEDIUM\",4.0],[\"MEDIUM\",5.0],[\"MEDIUM\",6.0],[\"MEDIUM\",7.0],[\"HARD\",1.0],[\"HARD\",2.0],[\"HARD\",3.0],[\"HARD\",4.0],[\"HARD\",5.0],[\"HARD\",6.0],[\"HARD\",7.0],[\"HARD\",8.0],[\"HARD\",9.0],[\"HARD\",10.0],[\"HARD\",11.0],[\"HARD\",12.0],[\"HARD\",13.0],[\"HARD\",14.0],[\"HARD\",15.0],[\"HARD\",16.0],[\"HARD\",17.0],[\"HARD\",18.0],[\"HARD\",19.0],[\"HARD\",20.0],[\"HARD\",21.0],[\"HARD\",22.0],[\"HARD\",23.0],[\"HARD\",24.0],[\"HARD\",25.0],[\"HARD\",26.0],[\"HARD\",27.0],[\"HARD\",28.0],[\"HARD\",29.0],[\"HARD\",30.0],[\"HARD\",31.0],[\"HARD\",32.0],[\"HARD\",33.0],[\"HARD\",34.0],[\"HARD\",35.0],[\"HARD\",36.0],[\"HARD\",37.0],[\"HARD\",38.0],[\"HARD\",39.0],[\"HARD\",40.0],[\"HARD\",41.0],[\"HARD\",42.0],[\"HARD\",43.0],[\"HARD\",44.0],[\"HARD\",45.0],[\"HARD\",46.0]],\"hovertemplate\":\"Driver=MAG<br>Lap Number=%{x}<br>Driver's Position=%{y}<br>Compound=%{customdata[0]}<br>TyreLife=%{customdata[1]}<extra></extra>\",\"legendgroup\":\"MAG\",\"line\":{\"color\":\"#FFA15A\",\"dash\":\"solid\"},\"marker\":{\"symbol\":\"circle\"},\"mode\":\"lines\",\"name\":\"MAG\",\"showlegend\":true,\"x\":[1.0,2.0,3.0,4.0,5.0,6.0,7.0,8.0,9.0,10.0,11.0,12.0,13.0,14.0,15.0,16.0,17.0,18.0,19.0,20.0,21.0,22.0,23.0,24.0,25.0,26.0,27.0,28.0,29.0,30.0,31.0,32.0,33.0,34.0,35.0,36.0,37.0,38.0,39.0,40.0,41.0,42.0,43.0,44.0,45.0,46.0,47.0,48.0,49.0,50.0,51.0,52.0,53.0],\"xaxis\":\"x\",\"y\":[14.0,12,12,12,12,12,12,18,18,18,14,14,14,14,14,15,15,15,14,14,14,14,14,14,14,14,14,14,14,14,14,14,14,14,14,13,12,12,12,12,12,12,12,12,12,12,12,12,12,12,12,12,12],\"yaxis\":\"y\",\"type\":\"scattergl\"},{\"customdata\":[[\"MEDIUM\",1.0],[\"MEDIUM\",2.0],[\"MEDIUM\",3.0],[\"MEDIUM\",4.0],[\"MEDIUM\",5.0],[\"MEDIUM\",6.0],[\"MEDIUM\",7.0],[\"HARD\",1.0],[\"HARD\",2.0],[\"HARD\",3.0],[\"HARD\",4.0],[\"HARD\",5.0],[\"HARD\",6.0],[\"HARD\",7.0],[\"HARD\",8.0],[\"HARD\",9.0],[\"HARD\",10.0],[\"HARD\",11.0]],\"hovertemplate\":\"Driver=RUS<br>Lap Number=%{x}<br>Driver's Position=%{y}<br>Compound=%{customdata[0]}<br>TyreLife=%{customdata[1]}<extra></extra>\",\"legendgroup\":\"RUS\",\"line\":{\"color\":\"#19d3f3\",\"dash\":\"solid\"},\"marker\":{\"symbol\":\"circle\"},\"mode\":\"lines\",\"name\":\"RUS\",\"showlegend\":true,\"x\":[1.0,2.0,3.0,4.0,5.0,6.0,7.0,8.0,9.0,10.0,11.0,12.0,13.0,14.0,15.0,16.0,17.0,18.0],\"xaxis\":\"x\",\"y\":[2.0,1,1,1,1,1,1,7,7,7,5,5,5,4,4,4,4,14],\"yaxis\":\"y\",\"type\":\"scattergl\"},{\"customdata\":[[\"MEDIUM\",1.0],[\"MEDIUM\",2.0],[\"MEDIUM\",3.0],[\"MEDIUM\",4.0],[\"MEDIUM\",5.0],[\"MEDIUM\",6.0],[\"MEDIUM\",7.0]],\"hovertemplate\":\"Driver=ALB<br>Lap Number=%{x}<br>Driver's Position=%{y}<br>Compound=%{customdata[0]}<br>TyreLife=%{customdata[1]}<extra></extra>\",\"legendgroup\":\"ALB\",\"line\":{\"color\":\"#FF6692\",\"dash\":\"solid\"},\"marker\":{\"symbol\":\"circle\"},\"mode\":\"lines\",\"name\":\"ALB\",\"showlegend\":true,\"x\":[1.0,2.0,3.0,4.0,5.0,6.0,7.0],\"xaxis\":\"x\",\"y\":[8.0,6,6,6,6,6,6],\"yaxis\":\"y\",\"type\":\"scattergl\"},{\"customdata\":[[\"MEDIUM\",1.0],[\"MEDIUM\",2.0],[\"MEDIUM\",3.0],[\"MEDIUM\",4.0],[\"MEDIUM\",5.0],[\"MEDIUM\",6.0],[\"MEDIUM\",7.0],[\"HARD\",1.0],[\"HARD\",2.0],[\"HARD\",3.0],[\"HARD\",4.0],[\"HARD\",5.0],[\"HARD\",6.0],[\"HARD\",7.0],[\"HARD\",8.0],[\"HARD\",9.0],[\"HARD\",10.0],[\"HARD\",11.0],[\"HARD\",12.0],[\"HARD\",13.0],[\"HARD\",14.0],[\"HARD\",15.0],[\"HARD\",16.0],[\"HARD\",17.0],[\"HARD\",18.0],[\"HARD\",19.0],[\"HARD\",20.0],[\"HARD\",21.0],[\"HARD\",22.0],[\"HARD\",23.0],[\"HARD\",24.0],[\"HARD\",25.0],[\"HARD\",26.0],[\"HARD\",27.0],[\"HARD\",28.0],[\"HARD\",29.0],[\"HARD\",30.0],[\"HARD\",31.0],[\"HARD\",32.0],[\"HARD\",33.0],[\"HARD\",34.0],[\"HARD\",35.0],[\"HARD\",36.0],[\"HARD\",37.0],[\"HARD\",38.0],[\"HARD\",39.0],[\"HARD\",40.0],[\"HARD\",41.0],[\"HARD\",42.0],[\"HARD\",43.0],[\"HARD\",44.0],[\"HARD\",45.0],[\"HARD\",46.0],[\"HARD\",47.0],[\"HARD\",48.0],[\"SOFT\",5.0],[\"SOFT\",6.0],[\"SOFT\",5.0]],\"hovertemplate\":\"Driver=SAI<br>Lap Number=%{x}<br>Driver's Position=%{y}<br>Compound=%{customdata[0]}<br>TyreLife=%{customdata[1]}<extra></extra>\",\"legendgroup\":\"SAI\",\"line\":{\"color\":\"#B6E880\",\"dash\":\"solid\"},\"marker\":{\"symbol\":\"circle\"},\"mode\":\"lines\",\"name\":\"SAI\",\"showlegend\":true,\"x\":[1.0,2.0,3.0,4.0,5.0,6.0,7.0,8.0,9.0,10.0,11.0,12.0,13.0,14.0,15.0,16.0,17.0,18.0,19.0,20.0,21.0,22.0,23.0,24.0,25.0,26.0,27.0,28.0,29.0,30.0,31.0,32.0,33.0,34.0,35.0,36.0,37.0,38.0,39.0,40.0,41.0,42.0,43.0,44.0,45.0,46.0,47.0,48.0,49.0,50.0,51.0,52.0,53.0,54.0,55.0,56.0,57.0,58.0],\"xaxis\":\"x\",\"y\":[5.0,4,4,4,4,4,4,8,11,11,10,9,8,8,7,6,6,5,5,5,5,5,5,5,5,4,4,4,4,4,4,4,4,4,4,4,4,4,4,4,4,4,4,4,4,4,4,4,4,4,4,4,4,4,4,4,4,4],\"yaxis\":\"y\",\"type\":\"scattergl\"},{\"customdata\":[[\"MEDIUM\",1.0],[\"MEDIUM\",2.0],[\"MEDIUM\",3.0],[\"MEDIUM\",4.0],[\"MEDIUM\",5.0],[\"MEDIUM\",6.0],[\"MEDIUM\",7.0],[\"MEDIUM\",8.0],[\"HARD\",1.0],[\"HARD\",2.0],[\"HARD\",3.0],[\"HARD\",4.0],[\"HARD\",5.0],[\"HARD\",6.0],[\"HARD\",7.0],[\"HARD\",8.0],[\"HARD\",9.0],[\"HARD\",10.0],[\"HARD\",11.0],[\"HARD\",12.0],[\"HARD\",13.0],[\"HARD\",14.0],[\"HARD\",15.0],[\"HARD\",16.0],[\"HARD\",17.0],[\"HARD\",18.0],[\"HARD\",19.0],[\"HARD\",20.0],[\"HARD\",21.0],[\"HARD\",22.0],[\"HARD\",23.0],[\"HARD\",24.0],[\"HARD\",25.0],[\"HARD\",26.0],[\"HARD\",27.0],[\"HARD\",28.0],[\"HARD\",29.0],[\"HARD\",30.0],[\"HARD\",31.0],[\"HARD\",32.0],[\"HARD\",33.0],[\"HARD\",34.0],[\"HARD\",35.0],[\"HARD\",36.0],[\"HARD\",37.0],[\"HARD\",38.0],[\"HARD\",39.0],[\"HARD\",40.0],[\"HARD\",41.0],[\"HARD\",42.0],[\"HARD\",43.0],[\"HARD\",44.0],[\"HARD\",45.0],[\"HARD\",46.0],[\"HARD\",47.0],[\"SOFT\",5.0],[\"SOFT\",6.0],[\"SOFT\",5.0]],\"hovertemplate\":\"Driver=HAM<br>Lap Number=%{x}<br>Driver's Position=%{y}<br>Compound=%{customdata[0]}<br>TyreLife=%{customdata[1]}<extra></extra>\",\"legendgroup\":\"HAM\",\"line\":{\"color\":\"#FF97FF\",\"dash\":\"solid\"},\"marker\":{\"symbol\":\"circle\"},\"mode\":\"lines\",\"name\":\"HAM\",\"showlegend\":true,\"x\":[1.0,2.0,3.0,4.0,5.0,6.0,7.0,8.0,9.0,10.0,11.0,12.0,13.0,14.0,15.0,16.0,17.0,18.0,19.0,20.0,21.0,22.0,23.0,24.0,25.0,26.0,27.0,28.0,29.0,30.0,31.0,32.0,33.0,34.0,35.0,36.0,37.0,38.0,39.0,40.0,41.0,42.0,43.0,44.0,45.0,46.0,47.0,48.0,49.0,50.0,51.0,52.0,53.0,54.0,55.0,56.0,57.0,58.0],\"xaxis\":\"x\",\"y\":[3.0,2,2,2,2,2,2,1,1,1,1,1,2,2,2,2,2,2,2,2,2,2,2,2,2,2,2,2,2,2,2,2,2,2,2,2,2,2,2,2,2,2,2,2,2,2,2,2,2,2,2,2,2,2,2,2,2,2],\"yaxis\":\"y\",\"type\":\"scattergl\"},{\"customdata\":[[\"MEDIUM\",1.0]],\"hovertemplate\":\"Driver=LEC<br>Lap Number=%{x}<br>Driver's Position=%{y}<br>Compound=%{customdata[0]}<br>TyreLife=%{customdata[1]}<extra></extra>\",\"legendgroup\":\"LEC\",\"line\":{\"color\":\"#FECB52\",\"dash\":\"solid\"},\"marker\":{\"symbol\":\"circle\"},\"mode\":\"lines\",\"name\":\"LEC\",\"showlegend\":true,\"x\":[0.0],\"xaxis\":\"x\",\"y\":[\"\"],\"yaxis\":\"y\",\"type\":\"scattergl\"}],                        {\"template\":{\"data\":{\"histogram2dcontour\":[{\"type\":\"histogram2dcontour\",\"colorbar\":{\"outlinewidth\":0,\"ticks\":\"\"},\"colorscale\":[[0.0,\"#0d0887\"],[0.1111111111111111,\"#46039f\"],[0.2222222222222222,\"#7201a8\"],[0.3333333333333333,\"#9c179e\"],[0.4444444444444444,\"#bd3786\"],[0.5555555555555556,\"#d8576b\"],[0.6666666666666666,\"#ed7953\"],[0.7777777777777778,\"#fb9f3a\"],[0.8888888888888888,\"#fdca26\"],[1.0,\"#f0f921\"]]}],\"choropleth\":[{\"type\":\"choropleth\",\"colorbar\":{\"outlinewidth\":0,\"ticks\":\"\"}}],\"histogram2d\":[{\"type\":\"histogram2d\",\"colorbar\":{\"outlinewidth\":0,\"ticks\":\"\"},\"colorscale\":[[0.0,\"#0d0887\"],[0.1111111111111111,\"#46039f\"],[0.2222222222222222,\"#7201a8\"],[0.3333333333333333,\"#9c179e\"],[0.4444444444444444,\"#bd3786\"],[0.5555555555555556,\"#d8576b\"],[0.6666666666666666,\"#ed7953\"],[0.7777777777777778,\"#fb9f3a\"],[0.8888888888888888,\"#fdca26\"],[1.0,\"#f0f921\"]]}],\"heatmap\":[{\"type\":\"heatmap\",\"colorbar\":{\"outlinewidth\":0,\"ticks\":\"\"},\"colorscale\":[[0.0,\"#0d0887\"],[0.1111111111111111,\"#46039f\"],[0.2222222222222222,\"#7201a8\"],[0.3333333333333333,\"#9c179e\"],[0.4444444444444444,\"#bd3786\"],[0.5555555555555556,\"#d8576b\"],[0.6666666666666666,\"#ed7953\"],[0.7777777777777778,\"#fb9f3a\"],[0.8888888888888888,\"#fdca26\"],[1.0,\"#f0f921\"]]}],\"heatmapgl\":[{\"type\":\"heatmapgl\",\"colorbar\":{\"outlinewidth\":0,\"ticks\":\"\"},\"colorscale\":[[0.0,\"#0d0887\"],[0.1111111111111111,\"#46039f\"],[0.2222222222222222,\"#7201a8\"],[0.3333333333333333,\"#9c179e\"],[0.4444444444444444,\"#bd3786\"],[0.5555555555555556,\"#d8576b\"],[0.6666666666666666,\"#ed7953\"],[0.7777777777777778,\"#fb9f3a\"],[0.8888888888888888,\"#fdca26\"],[1.0,\"#f0f921\"]]}],\"contourcarpet\":[{\"type\":\"contourcarpet\",\"colorbar\":{\"outlinewidth\":0,\"ticks\":\"\"}}],\"contour\":[{\"type\":\"contour\",\"colorbar\":{\"outlinewidth\":0,\"ticks\":\"\"},\"colorscale\":[[0.0,\"#0d0887\"],[0.1111111111111111,\"#46039f\"],[0.2222222222222222,\"#7201a8\"],[0.3333333333333333,\"#9c179e\"],[0.4444444444444444,\"#bd3786\"],[0.5555555555555556,\"#d8576b\"],[0.6666666666666666,\"#ed7953\"],[0.7777777777777778,\"#fb9f3a\"],[0.8888888888888888,\"#fdca26\"],[1.0,\"#f0f921\"]]}],\"surface\":[{\"type\":\"surface\",\"colorbar\":{\"outlinewidth\":0,\"ticks\":\"\"},\"colorscale\":[[0.0,\"#0d0887\"],[0.1111111111111111,\"#46039f\"],[0.2222222222222222,\"#7201a8\"],[0.3333333333333333,\"#9c179e\"],[0.4444444444444444,\"#bd3786\"],[0.5555555555555556,\"#d8576b\"],[0.6666666666666666,\"#ed7953\"],[0.7777777777777778,\"#fb9f3a\"],[0.8888888888888888,\"#fdca26\"],[1.0,\"#f0f921\"]]}],\"mesh3d\":[{\"type\":\"mesh3d\",\"colorbar\":{\"outlinewidth\":0,\"ticks\":\"\"}}],\"scatter\":[{\"fillpattern\":{\"fillmode\":\"overlay\",\"size\":10,\"solidity\":0.2},\"type\":\"scatter\"}],\"parcoords\":[{\"type\":\"parcoords\",\"line\":{\"colorbar\":{\"outlinewidth\":0,\"ticks\":\"\"}}}],\"scatterpolargl\":[{\"type\":\"scatterpolargl\",\"marker\":{\"colorbar\":{\"outlinewidth\":0,\"ticks\":\"\"}}}],\"bar\":[{\"error_x\":{\"color\":\"#2a3f5f\"},\"error_y\":{\"color\":\"#2a3f5f\"},\"marker\":{\"line\":{\"color\":\"#E5ECF6\",\"width\":0.5},\"pattern\":{\"fillmode\":\"overlay\",\"size\":10,\"solidity\":0.2}},\"type\":\"bar\"}],\"scattergeo\":[{\"type\":\"scattergeo\",\"marker\":{\"colorbar\":{\"outlinewidth\":0,\"ticks\":\"\"}}}],\"scatterpolar\":[{\"type\":\"scatterpolar\",\"marker\":{\"colorbar\":{\"outlinewidth\":0,\"ticks\":\"\"}}}],\"histogram\":[{\"marker\":{\"pattern\":{\"fillmode\":\"overlay\",\"size\":10,\"solidity\":0.2}},\"type\":\"histogram\"}],\"scattergl\":[{\"type\":\"scattergl\",\"marker\":{\"colorbar\":{\"outlinewidth\":0,\"ticks\":\"\"}}}],\"scatter3d\":[{\"type\":\"scatter3d\",\"line\":{\"colorbar\":{\"outlinewidth\":0,\"ticks\":\"\"}},\"marker\":{\"colorbar\":{\"outlinewidth\":0,\"ticks\":\"\"}}}],\"scattermapbox\":[{\"type\":\"scattermapbox\",\"marker\":{\"colorbar\":{\"outlinewidth\":0,\"ticks\":\"\"}}}],\"scatterternary\":[{\"type\":\"scatterternary\",\"marker\":{\"colorbar\":{\"outlinewidth\":0,\"ticks\":\"\"}}}],\"scattercarpet\":[{\"type\":\"scattercarpet\",\"marker\":{\"colorbar\":{\"outlinewidth\":0,\"ticks\":\"\"}}}],\"carpet\":[{\"aaxis\":{\"endlinecolor\":\"#2a3f5f\",\"gridcolor\":\"white\",\"linecolor\":\"white\",\"minorgridcolor\":\"white\",\"startlinecolor\":\"#2a3f5f\"},\"baxis\":{\"endlinecolor\":\"#2a3f5f\",\"gridcolor\":\"white\",\"linecolor\":\"white\",\"minorgridcolor\":\"white\",\"startlinecolor\":\"#2a3f5f\"},\"type\":\"carpet\"}],\"table\":[{\"cells\":{\"fill\":{\"color\":\"#EBF0F8\"},\"line\":{\"color\":\"white\"}},\"header\":{\"fill\":{\"color\":\"#C8D4E3\"},\"line\":{\"color\":\"white\"}},\"type\":\"table\"}],\"barpolar\":[{\"marker\":{\"line\":{\"color\":\"#E5ECF6\",\"width\":0.5},\"pattern\":{\"fillmode\":\"overlay\",\"size\":10,\"solidity\":0.2}},\"type\":\"barpolar\"}],\"pie\":[{\"automargin\":true,\"type\":\"pie\"}]},\"layout\":{\"autotypenumbers\":\"strict\",\"colorway\":[\"#636efa\",\"#EF553B\",\"#00cc96\",\"#ab63fa\",\"#FFA15A\",\"#19d3f3\",\"#FF6692\",\"#B6E880\",\"#FF97FF\",\"#FECB52\"],\"font\":{\"color\":\"#2a3f5f\"},\"hovermode\":\"closest\",\"hoverlabel\":{\"align\":\"left\"},\"paper_bgcolor\":\"white\",\"plot_bgcolor\":\"#E5ECF6\",\"polar\":{\"bgcolor\":\"#E5ECF6\",\"angularaxis\":{\"gridcolor\":\"white\",\"linecolor\":\"white\",\"ticks\":\"\"},\"radialaxis\":{\"gridcolor\":\"white\",\"linecolor\":\"white\",\"ticks\":\"\"}},\"ternary\":{\"bgcolor\":\"#E5ECF6\",\"aaxis\":{\"gridcolor\":\"white\",\"linecolor\":\"white\",\"ticks\":\"\"},\"baxis\":{\"gridcolor\":\"white\",\"linecolor\":\"white\",\"ticks\":\"\"},\"caxis\":{\"gridcolor\":\"white\",\"linecolor\":\"white\",\"ticks\":\"\"}},\"coloraxis\":{\"colorbar\":{\"outlinewidth\":0,\"ticks\":\"\"}},\"colorscale\":{\"sequential\":[[0.0,\"#0d0887\"],[0.1111111111111111,\"#46039f\"],[0.2222222222222222,\"#7201a8\"],[0.3333333333333333,\"#9c179e\"],[0.4444444444444444,\"#bd3786\"],[0.5555555555555556,\"#d8576b\"],[0.6666666666666666,\"#ed7953\"],[0.7777777777777778,\"#fb9f3a\"],[0.8888888888888888,\"#fdca26\"],[1.0,\"#f0f921\"]],\"sequentialminus\":[[0.0,\"#0d0887\"],[0.1111111111111111,\"#46039f\"],[0.2222222222222222,\"#7201a8\"],[0.3333333333333333,\"#9c179e\"],[0.4444444444444444,\"#bd3786\"],[0.5555555555555556,\"#d8576b\"],[0.6666666666666666,\"#ed7953\"],[0.7777777777777778,\"#fb9f3a\"],[0.8888888888888888,\"#fdca26\"],[1.0,\"#f0f921\"]],\"diverging\":[[0,\"#8e0152\"],[0.1,\"#c51b7d\"],[0.2,\"#de77ae\"],[0.3,\"#f1b6da\"],[0.4,\"#fde0ef\"],[0.5,\"#f7f7f7\"],[0.6,\"#e6f5d0\"],[0.7,\"#b8e186\"],[0.8,\"#7fbc41\"],[0.9,\"#4d9221\"],[1,\"#276419\"]]},\"xaxis\":{\"gridcolor\":\"white\",\"linecolor\":\"white\",\"ticks\":\"\",\"title\":{\"standoff\":15},\"zerolinecolor\":\"white\",\"automargin\":true,\"zerolinewidth\":2},\"yaxis\":{\"gridcolor\":\"white\",\"linecolor\":\"white\",\"ticks\":\"\",\"title\":{\"standoff\":15},\"zerolinecolor\":\"white\",\"automargin\":true,\"zerolinewidth\":2},\"scene\":{\"xaxis\":{\"backgroundcolor\":\"#E5ECF6\",\"gridcolor\":\"white\",\"linecolor\":\"white\",\"showbackground\":true,\"ticks\":\"\",\"zerolinecolor\":\"white\",\"gridwidth\":2},\"yaxis\":{\"backgroundcolor\":\"#E5ECF6\",\"gridcolor\":\"white\",\"linecolor\":\"white\",\"showbackground\":true,\"ticks\":\"\",\"zerolinecolor\":\"white\",\"gridwidth\":2},\"zaxis\":{\"backgroundcolor\":\"#E5ECF6\",\"gridcolor\":\"white\",\"linecolor\":\"white\",\"showbackground\":true,\"ticks\":\"\",\"zerolinecolor\":\"white\",\"gridwidth\":2}},\"shapedefaults\":{\"line\":{\"color\":\"#2a3f5f\"}},\"annotationdefaults\":{\"arrowcolor\":\"#2a3f5f\",\"arrowhead\":0,\"arrowwidth\":1},\"geo\":{\"bgcolor\":\"white\",\"landcolor\":\"#E5ECF6\",\"subunitcolor\":\"white\",\"showland\":true,\"showlakes\":true,\"lakecolor\":\"white\"},\"title\":{\"x\":0.05},\"mapbox\":{\"style\":\"light\"}}},\"xaxis\":{\"anchor\":\"y\",\"domain\":[0.0,1.0],\"title\":{\"text\":\"Lap Number\"}},\"yaxis\":{\"anchor\":\"x\",\"domain\":[0.0,1.0],\"title\":{\"text\":\"Driver's Position\"},\"autorange\":\"reversed\"},\"legend\":{\"title\":{\"text\":\"Driver\"},\"tracegroupgap\":0},\"title\":{\"text\":\"Australian Grand Prix 2023 Driver's Position\"}},                        {\"responsive\": true}                    ).then(function(){\n",
       "                            \n",
       "var gd = document.getElementById('3efe55e7-f30c-4a73-84d9-87d63442e893');\n",
       "var x = new MutationObserver(function (mutations, observer) {{\n",
       "        var display = window.getComputedStyle(gd).display;\n",
       "        if (!display || display === 'none') {{\n",
       "            console.log([gd, 'removed!']);\n",
       "            Plotly.purge(gd);\n",
       "            observer.disconnect();\n",
       "        }}\n",
       "}});\n",
       "\n",
       "// Listen for the removal of the full notebook cells\n",
       "var notebookContainer = gd.closest('#notebook-container');\n",
       "if (notebookContainer) {{\n",
       "    x.observe(notebookContainer, {childList: true});\n",
       "}}\n",
       "\n",
       "// Listen for the clearing of the current output cell\n",
       "var outputEl = gd.closest('.output');\n",
       "if (outputEl) {{\n",
       "    x.observe(outputEl, {childList: true});\n",
       "}}\n",
       "\n",
       "                        })                };                });            </script>        </div>"
      ]
     },
     "metadata": {},
     "output_type": "display_data"
    }
   ],
   "source": [
    "fig = px.line(laps, x=\"LapNumber\", y='Position',color='Driver',\n",
    "              hover_data=['LapNumber','Compound', 'TyreLife', 'Position'] , \n",
    "              title='Australian Grand Prix 2023 Driver\\'s Position',\n",
    "             labels=dict(LapNumber='Lap Number', Position='Driver\\'s Position'))\n",
    "fig.update_layout(yaxis = dict(autorange=\"reversed\"))\n",
    "fig.show()\n",
    "fig.write_html(\"Driver_Position.html\")"
   ]
  }
 ],
 "metadata": {
  "kernelspec": {
   "display_name": "Python 3 (ipykernel)",
   "language": "python",
   "name": "python3"
  },
  "language_info": {
   "codemirror_mode": {
    "name": "ipython",
    "version": 3
   },
   "file_extension": ".py",
   "mimetype": "text/x-python",
   "name": "python",
   "nbconvert_exporter": "python",
   "pygments_lexer": "ipython3",
   "version": "3.9.7"
  }
 },
 "nbformat": 4,
 "nbformat_minor": 5
}
